{
 "cells": [
  {
   "cell_type": "markdown",
   "id": "helpful-extent",
   "metadata": {},
   "source": [
    "TASK 1"
   ]
  },
  {
   "cell_type": "code",
   "execution_count": 1,
   "id": "major-skating",
   "metadata": {},
   "outputs": [],
   "source": [
    "import os\n",
    "\n",
    "import numpy as np\n",
    "from sklearn import tree\n",
    "from sklearn.tree import DecisionTreeClassifier\n",
    "from sklearn import datasets\n",
    "from sklearn.model_selection import train_test_split, RepeatedStratifiedKFold, KFold\n",
    "from sklearn.model_selection import cross_val_score\n",
    "from sklearn.metrics import accuracy_score\n",
    "from sklearn.metrics import classification_report\n",
    "from sklearn.ensemble import RandomForestClassifier\n",
    "import matplotlib.pyplot as plt\n",
    "from autorank import autorank, create_report, plot_stats\n",
    "import pandas as pd\n",
    "from pandas.api.types import CategoricalDtype\n",
    "from matplotlib import pyplot\n",
    "from sklearn.svm import SVC\n",
    "from sklearn.metrics import roc_curve, roc_auc_score\n",
    "from sklearn.model_selection import GridSearchCV"
   ]
  },
  {
   "cell_type": "code",
   "execution_count": 2,
   "id": "second-alexander",
   "metadata": {},
   "outputs": [],
   "source": [
    "%load_ext autoreload\n",
    "%autoreload 2"
   ]
  },
  {
   "cell_type": "code",
   "execution_count": 3,
   "id": "olympic-fleece",
   "metadata": {},
   "outputs": [],
   "source": [
    "RANDOM_STATE = 1345\n",
    "np.random.seed(RANDOM_STATE)"
   ]
  },
  {
   "cell_type": "code",
   "execution_count": 4,
   "id": "linear-trance",
   "metadata": {},
   "outputs": [
    {
     "name": "stdout",
     "output_type": "stream",
     "text": [
      "data\\data_A2.csv\n",
      "data\\labels_A2.csv\n"
     ]
    }
   ],
   "source": [
    "PATH_data_A2 = os.path.join('data', 'data_A2.csv')\n",
    "print(PATH_data_A2)\n",
    "PATH_labels_A2 = os.path.join('data', 'labels_A2.csv')\n",
    "print(PATH_labels_A2)\n"
   ]
  },
  {
   "cell_type": "code",
   "execution_count": 5,
   "id": "turned-presence",
   "metadata": {},
   "outputs": [
    {
     "data": {
      "text/html": [
       "<div>\n",
       "<style scoped>\n",
       "    .dataframe tbody tr th:only-of-type {\n",
       "        vertical-align: middle;\n",
       "    }\n",
       "\n",
       "    .dataframe tbody tr th {\n",
       "        vertical-align: top;\n",
       "    }\n",
       "\n",
       "    .dataframe thead th {\n",
       "        text-align: right;\n",
       "    }\n",
       "</style>\n",
       "<table border=\"1\" class=\"dataframe\">\n",
       "  <thead>\n",
       "    <tr style=\"text-align: right;\">\n",
       "      <th></th>\n",
       "      <th>0</th>\n",
       "      <th>1</th>\n",
       "      <th>2</th>\n",
       "      <th>3</th>\n",
       "      <th>4</th>\n",
       "      <th>5</th>\n",
       "      <th>6</th>\n",
       "      <th>7</th>\n",
       "      <th>8</th>\n",
       "      <th>9</th>\n",
       "      <th>...</th>\n",
       "      <th>90</th>\n",
       "      <th>91</th>\n",
       "      <th>92</th>\n",
       "      <th>93</th>\n",
       "      <th>94</th>\n",
       "      <th>95</th>\n",
       "      <th>96</th>\n",
       "      <th>97</th>\n",
       "      <th>98</th>\n",
       "      <th>99</th>\n",
       "    </tr>\n",
       "  </thead>\n",
       "  <tbody>\n",
       "    <tr>\n",
       "      <th>0</th>\n",
       "      <td>NaN</td>\n",
       "      <td>-0.176595</td>\n",
       "      <td>-4.126644</td>\n",
       "      <td>-2.390884</td>\n",
       "      <td>-1.366659</td>\n",
       "      <td>-0.460177</td>\n",
       "      <td>1.521421</td>\n",
       "      <td>5.328470</td>\n",
       "      <td>-2.919639</td>\n",
       "      <td>-6.216557</td>\n",
       "      <td>...</td>\n",
       "      <td>-1.919015</td>\n",
       "      <td>-1.603442</td>\n",
       "      <td>-0.867395</td>\n",
       "      <td>-1.825951</td>\n",
       "      <td>-2.390884</td>\n",
       "      <td>4.107535</td>\n",
       "      <td>3.817897</td>\n",
       "      <td>-0.823303</td>\n",
       "      <td>-5.271267</td>\n",
       "      <td>2.353398</td>\n",
       "    </tr>\n",
       "    <tr>\n",
       "      <th>1</th>\n",
       "      <td>0.267386</td>\n",
       "      <td>NaN</td>\n",
       "      <td>-1.820798</td>\n",
       "      <td>1.540020</td>\n",
       "      <td>1.656770</td>\n",
       "      <td>0.447912</td>\n",
       "      <td>6.484100</td>\n",
       "      <td>2.356129</td>\n",
       "      <td>-1.129611</td>\n",
       "      <td>3.195601</td>\n",
       "      <td>...</td>\n",
       "      <td>1.394421</td>\n",
       "      <td>-1.872976</td>\n",
       "      <td>-0.382098</td>\n",
       "      <td>-1.980864</td>\n",
       "      <td>1.540020</td>\n",
       "      <td>-1.267888</td>\n",
       "      <td>-1.843256</td>\n",
       "      <td>1.105676</td>\n",
       "      <td>-0.344550</td>\n",
       "      <td>-6.653773</td>\n",
       "    </tr>\n",
       "    <tr>\n",
       "      <th>2</th>\n",
       "      <td>2.946515</td>\n",
       "      <td>-1.594067</td>\n",
       "      <td>NaN</td>\n",
       "      <td>0.403844</td>\n",
       "      <td>-1.733342</td>\n",
       "      <td>0.274193</td>\n",
       "      <td>2.960081</td>\n",
       "      <td>0.326221</td>\n",
       "      <td>0.393324</td>\n",
       "      <td>0.229915</td>\n",
       "      <td>...</td>\n",
       "      <td>-0.290845</td>\n",
       "      <td>-0.076589</td>\n",
       "      <td>-4.660688</td>\n",
       "      <td>-1.652196</td>\n",
       "      <td>0.403844</td>\n",
       "      <td>-4.317565</td>\n",
       "      <td>-2.506476</td>\n",
       "      <td>3.422634</td>\n",
       "      <td>-0.272146</td>\n",
       "      <td>-3.345401</td>\n",
       "    </tr>\n",
       "    <tr>\n",
       "      <th>3</th>\n",
       "      <td>-4.581082</td>\n",
       "      <td>-0.001274</td>\n",
       "      <td>1.197022</td>\n",
       "      <td>NaN</td>\n",
       "      <td>-0.416290</td>\n",
       "      <td>-1.941236</td>\n",
       "      <td>0.290991</td>\n",
       "      <td>0.507716</td>\n",
       "      <td>-0.397205</td>\n",
       "      <td>4.399152</td>\n",
       "      <td>...</td>\n",
       "      <td>1.046033</td>\n",
       "      <td>-4.498888</td>\n",
       "      <td>7.150844</td>\n",
       "      <td>0.722794</td>\n",
       "      <td>-2.944502</td>\n",
       "      <td>-0.081950</td>\n",
       "      <td>0.186089</td>\n",
       "      <td>-7.066950</td>\n",
       "      <td>2.488842</td>\n",
       "      <td>-2.770303</td>\n",
       "    </tr>\n",
       "    <tr>\n",
       "      <th>4</th>\n",
       "      <td>-2.123360</td>\n",
       "      <td>-0.266587</td>\n",
       "      <td>1.781999</td>\n",
       "      <td>-0.039342</td>\n",
       "      <td>NaN</td>\n",
       "      <td>0.895856</td>\n",
       "      <td>3.756880</td>\n",
       "      <td>-4.583167</td>\n",
       "      <td>1.652762</td>\n",
       "      <td>7.673453</td>\n",
       "      <td>...</td>\n",
       "      <td>1.371734</td>\n",
       "      <td>4.458045</td>\n",
       "      <td>3.576609</td>\n",
       "      <td>-1.538929</td>\n",
       "      <td>-0.039342</td>\n",
       "      <td>-2.613114</td>\n",
       "      <td>-3.117484</td>\n",
       "      <td>-2.125028</td>\n",
       "      <td>0.143158</td>\n",
       "      <td>-8.249535</td>\n",
       "    </tr>\n",
       "  </tbody>\n",
       "</table>\n",
       "<p>5 rows × 100 columns</p>\n",
       "</div>"
      ],
      "text/plain": [
       "         0         1         2         3         4         5         6   \\\n",
       "0       NaN -0.176595 -4.126644 -2.390884 -1.366659 -0.460177  1.521421   \n",
       "1  0.267386       NaN -1.820798  1.540020  1.656770  0.447912  6.484100   \n",
       "2  2.946515 -1.594067       NaN  0.403844 -1.733342  0.274193  2.960081   \n",
       "3 -4.581082 -0.001274  1.197022       NaN -0.416290 -1.941236  0.290991   \n",
       "4 -2.123360 -0.266587  1.781999 -0.039342       NaN  0.895856  3.756880   \n",
       "\n",
       "         7         8         9   ...        90        91        92        93  \\\n",
       "0  5.328470 -2.919639 -6.216557  ... -1.919015 -1.603442 -0.867395 -1.825951   \n",
       "1  2.356129 -1.129611  3.195601  ...  1.394421 -1.872976 -0.382098 -1.980864   \n",
       "2  0.326221  0.393324  0.229915  ... -0.290845 -0.076589 -4.660688 -1.652196   \n",
       "3  0.507716 -0.397205  4.399152  ...  1.046033 -4.498888  7.150844  0.722794   \n",
       "4 -4.583167  1.652762  7.673453  ...  1.371734  4.458045  3.576609 -1.538929   \n",
       "\n",
       "         94        95        96        97        98        99  \n",
       "0 -2.390884  4.107535  3.817897 -0.823303 -5.271267  2.353398  \n",
       "1  1.540020 -1.267888 -1.843256  1.105676 -0.344550 -6.653773  \n",
       "2  0.403844 -4.317565 -2.506476  3.422634 -0.272146 -3.345401  \n",
       "3 -2.944502 -0.081950  0.186089 -7.066950  2.488842 -2.770303  \n",
       "4 -0.039342 -2.613114 -3.117484 -2.125028  0.143158 -8.249535  \n",
       "\n",
       "[5 rows x 100 columns]"
      ]
     },
     "execution_count": 5,
     "metadata": {},
     "output_type": "execute_result"
    }
   ],
   "source": [
    "\n",
    "data= pd.read_csv(PATH_data_A2,header=None)\n",
    "data.head()\n"
   ]
  },
  {
   "cell_type": "code",
   "execution_count": 6,
   "id": "coordinate-zoning",
   "metadata": {},
   "outputs": [
    {
     "data": {
      "text/html": [
       "<div>\n",
       "<style scoped>\n",
       "    .dataframe tbody tr th:only-of-type {\n",
       "        vertical-align: middle;\n",
       "    }\n",
       "\n",
       "    .dataframe tbody tr th {\n",
       "        vertical-align: top;\n",
       "    }\n",
       "\n",
       "    .dataframe thead th {\n",
       "        text-align: right;\n",
       "    }\n",
       "</style>\n",
       "<table border=\"1\" class=\"dataframe\">\n",
       "  <thead>\n",
       "    <tr style=\"text-align: right;\">\n",
       "      <th></th>\n",
       "      <th>Class</th>\n",
       "    </tr>\n",
       "  </thead>\n",
       "  <tbody>\n",
       "    <tr>\n",
       "      <th>0</th>\n",
       "      <td>1.0</td>\n",
       "    </tr>\n",
       "    <tr>\n",
       "      <th>1</th>\n",
       "      <td>0.0</td>\n",
       "    </tr>\n",
       "    <tr>\n",
       "      <th>2</th>\n",
       "      <td>0.0</td>\n",
       "    </tr>\n",
       "    <tr>\n",
       "      <th>3</th>\n",
       "      <td>0.0</td>\n",
       "    </tr>\n",
       "    <tr>\n",
       "      <th>4</th>\n",
       "      <td>1.0</td>\n",
       "    </tr>\n",
       "  </tbody>\n",
       "</table>\n",
       "</div>"
      ],
      "text/plain": [
       "   Class\n",
       "0    1.0\n",
       "1    0.0\n",
       "2    0.0\n",
       "3    0.0\n",
       "4    1.0"
      ]
     },
     "execution_count": 6,
     "metadata": {},
     "output_type": "execute_result"
    }
   ],
   "source": [
    "COLUMN_NAME = ['Class']\n",
    "labels = pd.read_csv(PATH_labels_A2,names=COLUMN_NAME,header=None)\n",
    "labels.head()\n"
   ]
  },
  {
   "cell_type": "code",
   "execution_count": 7,
   "id": "meaning-pierce",
   "metadata": {},
   "outputs": [
    {
     "data": {
      "text/html": [
       "<div>\n",
       "<style scoped>\n",
       "    .dataframe tbody tr th:only-of-type {\n",
       "        vertical-align: middle;\n",
       "    }\n",
       "\n",
       "    .dataframe tbody tr th {\n",
       "        vertical-align: top;\n",
       "    }\n",
       "\n",
       "    .dataframe thead th {\n",
       "        text-align: right;\n",
       "    }\n",
       "</style>\n",
       "<table border=\"1\" class=\"dataframe\">\n",
       "  <thead>\n",
       "    <tr style=\"text-align: right;\">\n",
       "      <th></th>\n",
       "      <th>0</th>\n",
       "      <th>1</th>\n",
       "      <th>2</th>\n",
       "      <th>3</th>\n",
       "      <th>4</th>\n",
       "      <th>5</th>\n",
       "      <th>6</th>\n",
       "      <th>7</th>\n",
       "      <th>8</th>\n",
       "      <th>9</th>\n",
       "      <th>...</th>\n",
       "      <th>91</th>\n",
       "      <th>92</th>\n",
       "      <th>93</th>\n",
       "      <th>94</th>\n",
       "      <th>95</th>\n",
       "      <th>96</th>\n",
       "      <th>97</th>\n",
       "      <th>98</th>\n",
       "      <th>99</th>\n",
       "      <th>Class</th>\n",
       "    </tr>\n",
       "  </thead>\n",
       "  <tbody>\n",
       "    <tr>\n",
       "      <th>0</th>\n",
       "      <td>NaN</td>\n",
       "      <td>-0.176595</td>\n",
       "      <td>-4.126644</td>\n",
       "      <td>-2.390884</td>\n",
       "      <td>-1.366659</td>\n",
       "      <td>-0.460177</td>\n",
       "      <td>1.521421</td>\n",
       "      <td>5.328470</td>\n",
       "      <td>-2.919639</td>\n",
       "      <td>-6.216557</td>\n",
       "      <td>...</td>\n",
       "      <td>-1.603442</td>\n",
       "      <td>-0.867395</td>\n",
       "      <td>-1.825951</td>\n",
       "      <td>-2.390884</td>\n",
       "      <td>4.107535</td>\n",
       "      <td>3.817897</td>\n",
       "      <td>-0.823303</td>\n",
       "      <td>-5.271267</td>\n",
       "      <td>2.353398</td>\n",
       "      <td>1.0</td>\n",
       "    </tr>\n",
       "    <tr>\n",
       "      <th>1</th>\n",
       "      <td>0.267386</td>\n",
       "      <td>NaN</td>\n",
       "      <td>-1.820798</td>\n",
       "      <td>1.540020</td>\n",
       "      <td>1.656770</td>\n",
       "      <td>0.447912</td>\n",
       "      <td>6.484100</td>\n",
       "      <td>2.356129</td>\n",
       "      <td>-1.129611</td>\n",
       "      <td>3.195601</td>\n",
       "      <td>...</td>\n",
       "      <td>-1.872976</td>\n",
       "      <td>-0.382098</td>\n",
       "      <td>-1.980864</td>\n",
       "      <td>1.540020</td>\n",
       "      <td>-1.267888</td>\n",
       "      <td>-1.843256</td>\n",
       "      <td>1.105676</td>\n",
       "      <td>-0.344550</td>\n",
       "      <td>-6.653773</td>\n",
       "      <td>0.0</td>\n",
       "    </tr>\n",
       "    <tr>\n",
       "      <th>2</th>\n",
       "      <td>2.946515</td>\n",
       "      <td>-1.594067</td>\n",
       "      <td>NaN</td>\n",
       "      <td>0.403844</td>\n",
       "      <td>-1.733342</td>\n",
       "      <td>0.274193</td>\n",
       "      <td>2.960081</td>\n",
       "      <td>0.326221</td>\n",
       "      <td>0.393324</td>\n",
       "      <td>0.229915</td>\n",
       "      <td>...</td>\n",
       "      <td>-0.076589</td>\n",
       "      <td>-4.660688</td>\n",
       "      <td>-1.652196</td>\n",
       "      <td>0.403844</td>\n",
       "      <td>-4.317565</td>\n",
       "      <td>-2.506476</td>\n",
       "      <td>3.422634</td>\n",
       "      <td>-0.272146</td>\n",
       "      <td>-3.345401</td>\n",
       "      <td>0.0</td>\n",
       "    </tr>\n",
       "    <tr>\n",
       "      <th>3</th>\n",
       "      <td>-4.581082</td>\n",
       "      <td>-0.001274</td>\n",
       "      <td>1.197022</td>\n",
       "      <td>NaN</td>\n",
       "      <td>-0.416290</td>\n",
       "      <td>-1.941236</td>\n",
       "      <td>0.290991</td>\n",
       "      <td>0.507716</td>\n",
       "      <td>-0.397205</td>\n",
       "      <td>4.399152</td>\n",
       "      <td>...</td>\n",
       "      <td>-4.498888</td>\n",
       "      <td>7.150844</td>\n",
       "      <td>0.722794</td>\n",
       "      <td>-2.944502</td>\n",
       "      <td>-0.081950</td>\n",
       "      <td>0.186089</td>\n",
       "      <td>-7.066950</td>\n",
       "      <td>2.488842</td>\n",
       "      <td>-2.770303</td>\n",
       "      <td>0.0</td>\n",
       "    </tr>\n",
       "    <tr>\n",
       "      <th>4</th>\n",
       "      <td>-2.123360</td>\n",
       "      <td>-0.266587</td>\n",
       "      <td>1.781999</td>\n",
       "      <td>-0.039342</td>\n",
       "      <td>NaN</td>\n",
       "      <td>0.895856</td>\n",
       "      <td>3.756880</td>\n",
       "      <td>-4.583167</td>\n",
       "      <td>1.652762</td>\n",
       "      <td>7.673453</td>\n",
       "      <td>...</td>\n",
       "      <td>4.458045</td>\n",
       "      <td>3.576609</td>\n",
       "      <td>-1.538929</td>\n",
       "      <td>-0.039342</td>\n",
       "      <td>-2.613114</td>\n",
       "      <td>-3.117484</td>\n",
       "      <td>-2.125028</td>\n",
       "      <td>0.143158</td>\n",
       "      <td>-8.249535</td>\n",
       "      <td>1.0</td>\n",
       "    </tr>\n",
       "  </tbody>\n",
       "</table>\n",
       "<p>5 rows × 101 columns</p>\n",
       "</div>"
      ],
      "text/plain": [
       "          0         1         2         3         4         5         6  \\\n",
       "0       NaN -0.176595 -4.126644 -2.390884 -1.366659 -0.460177  1.521421   \n",
       "1  0.267386       NaN -1.820798  1.540020  1.656770  0.447912  6.484100   \n",
       "2  2.946515 -1.594067       NaN  0.403844 -1.733342  0.274193  2.960081   \n",
       "3 -4.581082 -0.001274  1.197022       NaN -0.416290 -1.941236  0.290991   \n",
       "4 -2.123360 -0.266587  1.781999 -0.039342       NaN  0.895856  3.756880   \n",
       "\n",
       "          7         8         9  ...        91        92        93        94  \\\n",
       "0  5.328470 -2.919639 -6.216557  ... -1.603442 -0.867395 -1.825951 -2.390884   \n",
       "1  2.356129 -1.129611  3.195601  ... -1.872976 -0.382098 -1.980864  1.540020   \n",
       "2  0.326221  0.393324  0.229915  ... -0.076589 -4.660688 -1.652196  0.403844   \n",
       "3  0.507716 -0.397205  4.399152  ... -4.498888  7.150844  0.722794 -2.944502   \n",
       "4 -4.583167  1.652762  7.673453  ...  4.458045  3.576609 -1.538929 -0.039342   \n",
       "\n",
       "         95        96        97        98        99  Class  \n",
       "0  4.107535  3.817897 -0.823303 -5.271267  2.353398    1.0  \n",
       "1 -1.267888 -1.843256  1.105676 -0.344550 -6.653773    0.0  \n",
       "2 -4.317565 -2.506476  3.422634 -0.272146 -3.345401    0.0  \n",
       "3 -0.081950  0.186089 -7.066950  2.488842 -2.770303    0.0  \n",
       "4 -2.613114 -3.117484 -2.125028  0.143158 -8.249535    1.0  \n",
       "\n",
       "[5 rows x 101 columns]"
      ]
     },
     "execution_count": 7,
     "metadata": {},
     "output_type": "execute_result"
    }
   ],
   "source": [
    "newdata= pd.concat([data,labels],axis=1)\n",
    "newdata.head()\n",
    "\n"
   ]
  },
  {
   "cell_type": "code",
   "execution_count": 8,
   "id": "consolidated-newark",
   "metadata": {},
   "outputs": [
    {
     "name": "stdout",
     "output_type": "stream",
     "text": [
      "True\n"
     ]
    }
   ],
   "source": [
    "print(newdata.isnull().values.any())"
   ]
  },
  {
   "cell_type": "code",
   "execution_count": 9,
   "id": "worthy-proof",
   "metadata": {},
   "outputs": [
    {
     "name": "stdout",
     "output_type": "stream",
     "text": [
      "1000\n"
     ]
    }
   ],
   "source": [
    "print(newdata.isnull().sum().sum())"
   ]
  },
  {
   "cell_type": "code",
   "execution_count": 10,
   "id": "assigned-yacht",
   "metadata": {},
   "outputs": [
    {
     "name": "stdout",
     "output_type": "stream",
     "text": [
      "Finally finished!\n",
      "False\n"
     ]
    }
   ],
   "source": [
    "for x in range(100):\n",
    "  mean = newdata[x].mean()\n",
    "  newdata[x].fillna(mean, inplace=True)\n",
    "else:\n",
    "  print(\"Finally finished!\")\n",
    "print(newdata.isnull().values.any())\n"
   ]
  },
  {
   "cell_type": "code",
   "execution_count": 11,
   "id": "burning-champagne",
   "metadata": {},
   "outputs": [
    {
     "data": {
      "text/html": [
       "<div>\n",
       "<style scoped>\n",
       "    .dataframe tbody tr th:only-of-type {\n",
       "        vertical-align: middle;\n",
       "    }\n",
       "\n",
       "    .dataframe tbody tr th {\n",
       "        vertical-align: top;\n",
       "    }\n",
       "\n",
       "    .dataframe thead th {\n",
       "        text-align: right;\n",
       "    }\n",
       "</style>\n",
       "<table border=\"1\" class=\"dataframe\">\n",
       "  <thead>\n",
       "    <tr style=\"text-align: right;\">\n",
       "      <th></th>\n",
       "      <th>0</th>\n",
       "      <th>1</th>\n",
       "      <th>2</th>\n",
       "      <th>3</th>\n",
       "      <th>4</th>\n",
       "      <th>5</th>\n",
       "      <th>6</th>\n",
       "      <th>7</th>\n",
       "      <th>8</th>\n",
       "      <th>9</th>\n",
       "      <th>...</th>\n",
       "      <th>91</th>\n",
       "      <th>92</th>\n",
       "      <th>93</th>\n",
       "      <th>94</th>\n",
       "      <th>95</th>\n",
       "      <th>96</th>\n",
       "      <th>97</th>\n",
       "      <th>98</th>\n",
       "      <th>99</th>\n",
       "      <th>Class</th>\n",
       "    </tr>\n",
       "  </thead>\n",
       "  <tbody>\n",
       "    <tr>\n",
       "      <th>0</th>\n",
       "      <td>-0.036409</td>\n",
       "      <td>-0.176595</td>\n",
       "      <td>-4.126644</td>\n",
       "      <td>-2.390884</td>\n",
       "      <td>-1.366659</td>\n",
       "      <td>-0.460177</td>\n",
       "      <td>1.521421</td>\n",
       "      <td>5.328470</td>\n",
       "      <td>-2.919639</td>\n",
       "      <td>-6.216557</td>\n",
       "      <td>...</td>\n",
       "      <td>-1.603442</td>\n",
       "      <td>-0.867395</td>\n",
       "      <td>-1.825951</td>\n",
       "      <td>-2.390884</td>\n",
       "      <td>4.107535</td>\n",
       "      <td>3.817897</td>\n",
       "      <td>-0.823303</td>\n",
       "      <td>-5.271267</td>\n",
       "      <td>2.353398</td>\n",
       "      <td>1.0</td>\n",
       "    </tr>\n",
       "    <tr>\n",
       "      <th>1</th>\n",
       "      <td>0.267386</td>\n",
       "      <td>0.010517</td>\n",
       "      <td>-1.820798</td>\n",
       "      <td>1.540020</td>\n",
       "      <td>1.656770</td>\n",
       "      <td>0.447912</td>\n",
       "      <td>6.484100</td>\n",
       "      <td>2.356129</td>\n",
       "      <td>-1.129611</td>\n",
       "      <td>3.195601</td>\n",
       "      <td>...</td>\n",
       "      <td>-1.872976</td>\n",
       "      <td>-0.382098</td>\n",
       "      <td>-1.980864</td>\n",
       "      <td>1.540020</td>\n",
       "      <td>-1.267888</td>\n",
       "      <td>-1.843256</td>\n",
       "      <td>1.105676</td>\n",
       "      <td>-0.344550</td>\n",
       "      <td>-6.653773</td>\n",
       "      <td>0.0</td>\n",
       "    </tr>\n",
       "    <tr>\n",
       "      <th>2</th>\n",
       "      <td>2.946515</td>\n",
       "      <td>-1.594067</td>\n",
       "      <td>0.539400</td>\n",
       "      <td>0.403844</td>\n",
       "      <td>-1.733342</td>\n",
       "      <td>0.274193</td>\n",
       "      <td>2.960081</td>\n",
       "      <td>0.326221</td>\n",
       "      <td>0.393324</td>\n",
       "      <td>0.229915</td>\n",
       "      <td>...</td>\n",
       "      <td>-0.076589</td>\n",
       "      <td>-4.660688</td>\n",
       "      <td>-1.652196</td>\n",
       "      <td>0.403844</td>\n",
       "      <td>-4.317565</td>\n",
       "      <td>-2.506476</td>\n",
       "      <td>3.422634</td>\n",
       "      <td>-0.272146</td>\n",
       "      <td>-3.345401</td>\n",
       "      <td>0.0</td>\n",
       "    </tr>\n",
       "    <tr>\n",
       "      <th>3</th>\n",
       "      <td>-4.581082</td>\n",
       "      <td>-0.001274</td>\n",
       "      <td>1.197022</td>\n",
       "      <td>0.242458</td>\n",
       "      <td>-0.416290</td>\n",
       "      <td>-1.941236</td>\n",
       "      <td>0.290991</td>\n",
       "      <td>0.507716</td>\n",
       "      <td>-0.397205</td>\n",
       "      <td>4.399152</td>\n",
       "      <td>...</td>\n",
       "      <td>-4.498888</td>\n",
       "      <td>7.150844</td>\n",
       "      <td>0.722794</td>\n",
       "      <td>-2.944502</td>\n",
       "      <td>-0.081950</td>\n",
       "      <td>0.186089</td>\n",
       "      <td>-7.066950</td>\n",
       "      <td>2.488842</td>\n",
       "      <td>-2.770303</td>\n",
       "      <td>0.0</td>\n",
       "    </tr>\n",
       "    <tr>\n",
       "      <th>4</th>\n",
       "      <td>-2.123360</td>\n",
       "      <td>-0.266587</td>\n",
       "      <td>1.781999</td>\n",
       "      <td>-0.039342</td>\n",
       "      <td>-0.075077</td>\n",
       "      <td>0.895856</td>\n",
       "      <td>3.756880</td>\n",
       "      <td>-4.583167</td>\n",
       "      <td>1.652762</td>\n",
       "      <td>7.673453</td>\n",
       "      <td>...</td>\n",
       "      <td>4.458045</td>\n",
       "      <td>3.576609</td>\n",
       "      <td>-1.538929</td>\n",
       "      <td>-0.039342</td>\n",
       "      <td>-2.613114</td>\n",
       "      <td>-3.117484</td>\n",
       "      <td>-2.125028</td>\n",
       "      <td>0.143158</td>\n",
       "      <td>-8.249535</td>\n",
       "      <td>1.0</td>\n",
       "    </tr>\n",
       "  </tbody>\n",
       "</table>\n",
       "<p>5 rows × 101 columns</p>\n",
       "</div>"
      ],
      "text/plain": [
       "          0         1         2         3         4         5         6  \\\n",
       "0 -0.036409 -0.176595 -4.126644 -2.390884 -1.366659 -0.460177  1.521421   \n",
       "1  0.267386  0.010517 -1.820798  1.540020  1.656770  0.447912  6.484100   \n",
       "2  2.946515 -1.594067  0.539400  0.403844 -1.733342  0.274193  2.960081   \n",
       "3 -4.581082 -0.001274  1.197022  0.242458 -0.416290 -1.941236  0.290991   \n",
       "4 -2.123360 -0.266587  1.781999 -0.039342 -0.075077  0.895856  3.756880   \n",
       "\n",
       "          7         8         9  ...        91        92        93        94  \\\n",
       "0  5.328470 -2.919639 -6.216557  ... -1.603442 -0.867395 -1.825951 -2.390884   \n",
       "1  2.356129 -1.129611  3.195601  ... -1.872976 -0.382098 -1.980864  1.540020   \n",
       "2  0.326221  0.393324  0.229915  ... -0.076589 -4.660688 -1.652196  0.403844   \n",
       "3  0.507716 -0.397205  4.399152  ... -4.498888  7.150844  0.722794 -2.944502   \n",
       "4 -4.583167  1.652762  7.673453  ...  4.458045  3.576609 -1.538929 -0.039342   \n",
       "\n",
       "         95        96        97        98        99  Class  \n",
       "0  4.107535  3.817897 -0.823303 -5.271267  2.353398    1.0  \n",
       "1 -1.267888 -1.843256  1.105676 -0.344550 -6.653773    0.0  \n",
       "2 -4.317565 -2.506476  3.422634 -0.272146 -3.345401    0.0  \n",
       "3 -0.081950  0.186089 -7.066950  2.488842 -2.770303    0.0  \n",
       "4 -2.613114 -3.117484 -2.125028  0.143158 -8.249535    1.0  \n",
       "\n",
       "[5 rows x 101 columns]"
      ]
     },
     "execution_count": 11,
     "metadata": {},
     "output_type": "execute_result"
    }
   ],
   "source": [
    "newdata.head()"
   ]
  },
  {
   "cell_type": "code",
   "execution_count": 12,
   "id": "royal-arnold",
   "metadata": {},
   "outputs": [],
   "source": [
    "newdata.to_csv('outputnewdata.csv',  \n",
    "                 index = False)"
   ]
  },
  {
   "cell_type": "raw",
   "id": "individual-confusion",
   "metadata": {},
   "source": [
    "\n",
    "This data set consists of missing values in each row. There are several methods available to handle the missing value. If my data set contains a massive amount of data and has only some missing values, I should have dropped it. So, I can keep the originality of the data, the result behaves well, which is an easy method. I don’t need to think much about the technique of replacing values.\n",
    "This data set only consists of 1000 data points, and all of the rows and columns consist of missing values. So, I can’t go with dropping. I want to replace the missing values with some other values.\n",
    "There are different kinds of missing values from various sources. This data set only consists of null values(NaN). All the input features of this data set are real numbers (data type float), and all the missing values are standard (easily detectable using pandas).  There are several methods available to replace the missing values. \n",
    "I don’t have any idea about the input features. I only know the data type of each column, and each column consists of 10  missing values. So, here I have used mean value imputation. All the missing values are replaced by column mean. This is one of the methods commonly using because it is easy to implement and comprehend.\n"
   ]
  },
  {
   "cell_type": "markdown",
   "id": "threaded-glucose",
   "metadata": {},
   "source": [
    "TASK2"
   ]
  },
  {
   "cell_type": "code",
   "execution_count": 13,
   "id": "authorized-timeline",
   "metadata": {},
   "outputs": [
    {
     "name": "stdout",
     "output_type": "stream",
     "text": [
      "(1000, 100) (1000,)\n"
     ]
    }
   ],
   "source": [
    "y = newdata['Class'].to_numpy()\n",
    "X = newdata.drop(['Class'], axis=1).to_numpy()\n",
    "\n",
    "print(X.shape, y.shape)"
   ]
  },
  {
   "cell_type": "code",
   "execution_count": 14,
   "id": "romance-boutique",
   "metadata": {},
   "outputs": [
    {
     "data": {
      "text/plain": [
       "DecisionTreeClassifier(criterion='entropy', random_state=1345)"
      ]
     },
     "execution_count": 14,
     "metadata": {},
     "output_type": "execute_result"
    }
   ],
   "source": [
    "# using decison tree classifier to select the importand features\n",
    "model = DecisionTreeClassifier(random_state=RANDOM_STATE, criterion='entropy')\n",
    "model.fit(X, y)"
   ]
  },
  {
   "cell_type": "code",
   "execution_count": 15,
   "id": "basic-maryland",
   "metadata": {},
   "outputs": [
    {
     "name": "stdout",
     "output_type": "stream",
     "text": [
      "Feature: 0, Score: 0.00000\n",
      "Feature: 1, Score: 0.00649\n",
      "Feature: 2, Score: 0.00000\n",
      "Feature: 3, Score: 0.00000\n",
      "Feature: 4, Score: 0.01303\n",
      "Feature: 5, Score: 0.00989\n",
      "Feature: 6, Score: 0.00000\n",
      "Feature: 7, Score: 0.01403\n",
      "Feature: 8, Score: 0.05447\n",
      "Feature: 9, Score: 0.03321\n",
      "Feature: 10, Score: 0.00400\n",
      "Feature: 11, Score: 0.00390\n",
      "Feature: 12, Score: 0.00000\n",
      "Feature: 13, Score: 0.01159\n",
      "Feature: 14, Score: 0.00563\n",
      "Feature: 15, Score: 0.01665\n",
      "Feature: 16, Score: 0.00000\n",
      "Feature: 17, Score: 0.01579\n",
      "Feature: 18, Score: 0.00940\n",
      "Feature: 19, Score: 0.01946\n",
      "Feature: 20, Score: 0.01066\n",
      "Feature: 21, Score: 0.04183\n",
      "Feature: 22, Score: 0.01272\n",
      "Feature: 23, Score: 0.00000\n",
      "Feature: 24, Score: 0.00000\n",
      "Feature: 25, Score: 0.01769\n",
      "Feature: 26, Score: 0.01671\n",
      "Feature: 27, Score: 0.02937\n",
      "Feature: 28, Score: 0.00881\n",
      "Feature: 29, Score: 0.00414\n",
      "Feature: 30, Score: 0.00000\n",
      "Feature: 31, Score: 0.00679\n",
      "Feature: 32, Score: 0.00922\n",
      "Feature: 33, Score: 0.00619\n",
      "Feature: 34, Score: 0.01329\n",
      "Feature: 35, Score: 0.00000\n",
      "Feature: 36, Score: 0.00753\n",
      "Feature: 37, Score: 0.01953\n",
      "Feature: 38, Score: 0.00000\n",
      "Feature: 39, Score: 0.01224\n",
      "Feature: 40, Score: 0.00000\n",
      "Feature: 41, Score: 0.00000\n",
      "Feature: 42, Score: 0.01461\n",
      "Feature: 43, Score: 0.00000\n",
      "Feature: 44, Score: 0.01433\n",
      "Feature: 45, Score: 0.00622\n",
      "Feature: 46, Score: 0.01406\n",
      "Feature: 47, Score: 0.00000\n",
      "Feature: 48, Score: 0.01345\n",
      "Feature: 49, Score: 0.01511\n",
      "Feature: 50, Score: 0.01900\n",
      "Feature: 51, Score: 0.00600\n",
      "Feature: 52, Score: 0.02412\n",
      "Feature: 53, Score: 0.02180\n",
      "Feature: 54, Score: 0.00000\n",
      "Feature: 55, Score: 0.00325\n",
      "Feature: 56, Score: 0.02393\n",
      "Feature: 57, Score: 0.00000\n",
      "Feature: 58, Score: 0.00904\n",
      "Feature: 59, Score: 0.01090\n",
      "Feature: 60, Score: 0.00773\n",
      "Feature: 61, Score: 0.00675\n",
      "Feature: 62, Score: 0.00400\n",
      "Feature: 63, Score: 0.00000\n",
      "Feature: 64, Score: 0.02415\n",
      "Feature: 65, Score: 0.02475\n",
      "Feature: 66, Score: 0.00000\n",
      "Feature: 67, Score: 0.00000\n",
      "Feature: 68, Score: 0.00990\n",
      "Feature: 69, Score: 0.06123\n",
      "Feature: 70, Score: 0.00000\n",
      "Feature: 71, Score: 0.00000\n",
      "Feature: 72, Score: 0.00000\n",
      "Feature: 73, Score: 0.02182\n",
      "Feature: 74, Score: 0.00000\n",
      "Feature: 75, Score: 0.02900\n",
      "Feature: 76, Score: 0.02363\n",
      "Feature: 77, Score: 0.00000\n",
      "Feature: 78, Score: 0.02594\n",
      "Feature: 79, Score: 0.00000\n",
      "Feature: 80, Score: 0.01025\n",
      "Feature: 81, Score: 0.00000\n",
      "Feature: 82, Score: 0.02150\n",
      "Feature: 83, Score: 0.00000\n",
      "Feature: 84, Score: 0.00947\n",
      "Feature: 85, Score: 0.00453\n",
      "Feature: 86, Score: 0.01341\n",
      "Feature: 87, Score: 0.00000\n",
      "Feature: 88, Score: 0.00000\n",
      "Feature: 89, Score: 0.00000\n",
      "Feature: 90, Score: 0.02513\n",
      "Feature: 91, Score: 0.00589\n",
      "Feature: 92, Score: 0.02351\n",
      "Feature: 93, Score: 0.00000\n",
      "Feature: 94, Score: 0.00325\n",
      "Feature: 95, Score: 0.00000\n",
      "Feature: 96, Score: 0.00000\n",
      "Feature: 97, Score: 0.00000\n",
      "Feature: 98, Score: 0.00899\n",
      "Feature: 99, Score: 0.00509\n"
     ]
    },
    {
     "data": {
      "image/png": "[encoded data removed]",
      "text/plain": [
       "<Figure size 432x288 with 1 Axes>"
      ]
     },
     "metadata": {
      "needs_background": "light"
     },
     "output_type": "display_data"
    }
   ],
   "source": [
    "\n",
    "# get importance of each feature \n",
    "importance = model.feature_importances_\n",
    "# summarize feature importance\n",
    "for i,v in enumerate(importance):\n",
    "    print('Feature: %0d, Score: %.5f' % (i,v))\n",
    "# plot feature importance\n",
    "pyplot.bar([x for x in range(len(importance))], importance)\n",
    "pyplot.show()"
   ]
  },
  {
   "cell_type": "code",
   "execution_count": 16,
   "id": "laughing-explorer",
   "metadata": {},
   "outputs": [
    {
     "data": {
      "image/png": "[encoded data removed]",
      "text/plain": [
       "<Figure size 432x288 with 1 Axes>"
      ]
     },
     "metadata": {
      "needs_background": "light"
     },
     "output_type": "display_data"
    }
   ],
   "source": [
    "#selecting the first 10 importand features\n",
    "importance = pd.Series(model.feature_importances_)\n",
    "importance.nlargest(10).plot(kind='barh')\n",
    "plt.show()"
   ]
  },
  {
   "cell_type": "code",
   "execution_count": 17,
   "id": "dominican-rebound",
   "metadata": {},
   "outputs": [
    {
     "name": "stdout",
     "output_type": "stream",
     "text": [
      "            8         9        21        27        64        65        69  \\\n",
      "0   -2.919639 -6.216557 -0.552584 -0.181806  1.424084 -1.136033 -0.207606   \n",
      "1   -1.129611  3.195601 -0.248082 -1.021244  0.471146  0.267386 -0.768070   \n",
      "2    0.393324  0.229915  0.541395  0.289113 -3.615905  2.946515  0.810932   \n",
      "3   -0.397205  4.399152  0.901718  0.766162  2.767716 -4.581082  2.465279   \n",
      "4    1.652762  7.673453  0.523819 -0.703148  2.773314 -2.123360 -0.643204   \n",
      "..        ...       ...       ...       ...       ...       ...       ...   \n",
      "995  1.098775  2.187650 -2.137067 -1.266815 -0.587867  0.318539 -3.481963   \n",
      "996 -2.274803 -3.090194 -1.855692 -0.158709 -4.085368 -5.843779 -0.876595   \n",
      "997 -2.113878 -7.427621  0.004778  0.151063  1.445971  3.406411  0.584992   \n",
      "998 -2.394340 -1.352014 -1.269139 -1.443376  0.239033 -2.167186  0.967865   \n",
      "999 -2.044518 -4.157472 -1.370683 -1.474859 -0.481377 -3.621659 -2.890392   \n",
      "\n",
      "           75        78        90  Class  \n",
      "0   -1.357582 -0.722900 -1.919015    1.0  \n",
      "1    0.954386  2.492973  1.394421    0.0  \n",
      "2    1.081245 -0.247858 -0.290845    0.0  \n",
      "3    0.119153 -1.338379  1.046033    0.0  \n",
      "4   -0.570380  3.575898  1.371734    1.0  \n",
      "..        ...       ...       ...    ...  \n",
      "995 -0.592383  2.003080  1.163138    1.0  \n",
      "996  2.017505  1.426542  1.998539    0.0  \n",
      "997  0.598174  1.435680 -2.762413    0.0  \n",
      "998  1.152190 -1.986832 -0.981470    1.0  \n",
      "999  1.206529  2.612328  0.518181    1.0  \n",
      "\n",
      "[1000 rows x 11 columns]\n"
     ]
    }
   ],
   "source": [
    "# storing the dataset which only consists of important featurs and the target variable to a new csv file.\n",
    "output=pd.read_csv(\"outputnewdata.csv\",usecols=['69','8','21','9','27','75','78','90','65','64','Class'])\n",
    "print(output)\n",
    "output.to_csv('output.csv',  \n",
    "                 index = False)"
   ]
  },
  {
   "cell_type": "raw",
   "id": "spread-entity",
   "metadata": {},
   "source": [
    "  Feature selection is one of the critical concepts of machine learning, which has a considerable impact on the model's performance. Feature reduction helps the model from overfitting because it only consists of the relevant features that are highly correlated to the target variable. Reducing the number of features also improves the model's accuracy because there no misleading features in the dataset. Fewer features reduce the building time, which means fewer data points reduce the algorithm's complexity so that the algorithm takes less time to finish the training.\n",
    "Here I have used the feature importance property of the model to select the top ten important features. It gives a score based on how much the feature is correlated to the output variable. That means the higher the score, the feature is more important to the target variable.\n",
    "Feature importance is come up with an inbuilt class; I have used a decision tree to select the top ten features that are highly correlated with the output class. Decision tree giving a score based on the information gain of each feature. Who is having high information gain will get the highest score and so on.\n",
    "\n"
   ]
  },
  {
   "cell_type": "markdown",
   "id": "wireless-characteristic",
   "metadata": {},
   "source": [
    "TASK3"
   ]
  },
  {
   "cell_type": "code",
   "execution_count": 18,
   "id": "extra-photograph",
   "metadata": {},
   "outputs": [
    {
     "data": {
      "text/html": [
       "<div>\n",
       "<style scoped>\n",
       "    .dataframe tbody tr th:only-of-type {\n",
       "        vertical-align: middle;\n",
       "    }\n",
       "\n",
       "    .dataframe tbody tr th {\n",
       "        vertical-align: top;\n",
       "    }\n",
       "\n",
       "    .dataframe thead th {\n",
       "        text-align: right;\n",
       "    }\n",
       "</style>\n",
       "<table border=\"1\" class=\"dataframe\">\n",
       "  <thead>\n",
       "    <tr style=\"text-align: right;\">\n",
       "      <th></th>\n",
       "      <th>8</th>\n",
       "      <th>9</th>\n",
       "      <th>21</th>\n",
       "      <th>27</th>\n",
       "      <th>64</th>\n",
       "      <th>65</th>\n",
       "      <th>69</th>\n",
       "      <th>75</th>\n",
       "      <th>78</th>\n",
       "      <th>90</th>\n",
       "      <th>Class</th>\n",
       "    </tr>\n",
       "  </thead>\n",
       "  <tbody>\n",
       "    <tr>\n",
       "      <th>0</th>\n",
       "      <td>-2.919639</td>\n",
       "      <td>-6.216557</td>\n",
       "      <td>-0.552584</td>\n",
       "      <td>-0.181806</td>\n",
       "      <td>1.424084</td>\n",
       "      <td>-1.136033</td>\n",
       "      <td>-0.207606</td>\n",
       "      <td>-1.357582</td>\n",
       "      <td>-0.722900</td>\n",
       "      <td>-1.919015</td>\n",
       "      <td>1.0</td>\n",
       "    </tr>\n",
       "    <tr>\n",
       "      <th>1</th>\n",
       "      <td>-1.129611</td>\n",
       "      <td>3.195601</td>\n",
       "      <td>-0.248082</td>\n",
       "      <td>-1.021244</td>\n",
       "      <td>0.471146</td>\n",
       "      <td>0.267386</td>\n",
       "      <td>-0.768070</td>\n",
       "      <td>0.954386</td>\n",
       "      <td>2.492973</td>\n",
       "      <td>1.394421</td>\n",
       "      <td>0.0</td>\n",
       "    </tr>\n",
       "    <tr>\n",
       "      <th>2</th>\n",
       "      <td>0.393324</td>\n",
       "      <td>0.229915</td>\n",
       "      <td>0.541395</td>\n",
       "      <td>0.289113</td>\n",
       "      <td>-3.615905</td>\n",
       "      <td>2.946515</td>\n",
       "      <td>0.810932</td>\n",
       "      <td>1.081245</td>\n",
       "      <td>-0.247858</td>\n",
       "      <td>-0.290845</td>\n",
       "      <td>0.0</td>\n",
       "    </tr>\n",
       "    <tr>\n",
       "      <th>3</th>\n",
       "      <td>-0.397205</td>\n",
       "      <td>4.399152</td>\n",
       "      <td>0.901718</td>\n",
       "      <td>0.766162</td>\n",
       "      <td>2.767716</td>\n",
       "      <td>-4.581082</td>\n",
       "      <td>2.465279</td>\n",
       "      <td>0.119153</td>\n",
       "      <td>-1.338379</td>\n",
       "      <td>1.046033</td>\n",
       "      <td>0.0</td>\n",
       "    </tr>\n",
       "    <tr>\n",
       "      <th>4</th>\n",
       "      <td>1.652762</td>\n",
       "      <td>7.673453</td>\n",
       "      <td>0.523819</td>\n",
       "      <td>-0.703148</td>\n",
       "      <td>2.773314</td>\n",
       "      <td>-2.123360</td>\n",
       "      <td>-0.643204</td>\n",
       "      <td>-0.570380</td>\n",
       "      <td>3.575898</td>\n",
       "      <td>1.371734</td>\n",
       "      <td>1.0</td>\n",
       "    </tr>\n",
       "  </tbody>\n",
       "</table>\n",
       "</div>"
      ],
      "text/plain": [
       "          8         9        21        27        64        65        69  \\\n",
       "0 -2.919639 -6.216557 -0.552584 -0.181806  1.424084 -1.136033 -0.207606   \n",
       "1 -1.129611  3.195601 -0.248082 -1.021244  0.471146  0.267386 -0.768070   \n",
       "2  0.393324  0.229915  0.541395  0.289113 -3.615905  2.946515  0.810932   \n",
       "3 -0.397205  4.399152  0.901718  0.766162  2.767716 -4.581082  2.465279   \n",
       "4  1.652762  7.673453  0.523819 -0.703148  2.773314 -2.123360 -0.643204   \n",
       "\n",
       "         75        78        90  Class  \n",
       "0 -1.357582 -0.722900 -1.919015    1.0  \n",
       "1  0.954386  2.492973  1.394421    0.0  \n",
       "2  1.081245 -0.247858 -0.290845    0.0  \n",
       "3  0.119153 -1.338379  1.046033    0.0  \n",
       "4 -0.570380  3.575898  1.371734    1.0  "
      ]
     },
     "execution_count": 18,
     "metadata": {},
     "output_type": "execute_result"
    }
   ],
   "source": [
    "df = pd.read_csv(\"output.csv\")\n",
    "df.head()"
   ]
  },
  {
   "cell_type": "code",
   "execution_count": 19,
   "id": "progressive-nutrition",
   "metadata": {},
   "outputs": [
    {
     "name": "stdout",
     "output_type": "stream",
     "text": [
      "(1000, 10) (1000,)\n",
      "[[-2.91963929e+00 -6.21655726e+00 -5.52584290e-01 ... -1.35758171e+00\n",
      "  -7.22899572e-01 -1.91901539e+00]\n",
      " [-1.12961117e+00  3.19560097e+00 -2.48082181e-01 ...  9.54385553e-01\n",
      "   2.49297253e+00  1.39442144e+00]\n",
      " [ 3.93323713e-01  2.29914610e-01  5.41394795e-01 ...  1.08124455e+00\n",
      "  -2.47857550e-01 -2.90844765e-01]\n",
      " ...\n",
      " [-2.11387845e+00 -7.42762138e+00  4.77841372e-03 ...  5.98173821e-01\n",
      "   1.43568029e+00 -2.76241292e+00]\n",
      " [-2.39433995e+00 -1.35201397e+00 -1.26913867e+00 ...  1.15219046e+00\n",
      "  -1.98683152e+00 -9.81469789e-01]\n",
      " [-2.04451790e+00 -4.15747174e+00 -1.37068318e+00 ...  1.20652853e+00\n",
      "   2.61232767e+00  5.18180626e-01]]\n"
     ]
    }
   ],
   "source": [
    "\n",
    "y = df['Class'].to_numpy()\n",
    "X = df.drop(['Class'], axis=1).to_numpy()\n",
    "\n",
    "print(X.shape, y.shape)\n",
    "print(X)"
   ]
  },
  {
   "cell_type": "code",
   "execution_count": 20,
   "id": "silent-forge",
   "metadata": {},
   "outputs": [
    {
     "name": "stdout",
     "output_type": "stream",
     "text": [
      "Using Entropy\n",
      "[0.66, 0.66, 0.66, 0.66, 0.66, 0.66, 0.66, 0.66, 0.66, 0.66, 0.66, 0.66, 0.66, 0.66, 0.66, 0.66, 0.66, 0.66, 0.66, 0.66, 0.66, 0.66, 0.66, 0.66, 0.66, 0.66, 0.66, 0.66, 0.66, 0.66, 0.66, 0.66, 0.66, 0.66, 0.66, 0.66, 0.66, 0.66, 0.66, 0.66, 0.66, 0.66, 0.66, 0.66, 0.66, 0.66, 0.66, 0.66, 0.66, 0.66, 0.66, 0.66, 0.66, 0.66, 0.66, 0.66, 0.66, 0.66, 0.66, 0.66, 0.66, 0.66, 0.66, 0.66, 0.66, 0.66, 0.66, 0.66, 0.66, 0.66, 0.66, 0.66, 0.66, 0.66, 0.66, 0.66, 0.66, 0.66, 0.66, 0.66, 0.66, 0.66, 0.66, 0.66, 0.66, 0.66, 0.66, 0.66, 0.66, 0.66, 0.66, 0.66, 0.66, 0.66, 0.66, 0.66, 0.66, 0.66, 0.66, 0.66]\n",
      "Acc on training set: 1.000\n",
      "Acc on test set:     0.660\n",
      "Depth: 26\n",
      "Using Gini\n",
      "Acc on training set: 1.000\n",
      "Acc on test set:     0.620\n",
      "Depth: 18\n"
     ]
    }
   ],
   "source": [
    "#unpruned tree\n",
    "res_clf1=[]\n",
    "print(\"Using Entropy\")\n",
    "model = DecisionTreeClassifier(random_state=RANDOM_STATE, criterion='entropy')\n",
    "\n",
    "for iteration in range(100):\n",
    "    X_train, X_test, y_train, y_test = train_test_split(X, y, test_size=0.2, random_state=RANDOM_STATE)\n",
    "    res_clf1.append(model.fit(X_train, y_train).score(X_test, y_test))\n",
    "print(res_clf1)\n",
    "scores = model.score(X_train, y_train)\n",
    "print('Acc on training set: {:.3f}'.format(scores))\n",
    "\n",
    "scores = model.score(X_test, y_test)\n",
    "print('Acc on test set:     {:.3f}'.format(scores))\n",
    "print('Depth:', model.get_depth())\n",
    "\n",
    "print(\"Using Gini\")\n",
    "\n",
    "model = DecisionTreeClassifier(random_state=RANDOM_STATE, criterion='gini')\n",
    "for iteration in range(100):\n",
    "    X_train, X_test, y_train, y_test = train_test_split(X, y, test_size=0.2, random_state=RANDOM_STATE)\n",
    "    res_clf1.append(model.fit(X_train, y_train).score(X_test, y_test))\n",
    "scores = model.score(X_train, y_train)\n",
    "print('Acc on training set: {:.3f}'.format(scores))\n",
    "\n",
    "scores = model.score(X_test, y_test)\n",
    "print('Acc on test set:     {:.3f}'.format(scores))\n",
    "\n",
    "print('Depth:', model.get_depth())\n",
    "# here i have compared Gini and Entropy and analysed which is giving more accuracy."
   ]
  },
  {
   "cell_type": "code",
   "execution_count": 21,
   "id": "graduate-thickness",
   "metadata": {},
   "outputs": [
    {
     "name": "stdout",
     "output_type": "stream",
     "text": [
      "Acc on training set: 1.000\n",
      "Acc on test set:     0.660\n"
     ]
    }
   ],
   "source": [
    "# Entopy is giving better score on small data set so, i have decided to go with criterion entropy.\n",
    "\n",
    "model = DecisionTreeClassifier(random_state=RANDOM_STATE, criterion='entropy')\n",
    "for iteration in range(100):\n",
    "    X_train, X_test, y_train, y_test = train_test_split(X, y, test_size=0.2, random_state=RANDOM_STATE)\n",
    "    res_clf1.append(model.fit(X_train, y_train).score(X_test, y_test))\n",
    "scores = model.score(X_train, y_train)\n",
    "print('Acc on training set: {:.3f}'.format(scores))\n",
    "\n",
    "scores = model.score(X_test, y_test)\n",
    "print('Acc on test set:     {:.3f}'.format(scores))"
   ]
  },
  {
   "cell_type": "code",
   "execution_count": 22,
   "id": "universal-ensemble",
   "metadata": {
    "tags": []
   },
   "outputs": [],
   "source": [
    "#calculating AUC and ploting ROC curve\n",
    "proba = model.predict_proba(X_test)\n",
    "fpr, tpr, threshold = roc_curve(y_test, proba[:, 1])\n",
    "auc_score = roc_auc_score(y_test, proba[:, 1])"
   ]
  },
  {
   "cell_type": "code",
   "execution_count": 23,
   "id": "infinite-might",
   "metadata": {},
   "outputs": [
    {
     "data": {
      "image/png": "[encoded data removed]",
      "text/plain": [
       "<Figure size 324x324 with 1 Axes>"
      ]
     },
     "metadata": {
      "needs_background": "light"
     },
     "output_type": "display_data"
    }
   ],
   "source": [
    "plt.figure(figsize=(4.5, 4.5))\n",
    "plt.xlim(0., 1.1)\n",
    "plt.ylim(0., 1.1)\n",
    "plt.plot(fpr, tpr, label='ROC (AUC = %0.4f)' % auc_score)\n",
    "plt.legend(loc='lower right')\n",
    "plt.title(\"ROC Curve\")\n",
    "plt.xlabel(\"FPR\")\n",
    "plt.ylabel(\"TPR\")\n",
    "plt.show()"
   ]
  },
  {
   "cell_type": "code",
   "execution_count": 24,
   "id": "leading-oasis",
   "metadata": {},
   "outputs": [
    {
     "name": "stdout",
     "output_type": "stream",
     "text": [
      "Score mean: 0.591, std: 0.050\n",
      "[0.6625 0.575  0.55   0.575  0.6125 0.5625 0.5625 0.7375 0.65   0.6\n",
      " 0.55   0.5875 0.5875 0.575  0.5875 0.6    0.55   0.5875 0.6625 0.7\n",
      " 0.625  0.5875 0.6    0.5625 0.6375 0.55   0.625  0.7    0.5625 0.625\n",
      " 0.575  0.525  0.625  0.45   0.5375 0.575  0.6125 0.6375 0.55   0.6125\n",
      " 0.575  0.6    0.575  0.5    0.5375 0.7125 0.5625 0.5625 0.575  0.5875\n",
      " 0.575  0.5875 0.525  0.625  0.6125 0.5875 0.6    0.5875 0.6375 0.5625\n",
      " 0.6    0.5125 0.6125 0.55   0.7125 0.625  0.6375 0.4875 0.6625 0.6625\n",
      " 0.6375 0.575  0.6125 0.5875 0.5    0.525  0.5875 0.6125 0.5625 0.5875\n",
      " 0.6    0.6625 0.6125 0.6    0.625  0.6625 0.5875 0.525  0.6    0.55\n",
      " 0.5    0.525  0.5875 0.5375 0.5875 0.6125 0.55   0.6125 0.6625 0.55  ]\n"
     ]
    }
   ],
   "source": [
    "rskf = RepeatedStratifiedKFold(n_splits=10, n_repeats=10,random_state=RANDOM_STATE)\n",
    "score1 = cross_val_score(model, X_train, y_train, cv=rskf)\n",
    "#res_clf2 = cross_val_score(clf2, X, y, cv=rskf)\n",
    "print('Score mean: {:.3f}, std: {:.3f}'.format(score1.mean(), score1.std()))\n",
    "arr = np.array(score1)\n",
    "list1 = arr.tolist()\n",
    "print(score1)"
   ]
  },
  {
   "cell_type": "code",
   "execution_count": 25,
   "id": "tutorial-proof",
   "metadata": {},
   "outputs": [
    {
     "name": "stdout",
     "output_type": "stream",
     "text": [
      "depth: 1\n",
      "Accuracy: 0.595\n",
      "depth: 2\n",
      "Accuracy: 0.71\n",
      "depth: 3\n",
      "Accuracy: 0.69\n",
      "depth: 4\n",
      "Accuracy: 0.675\n",
      "depth: 5\n",
      "Accuracy: 0.67\n",
      "depth: 6\n",
      "Accuracy: 0.74\n",
      "depth: 7\n",
      "Accuracy: 0.675\n",
      "depth: 8\n",
      "Accuracy: 0.69\n",
      "depth: 9\n",
      "Accuracy: 0.675\n",
      "depth: 10\n",
      "Accuracy: 0.68\n",
      "depth: 11\n",
      "Accuracy: 0.655\n",
      "depth: 12\n",
      "Accuracy: 0.68\n",
      "depth: 13\n",
      "Accuracy: 0.665\n",
      "depth: 14\n",
      "Accuracy: 0.675\n",
      "depth: 15\n",
      "Accuracy: 0.68\n",
      "depth: 16\n",
      "Accuracy: 0.645\n",
      "depth: 17\n",
      "Accuracy: 0.66\n",
      "depth: 18\n",
      "Accuracy: 0.65\n",
      "depth: 19\n",
      "Accuracy: 0.645\n",
      "depth: 20\n",
      "Accuracy: 0.665\n"
     ]
    },
    {
     "data": {
      "text/plain": [
       "<matplotlib.legend.Legend at 0x1b0718aafd0>"
      ]
     },
     "execution_count": 25,
     "metadata": {},
     "output_type": "execute_result"
    },
    {
     "data": {
      "image/png": "[encoded data removed]",
      "text/plain": [
       "<Figure size 432x288 with 1 Axes>"
      ]
     },
     "metadata": {
      "needs_background": "light"
     },
     "output_type": "display_data"
    }
   ],
   "source": [
    "# pruned decision tree using different depth and analysing wich depth is giving the better accuracy using criteria entropy\n",
    "max_depth = []\n",
    "acc_gini = []\n",
    "acc_entropy = []\n",
    "for i in range(1,21):\n",
    " model = DecisionTreeClassifier(criterion='entropy', max_depth=i)\n",
    " model.fit(X_train, y_train)\n",
    " pred = model.predict(X_test)\n",
    " Accuracy= accuracy_score(y_test, pred)\n",
    " acc_entropy.append(accuracy_score(y_test, pred))\n",
    " print(\"depth:\",i )\n",
    " print(\"Accuracy:\",Accuracy)\n",
    " ####\n",
    " max_depth.append(i)\n",
    "d = pd.DataFrame({'acc_entropy':pd.Series(acc_entropy),\n",
    " 'max_depth':pd.Series(max_depth)})\n",
    "# visualizing changes in parameters\n",
    "#plt.plot('max_depth','acc_gini', data=d, label='gini')\n",
    "plt.plot('max_depth','acc_entropy', data=d, label='entropy')\n",
    "plt.xlabel('max_depth')\n",
    "plt.ylabel('accuracy')\n",
    "plt.legend()"
   ]
  },
  {
   "cell_type": "code",
   "execution_count": 26,
   "id": "integral-funds",
   "metadata": {},
   "outputs": [
    {
     "data": {
      "text/plain": [
       "GridSearchCV(cv=10, estimator=DecisionTreeClassifier(random_state=1345),\n",
       "             param_grid=[{'criterion': ['entropy'],\n",
       "                          'max_depth': array([ 2,  3,  4,  5,  6,  7,  8,  9, 10, 11, 12, 13, 14, 15, 16, 17, 18,\n",
       "       19, 20, 21])}])"
      ]
     },
     "execution_count": 26,
     "metadata": {},
     "output_type": "execute_result"
    }
   ],
   "source": [
    "# finding the depth which giving highest accuracy using grid search cv\n",
    "params = [{\n",
    "    'max_depth': np.arange(2, 22), \n",
    "    'criterion': ['entropy']\n",
    "}]\n",
    "model = DecisionTreeClassifier(random_state=RANDOM_STATE)\n",
    "grid_search = GridSearchCV(model, params, cv=10)\n",
    "grid_search.fit(X_train, y_train)"
   ]
  },
  {
   "cell_type": "code",
   "execution_count": 27,
   "id": "respective-continuity",
   "metadata": {},
   "outputs": [
    {
     "data": {
      "text/plain": [
       "DecisionTreeClassifier(criterion='entropy', max_depth=5, random_state=1345)"
      ]
     },
     "execution_count": 27,
     "metadata": {},
     "output_type": "execute_result"
    }
   ],
   "source": [
    "\n",
    "grid_search.best_estimator_"
   ]
  },
  {
   "cell_type": "markdown",
   "id": "russian-bottle",
   "metadata": {},
   "source": [
    "GridSearchCV and the pruning method explained above give depth 5 and 6. For finalizing the depth finding AUC for both depth"
   ]
  },
  {
   "cell_type": "code",
   "execution_count": 28,
   "id": "spanish-program",
   "metadata": {},
   "outputs": [
    {
     "name": "stdout",
     "output_type": "stream",
     "text": [
      "Acc on training set: 0.781\n",
      "Acc on test set:     0.735\n"
     ]
    }
   ],
   "source": [
    "model_pr = DecisionTreeClassifier(random_state=RANDOM_STATE, criterion='entropy', max_depth=6)\n",
    "for iteration in range(100):\n",
    "    X_train, X_test, y_train, y_test = train_test_split(X, y, test_size=0.2, random_state=RANDOM_STATE)\n",
    "    res_clf1.append(model_pr.fit(X_train, y_train).score(X_test, y_test))\n",
    "scores = model_pr.score(X_train, y_train)\n",
    "print('Acc on training set: {:.3f}'.format(scores))\n",
    "\n",
    "scores = model_pr.score(X_test, y_test)\n",
    "print('Acc on test set:     {:.3f}'.format(scores))"
   ]
  },
  {
   "cell_type": "code",
   "execution_count": 29,
   "id": "classical-benefit",
   "metadata": {},
   "outputs": [
    {
     "data": {
      "image/png": "[encoded data removed]",
      "text/plain": [
       "<Figure size 324x324 with 1 Axes>"
      ]
     },
     "metadata": {
      "needs_background": "light"
     },
     "output_type": "display_data"
    }
   ],
   "source": [
    "proba = model_pr.predict_proba(X_test)\n",
    "fpr, tpr, threshold = roc_curve(y_test, proba[:, 1])\n",
    "auc_score = roc_auc_score(y_test, proba[:, 1])\n",
    "plt.figure(figsize=(4.5, 4.5))\n",
    "plt.xlim(0., 1.1)\n",
    "plt.ylim(0., 1.1)\n",
    "plt.plot(fpr, tpr, label='ROC (AUC = %0.4f)' % auc_score)\n",
    "plt.legend(loc='lower right')\n",
    "plt.title(\"ROC Curve\")\n",
    "plt.xlabel(\"FPR\")\n",
    "plt.ylabel(\"TPR\")\n",
    "plt.show()"
   ]
  },
  {
   "cell_type": "code",
   "execution_count": 30,
   "id": "obvious-certification",
   "metadata": {},
   "outputs": [
    {
     "name": "stdout",
     "output_type": "stream",
     "text": [
      "Acc on training set: 0.738\n",
      "Acc on test set:     0.670\n"
     ]
    }
   ],
   "source": [
    "model_pr = DecisionTreeClassifier(random_state=RANDOM_STATE, criterion='entropy', max_depth=5)\n",
    "for iteration in range(100):\n",
    "    X_train, X_test, y_train, y_test = train_test_split(X, y, test_size=0.2, random_state=RANDOM_STATE)\n",
    "    res_clf1.append(model_pr.fit(X_train, y_train).score(X_test, y_test))\n",
    "scores = model_pr.score(X_train, y_train)\n",
    "print('Acc on training set: {:.3f}'.format(scores))\n",
    "\n",
    "scores = model_pr.score(X_test, y_test)\n",
    "print('Acc on test set:     {:.3f}'.format(scores))"
   ]
  },
  {
   "cell_type": "code",
   "execution_count": 31,
   "id": "medical-preview",
   "metadata": {},
   "outputs": [
    {
     "data": {
      "image/png": "[encoded data removed]",
      "text/plain": [
       "<Figure size 324x324 with 1 Axes>"
      ]
     },
     "metadata": {
      "needs_background": "light"
     },
     "output_type": "display_data"
    }
   ],
   "source": [
    "proba = model_pr.predict_proba(X_test)\n",
    "fpr, tpr, threshold = roc_curve(y_test, proba[:, 1])\n",
    "auc_score = roc_auc_score(y_test, proba[:, 1])\n",
    "plt.figure(figsize=(4.5, 4.5))\n",
    "plt.xlim(0., 1.1)\n",
    "plt.ylim(0., 1.1)\n",
    "plt.plot(fpr, tpr, label='ROC (AUC = %0.4f)' % auc_score)\n",
    "plt.legend(loc='lower right')\n",
    "plt.title(\"ROC Curve\")\n",
    "plt.xlabel(\"FPR\")\n",
    "plt.ylabel(\"TPR\")\n",
    "plt.show()"
   ]
  },
  {
   "cell_type": "markdown",
   "id": "flexible-magazine",
   "metadata": {},
   "source": [
    "AUC of the depth 5 is larger than depth 6 so, i have decided to go with depth 5"
   ]
  },
  {
   "cell_type": "code",
   "execution_count": 32,
   "id": "square-worry",
   "metadata": {},
   "outputs": [
    {
     "name": "stdout",
     "output_type": "stream",
     "text": [
      "DecisionTreeClassifier(criterion='entropy', max_depth=5, random_state=1345)\n",
      "[0.6375 0.675  0.65   0.5875 0.575  0.7    0.6125 0.6875 0.7125 0.7\n",
      " 0.675  0.6375 0.575  0.675  0.6625 0.6875 0.5875 0.6375 0.6625 0.6875\n",
      " 0.625  0.675  0.7125 0.5875 0.5875 0.5625 0.6125 0.6375 0.65   0.625\n",
      " 0.6125 0.4625 0.6875 0.6375 0.6    0.6875 0.6625 0.5875 0.575  0.5875\n",
      " 0.575  0.5875 0.675  0.5375 0.5625 0.6375 0.7    0.65   0.675  0.6\n",
      " 0.6875 0.6625 0.625  0.675  0.6625 0.625  0.5125 0.5375 0.65   0.55\n",
      " 0.6    0.5875 0.6125 0.6375 0.6625 0.675  0.675  0.525  0.65   0.7\n",
      " 0.625  0.6125 0.6125 0.5875 0.625  0.575  0.6375 0.5625 0.65   0.6375\n",
      " 0.6    0.7125 0.6625 0.6375 0.65   0.6    0.5875 0.55   0.5625 0.5625\n",
      " 0.6125 0.6375 0.6625 0.6125 0.575  0.5625 0.5875 0.65   0.65   0.625 ]\n",
      "Score mean: 0.625, std: 0.049\n"
     ]
    }
   ],
   "source": [
    "rskf = RepeatedStratifiedKFold(n_splits=10, n_repeats=10,random_state=RANDOM_STATE)\n",
    "score1 = cross_val_score(model_pr, X_train, y_train, cv=rskf)\n",
    "print(model_pr)\n",
    "print(score1)\n",
    "print('Score mean: {:.3f}, std: {:.3f}'.format(score1.mean(), score1.std()))\n",
    "arr = np.array(score1)\n",
    "list2 = arr.tolist()"
   ]
  },
  {
   "cell_type": "code",
   "execution_count": 33,
   "id": "promotional-mother",
   "metadata": {},
   "outputs": [],
   "source": [
    "# Random Forest\n",
    "model_rf = RandomForestClassifier(n_estimators=10, random_state=RANDOM_STATE,criterion='entropy')\n",
    "for iteration in range(100):\n",
    "    X_train, X_test, y_train, y_test = train_test_split(X, y, test_size=0.2, random_state=RANDOM_STATE)\n",
    "    res_clf1.append(model_rf.fit(X_train, y_train).score(X_test, y_test))"
   ]
  },
  {
   "cell_type": "code",
   "execution_count": 34,
   "id": "furnished-folder",
   "metadata": {
    "tags": []
   },
   "outputs": [
    {
     "name": "stdout",
     "output_type": "stream",
     "text": [
      "Acc on training set: 0.984\n",
      "Acc on test set:     0.695\n"
     ]
    }
   ],
   "source": [
    "scores = model_rf.score(X_train, y_train)\n",
    "print('Acc on training set: {:.3f}'.format(scores))\n",
    "\n",
    "scores = model_rf.score(X_test, y_test)\n",
    "print('Acc on test set:     {:.3f}'.format(scores))"
   ]
  },
  {
   "cell_type": "code",
   "execution_count": 35,
   "id": "ranking-institution",
   "metadata": {},
   "outputs": [
    {
     "data": {
      "image/png": "[encoded data removed]",
      "text/plain": [
       "<Figure size 324x324 with 1 Axes>"
      ]
     },
     "metadata": {
      "needs_background": "light"
     },
     "output_type": "display_data"
    }
   ],
   "source": [
    "proba = model_rf.predict_proba(X_test)\n",
    "fpr, tpr, threshold = roc_curve(y_test, proba[:, 1])\n",
    "auc_score = roc_auc_score(y_test, proba[:, 1])\n",
    "plt.figure(figsize=(4.5, 4.5))\n",
    "plt.xlim(0., 1.1)\n",
    "plt.ylim(0., 1.1)\n",
    "plt.plot(fpr, tpr, label='ROC (AUC = %0.4f)' % auc_score)\n",
    "plt.legend(loc='lower right')\n",
    "plt.title(\"ROC Curve\")\n",
    "plt.xlabel(\"FPR\")\n",
    "plt.ylabel(\"TPR\")\n",
    "plt.show()"
   ]
  },
  {
   "cell_type": "code",
   "execution_count": 36,
   "id": "stable-pride",
   "metadata": {},
   "outputs": [
    {
     "name": "stdout",
     "output_type": "stream",
     "text": [
      "[0.6625 0.6625 0.6125 0.7    0.6375 0.6375 0.6375 0.7    0.6625 0.6375\n",
      " 0.625  0.525  0.7    0.65   0.6    0.6375 0.575  0.5875 0.725  0.65\n",
      " 0.65   0.65   0.675  0.6125 0.7125 0.5125 0.6    0.7125 0.6375 0.6625\n",
      " 0.6375 0.65   0.625  0.6875 0.6375 0.6625 0.6625 0.7    0.6125 0.6875\n",
      " 0.6625 0.7125 0.6875 0.5875 0.6625 0.6625 0.6125 0.6625 0.675  0.625\n",
      " 0.65   0.6    0.6375 0.6625 0.7    0.6    0.65   0.6625 0.675  0.6\n",
      " 0.5375 0.6125 0.675  0.625  0.6875 0.725  0.6875 0.6    0.75   0.6875\n",
      " 0.65   0.725  0.6125 0.65   0.6625 0.6375 0.6125 0.6125 0.75   0.6125\n",
      " 0.7    0.7    0.7375 0.7    0.625  0.6375 0.6125 0.625  0.65   0.575\n",
      " 0.575  0.65   0.7125 0.675  0.725  0.575  0.575  0.5875 0.725  0.6875]\n",
      "Score mean: 0.650, std: 0.048\n"
     ]
    }
   ],
   "source": [
    "rskf = RepeatedStratifiedKFold(n_splits=10, n_repeats=10,random_state=RANDOM_STATE)\n",
    "score1 = cross_val_score(model_rf, X_train, y_train, cv=rskf)\n",
    "#res_clf2 = cross_val_score(clf2, X, y, cv=rskf)\n",
    "print(score1)\n",
    "print('Score mean: {:.3f}, std: {:.3f}'.format(score1.mean(), score1.std()))\n",
    "arr = np.array(score1)\n",
    "list3 = arr.tolist()"
   ]
  },
  {
   "cell_type": "code",
   "execution_count": 37,
   "id": "difficult-stupid",
   "metadata": {},
   "outputs": [
    {
     "name": "stdout",
     "output_type": "stream",
     "text": [
      "Acc on training set: 0.619\n",
      "Acc on test set:     0.595\n",
      "Depth: 1\n"
     ]
    },
    {
     "data": {
      "image/png": "[encoded data removed]",
      "text/plain": [
       "<Figure size 432x288 with 1 Axes>"
      ]
     },
     "metadata": {
      "needs_background": "light"
     },
     "output_type": "display_data"
    }
   ],
   "source": [
    "# decision stumb\n",
    "model_stumb = DecisionTreeClassifier(random_state=RANDOM_STATE, criterion='entropy', max_depth=1)\n",
    "for iteration in range(100):\n",
    "    X_train, X_test, y_train, y_test = train_test_split(X, y, test_size=0.2, random_state=RANDOM_STATE)\n",
    "    res_clf1.append(model_stumb.fit(X_train, y_train).score(X_test, y_test))\n",
    "\n",
    "scores = model_stumb.score(X_train, y_train)\n",
    "print('Acc on training set: {:.3f}'.format(scores))\n",
    "\n",
    "scores = model_stumb.score(X_test, y_test)\n",
    "print('Acc on test set:     {:.3f}'.format(scores))\n",
    "print('Depth:', model_stumb.get_depth())\n",
    "tree.plot_tree(model_stumb)\n",
    "plt.show()"
   ]
  },
  {
   "cell_type": "code",
   "execution_count": 38,
   "id": "amateur-granny",
   "metadata": {},
   "outputs": [
    {
     "data": {
      "image/png": "[encoded data removed]",
      "text/plain": [
       "<Figure size 324x324 with 1 Axes>"
      ]
     },
     "metadata": {
      "needs_background": "light"
     },
     "output_type": "display_data"
    }
   ],
   "source": [
    "proba = model_stumb.predict_proba(X_test)\n",
    "fpr, tpr, threshold = roc_curve(y_test, proba[:, 1])\n",
    "auc_score = roc_auc_score(y_test, proba[:, 1])\n",
    "plt.figure(figsize=(4.5, 4.5))\n",
    "plt.xlim(0., 1.1)\n",
    "plt.ylim(0., 1.1)\n",
    "plt.plot(fpr, tpr, label='ROC (AUC = %0.4f)' % auc_score)\n",
    "plt.legend(loc='lower right')\n",
    "plt.title(\"ROC Curve\")\n",
    "plt.xlabel(\"FPR\")\n",
    "plt.ylabel(\"TPR\")\n",
    "plt.show()"
   ]
  },
  {
   "cell_type": "code",
   "execution_count": 39,
   "id": "elegant-international",
   "metadata": {},
   "outputs": [
    {
     "name": "stdout",
     "output_type": "stream",
     "text": [
      "[0.65 0.57 0.62 0.65 0.55 0.68 0.57 0.57 0.65 0.56 0.66 0.6  0.55 0.66\n",
      " 0.64 0.59 0.54 0.66 0.51 0.6  0.62 0.58 0.58 0.58 0.6  0.62 0.59 0.54\n",
      " 0.65 0.61 0.62 0.61 0.62 0.58 0.58 0.63 0.57 0.59 0.65 0.55 0.63 0.6\n",
      " 0.6  0.59 0.6  0.59 0.65 0.64 0.6  0.6  0.62 0.62 0.64 0.62 0.64 0.61\n",
      " 0.67 0.57 0.54 0.58 0.6  0.64 0.62 0.55 0.59 0.58 0.62 0.57 0.62 0.66\n",
      " 0.65 0.61 0.64 0.64 0.62 0.55 0.61 0.57 0.59 0.63 0.62 0.59 0.52 0.67\n",
      " 0.59 0.58 0.69 0.64 0.62 0.62 0.59 0.61 0.6  0.62 0.51 0.64 0.65 0.61\n",
      " 0.64 0.64]\n",
      "Score mean: 0.607, std: 0.037\n"
     ]
    }
   ],
   "source": [
    "rskf = RepeatedStratifiedKFold(n_splits=10, n_repeats=10,random_state=RANDOM_STATE)\n",
    "score1 = cross_val_score(model_stumb, X, y, cv=rskf)\n",
    "#res_clf2 = cross_val_score(clf2, X, y, cv=rskf)\n",
    "print(score1)\n",
    "print('Score mean: {:.3f}, std: {:.3f}'.format(score1.mean(), score1.std()))\n",
    "arr = np.array(score1)\n",
    "list4 = arr.tolist()"
   ]
  },
  {
   "cell_type": "code",
   "execution_count": 40,
   "id": "mighty-nylon",
   "metadata": {},
   "outputs": [
    {
     "name": "stdout",
     "output_type": "stream",
     "text": [
      "     model  model_pr  model_rf  model_stumb\n",
      "0   0.6625    0.6375    0.6625         0.65\n",
      "1   0.5750    0.6750    0.6625         0.57\n",
      "2   0.5500    0.6500    0.6125         0.62\n",
      "3   0.5750    0.5875    0.7000         0.65\n",
      "4   0.6125    0.5750    0.6375         0.55\n",
      "..     ...       ...       ...          ...\n",
      "95  0.6125    0.5625    0.5750         0.64\n",
      "96  0.5500    0.5875    0.5750         0.65\n",
      "97  0.6125    0.6500    0.5875         0.61\n",
      "98  0.6625    0.6500    0.7250         0.64\n",
      "99  0.5500    0.6250    0.6875         0.64\n",
      "\n",
      "[100 rows x 4 columns]\n"
     ]
    }
   ],
   "source": [
    "data = {'model': list1,\n",
    "        'model_pr': list2,\n",
    "        'model_rf': list3,\n",
    "        'model_stumb': list4\n",
    "      }\n",
    "#df = pd.DataFrame()\n",
    "df = pd.DataFrame(data, columns = ['model','model_pr','model_rf','model_stumb'])\n",
    "print(df)"
   ]
  },
  {
   "cell_type": "code",
   "execution_count": 41,
   "id": "convertible-humidity",
   "metadata": {},
   "outputs": [
    {
     "name": "stdout",
     "output_type": "stream",
     "text": [
      "RankResult(rankdf=\n",
      "             meanrank      mean       std  ci_lower  ci_upper effect_size  \\\n",
      "model_rf         1.78  0.649625  0.047985  0.637417  0.661833         0.0   \n",
      "model_pr         2.29  0.625375  0.049634  0.612747  0.638003    0.496757   \n",
      "model_stumb      2.77  0.606700  0.037553  0.597146  0.616254    0.996266   \n",
      "model            3.16  0.591375  0.050711  0.578473  0.604277    1.179937   \n",
      "\n",
      "              magnitude  \n",
      "model_rf     negligible  \n",
      "model_pr          small  \n",
      "model_stumb       large  \n",
      "model             large  \n",
      "pvalue=2.8060188186366057e-14\n",
      "cd=0.46903593329832804\n",
      "omnibus=friedman\n",
      "posthoc=nemenyi\n",
      "all_normal=True\n",
      "pvals_shapiro=[0.16900143027305603, 0.0427287220954895, 0.26446646451950073, 0.15458041429519653]\n",
      "homoscedastic=False\n",
      "pval_homogeneity=0.01496944721379457\n",
      "homogeneity_test=bartlett\n",
      "alpha=0.05\n",
      "alpha_normality=0.0125\n",
      "num_samples=100\n",
      "posterior_matrix=\n",
      "None\n",
      "decision_matrix=\n",
      "None\n",
      "rope=None\n",
      "rope_mode=None\n",
      "effect_size=cohen_d)\n",
      "The statistical analysis was conducted for 4 populations with 100 paired samples.\n",
      "The family-wise significance level of the tests is alpha=0.050.\n",
      "We failed to reject the null hypothesis that the population is normal for all populations (minimal observed p-value=0.043). Therefore, we assume that all populations are normal.\n",
      "We applied Bartlett's test for homogeneity and reject the null hypothesis (p=0.015) that thedata is homoscedastic. Thus, we assume that our data is heteroscedastic.\n",
      "Because we have more than two populations and the populations are normal but heteroscedastic, we use the non-parametric Friedman test as omnibus test to determine if there are any significant differences between the mean values of the populations. We use the post-hoc Nemenyi test to infer which differences are significant. We report the mean value (M), the standard deviation (SD) and the mean rank (MR) among all populations over the samples. Differences between populations are significant, if the difference of the mean rank is greater than the critical distance CD=0.469 of the Nemenyi test.\n",
      "We reject the null hypothesis (p=0.000) of the Friedman test that there is no difference in the central tendency of the populations model_rf (M=0.650+-0.012, SD=0.048, MR=1.780), model_pr (M=0.625+-0.013, SD=0.050, MR=2.290), model_stumb (M=0.607+-0.010, SD=0.038, MR=2.770), and model (M=0.591+-0.013, SD=0.051, MR=3.160). Therefore, we assume that there is a statistically significant difference between the median values of the populations.\n",
      "Based on the post-hoc Nemenyi test, we assume that there are no significant differences within the following groups: model_stumb and model. All other differences are significant.\n"
     ]
    },
    {
     "data": {
      "text/plain": [
       "<matplotlib.axes._axes.Axes at 0x1b071285880>"
      ]
     },
     "execution_count": 41,
     "metadata": {},
     "output_type": "execute_result"
    },
    {
     "data": {
      "image/png": "[encoded data removed]",
      "text/plain": [
       "<Figure size 432x111.6 with 1 Axes>"
      ]
     },
     "metadata": {},
     "output_type": "display_data"
    }
   ],
   "source": [
    "results = autorank(df)\n",
    "print(results)\n",
    "create_report(results)\n",
    "plot_stats(results)"
   ]
  },
  {
   "cell_type": "raw",
   "id": "supposed-package",
   "metadata": {},
   "source": [
    "A comparison of which machine learning models \n",
    "Null hypothesis: All model performs well for all dataset\n",
    "Alternative Hypothesis: One of the models works better than all other models Comparison using the dataset \n",
    "Here I am comparing the values of the accuracy on the training set, accuracy on the test set, Area Under the curve of each model, mean accuracy calculated from the cross-validation, and the standard deviation\n",
    "Reach row represents:\n",
    "Model Name, Accuracy(traning),Accuracy(test),AUC,Accuracy(mean) ,Standard deviation\n",
    "Decision Tree, 1.00, 0.66, 0.66, 0.59, 0.050\n",
    "Pruned Decision tree, 0.73, 0.67, 0.73, 0.625, 0.049\n",
    "Random forest, 0.98, 0.69, 0.78, 0.65, 0.048\n",
    "Decision Stump, 0.619, 0.595, 0.60, 0.607, 0.037\n",
    "\n",
    "By analyzing the table, here I am rejecting the null hypothesis. Out of the models, Random forest and pruned decision tree performed better than any other models. They have almost equal accuracy on the test data 67% pruned tree and 69% random forest, approximately equal standard deviations(0.049 and 0,048). But the ACU is higher for random Forest (0.78). So, the random Forest performed better than all other models.\n",
    "Autorank is also supporting my answer \n",
    "The decision tree has good accuracy on the training data but relatively more minor accuracy on the test data, an example for overfitting here. Decision stump has less accuracy in training data and test data; it is an example of underfitting.\n",
    "\n"
   ]
  },
  {
   "cell_type": "markdown",
   "id": "plastic-stable",
   "metadata": {},
   "source": [
    "TASK 4"
   ]
  },
  {
   "cell_type": "code",
   "execution_count": 42,
   "id": "toxic-turner",
   "metadata": {},
   "outputs": [
    {
     "name": "stdout",
     "output_type": "stream",
     "text": [
      "(1000, 10) (1000,)\n",
      "[[-2.91963929e+00 -6.21655726e+00 -5.52584290e-01 ... -1.35758171e+00\n",
      "  -7.22899572e-01 -1.91901539e+00]\n",
      " [-1.12961117e+00  3.19560097e+00 -2.48082181e-01 ...  9.54385553e-01\n",
      "   2.49297253e+00  1.39442144e+00]\n",
      " [ 3.93323713e-01  2.29914610e-01  5.41394795e-01 ...  1.08124455e+00\n",
      "  -2.47857550e-01 -2.90844765e-01]\n",
      " ...\n",
      " [-2.11387845e+00 -7.42762138e+00  4.77841372e-03 ...  5.98173821e-01\n",
      "   1.43568029e+00 -2.76241292e+00]\n",
      " [-2.39433995e+00 -1.35201397e+00 -1.26913867e+00 ...  1.15219046e+00\n",
      "  -1.98683152e+00 -9.81469789e-01]\n",
      " [-2.04451790e+00 -4.15747174e+00 -1.37068318e+00 ...  1.20652853e+00\n",
      "   2.61232767e+00  5.18180626e-01]]\n"
     ]
    }
   ],
   "source": [
    "df = pd.read_csv(\"output.csv\")\n",
    "df.head()\n",
    "y = df['Class'].to_numpy()\n",
    "X = df.drop(['Class'], axis=1).to_numpy()\n",
    "\n",
    "print(X.shape, y.shape)\n",
    "print(X)"
   ]
  },
  {
   "cell_type": "code",
   "execution_count": 43,
   "id": "placed-hayes",
   "metadata": {},
   "outputs": [],
   "source": [
    "np.random.seed(RANDOM_STATE)\n",
    "\n",
    "noise = np.random.normal(0, 0.2, np.shape(X))\n",
    "X_noise = X + np.multiply(noise, np.average(X, axis=0))\n"
   ]
  },
  {
   "cell_type": "code",
   "execution_count": 44,
   "id": "racial-complexity",
   "metadata": {},
   "outputs": [
    {
     "name": "stdout",
     "output_type": "stream",
     "text": [
      "DecisionTreeClassifier(criterion='entropy', random_state=1345)\n",
      "The accuracy of model DecisionTreeClassifier is 0.67\n",
      "Accuracy on train set: 1.00\n",
      "Accuracy on test set: 0.67\n",
      "              precision    recall  f1-score   support\n",
      "\n",
      "         0.0       0.66      0.64      0.65        95\n",
      "         1.0       0.68      0.70      0.69       105\n",
      "\n",
      "    accuracy                           0.67       200\n",
      "   macro avg       0.67      0.67      0.67       200\n",
      "weighted avg       0.67      0.67      0.67       200\n",
      "\n"
     ]
    },
    {
     "data": {
      "image/png": "[encoded data removed]",
      "text/plain": [
       "<Figure size 324x324 with 1 Axes>"
      ]
     },
     "metadata": {
      "needs_background": "light"
     },
     "output_type": "display_data"
    },
    {
     "name": "stdout",
     "output_type": "stream",
     "text": [
      "\n",
      "\n",
      "DecisionTreeClassifier(criterion='entropy', max_depth=5, random_state=1345)\n",
      "The accuracy of model DecisionTreeClassifier is 0.72\n",
      "Accuracy on train set: 0.75\n",
      "Accuracy on test set: 0.72\n",
      "              precision    recall  f1-score   support\n",
      "\n",
      "         0.0       0.65      0.88      0.75        95\n",
      "         1.0       0.85      0.57      0.68       105\n",
      "\n",
      "    accuracy                           0.72       200\n",
      "   macro avg       0.75      0.73      0.72       200\n",
      "weighted avg       0.75      0.72      0.71       200\n",
      "\n"
     ]
    },
    {
     "data": {
      "image/png": "[encoded data removed]",
      "text/plain": [
       "<Figure size 324x324 with 1 Axes>"
      ]
     },
     "metadata": {
      "needs_background": "light"
     },
     "output_type": "display_data"
    },
    {
     "name": "stdout",
     "output_type": "stream",
     "text": [
      "\n",
      "\n",
      "RandomForestClassifier(criterion='entropy', n_estimators=10, random_state=1345)\n",
      "The accuracy of model RandomForestClassifier is 0.71\n",
      "Accuracy on train set: 0.97\n",
      "Accuracy on test set: 0.71\n",
      "              precision    recall  f1-score   support\n",
      "\n",
      "         0.0       0.67      0.78      0.72        95\n",
      "         1.0       0.77      0.66      0.71       105\n",
      "\n",
      "    accuracy                           0.71       200\n",
      "   macro avg       0.72      0.72      0.71       200\n",
      "weighted avg       0.72      0.71      0.71       200\n",
      "\n"
     ]
    },
    {
     "data": {
      "image/png": "[encoded data removed]",
      "text/plain": [
       "<Figure size 324x324 with 1 Axes>"
      ]
     },
     "metadata": {
      "needs_background": "light"
     },
     "output_type": "display_data"
    },
    {
     "name": "stdout",
     "output_type": "stream",
     "text": [
      "\n",
      "\n",
      "DecisionTreeClassifier(criterion='entropy', max_depth=1, random_state=1345)\n",
      "The accuracy of model DecisionTreeClassifier is 0.58\n",
      "Accuracy on train set: 0.62\n",
      "Accuracy on test set: 0.58\n",
      "              precision    recall  f1-score   support\n",
      "\n",
      "         0.0       0.54      0.88      0.67        95\n",
      "         1.0       0.74      0.30      0.43       105\n",
      "\n",
      "    accuracy                           0.58       200\n",
      "   macro avg       0.64      0.59      0.55       200\n",
      "weighted avg       0.64      0.58      0.54       200\n",
      "\n"
     ]
    },
    {
     "data": {
      "image/png": "[encoded data removed]",
      "text/plain": [
       "<Figure size 324x324 with 1 Axes>"
      ]
     },
     "metadata": {
      "needs_background": "light"
     },
     "output_type": "display_data"
    },
    {
     "name": "stdout",
     "output_type": "stream",
     "text": [
      "\n",
      "\n"
     ]
    }
   ],
   "source": [
    "noise_model= DecisionTreeClassifier(random_state=RANDOM_STATE, criterion='entropy') # using the random state for reproducibility\n",
    "noise_model_pr= DecisionTreeClassifier(random_state=RANDOM_STATE, criterion='entropy', max_depth=5)\n",
    "noise_model_rf = RandomForestClassifier(n_estimators=10, random_state=RANDOM_STATE,criterion='entropy')\n",
    "noise_model_stumb = DecisionTreeClassifier(random_state=RANDOM_STATE, criterion='entropy', max_depth=1)\n",
    "\n",
    "# now, create a list with the objects \n",
    "models= [noise_model,noise_model_pr,noise_model_rf,noise_model_stumb]\n",
    "\n",
    "for mode in models:\n",
    "    print(mode)\n",
    "    for iteration in range(100):\n",
    "        X_train, X_test, y_train, y_test = train_test_split(X_noise, y, test_size=0.2, random_state=RANDOM_STATE)\n",
    "        mode.fit(X_train, y_train).score(X_test, y_test)\n",
    "    y_pred= mode.predict(X_test) # then predict on the test set\n",
    "    accuracy= accuracy_score(y_test, y_pred) # this gives us how often the algorithm predicted correctly\n",
    "    clf_report= classification_report(y_test, y_pred) # with the report, we have a bigger picture, with precision and recall for each class\n",
    "    print(f\"The accuracy of model {type(mode).__name__} is {accuracy:.2f}\")\n",
    "    score = mode.score(X_train, y_train)\n",
    "    print('Accuracy on train set: {:.2f}'.format(score))\n",
    "    score = mode.score(X_test, y_test)\n",
    "    print('Accuracy on test set: {:.2f}'.format(score))\n",
    "    print(clf_report)\n",
    "    proba = mode.predict_proba(X_test)\n",
    "    fpr, tpr, threshold = roc_curve(y_test, proba[:, 1])\n",
    "    auc_score = roc_auc_score(y_test, proba[:, 1])\n",
    "    plt.figure(figsize=(4.5, 4.5))\n",
    "    plt.xlim(0., 1.1)\n",
    "    plt.ylim(0., 1.1)\n",
    "    plt.plot(fpr, tpr, label='ROC (AUC = %0.4f)' % auc_score)\n",
    "    plt.legend(loc='lower right')\n",
    "    plt.title(\"ROC Curve\")\n",
    "    plt.xlabel(\"FPR\")\n",
    "    plt.ylabel(\"TPR\")\n",
    "    plt.show()\n",
    "    print(\"\\n\")"
   ]
  },
  {
   "cell_type": "code",
   "execution_count": 45,
   "id": "velvet-puppy",
   "metadata": {},
   "outputs": [
    {
     "name": "stdout",
     "output_type": "stream",
     "text": [
      "DecisionTreeClassifier(random_state=1345)\n",
      "Score mean: 0.597, std: 0.050\n",
      "DecisionTreeClassifier(criterion='entropy', max_depth=5, random_state=1345)\n",
      "Score mean: 0.632, std: 0.050\n",
      "RandomForestClassifier(criterion='entropy', n_estimators=10, random_state=1345)\n",
      "Score mean: 0.653, std: 0.050\n",
      "DecisionTreeClassifier(criterion='entropy', max_depth=1, random_state=1345)\n",
      "Score mean: 0.616, std: 0.039\n"
     ]
    }
   ],
   "source": [
    "rskf = RepeatedStratifiedKFold(n_splits=10, n_repeats=10,random_state=RANDOM_STATE)\n",
    "score1 = cross_val_score(model, X_train, y_train, cv=rskf)\n",
    "score2 = cross_val_score(model_pr, X_train, y_train, cv=rskf)\n",
    "score3 = cross_val_score(model_rf, X_train, y_train, cv=rskf)\n",
    "score4 = cross_val_score(model_stumb, X_train, y_train, cv=rskf)\n",
    "#print(score1)\n",
    "print(model)\n",
    "print('Score mean: {:.3f}, std: {:.3f}'.format(score1.mean(), score1.std()))\n",
    "print(model_pr)\n",
    "print('Score mean: {:.3f}, std: {:.3f}'.format(score2.mean(), score2.std()))\n",
    "print(model_rf)\n",
    "print('Score mean: {:.3f}, std: {:.3f}'.format(score3.mean(), score3.std()))\n",
    "print(model_stumb)\n",
    "print('Score mean: {:.3f}, std: {:.3f}'.format(score4.mean(), score4.std()))\n",
    "arr1 = np.array(score1)\n",
    "arr2 = np.array(score2)\n",
    "arr3 = np.array(score3)\n",
    "arr4 = np.array(score4)\n",
    "list5 = arr1.tolist()\n",
    "list6 = arr2.tolist()\n",
    "list7 = arr3.tolist()\n",
    "list8 = arr4.tolist()"
   ]
  },
  {
   "cell_type": "code",
   "execution_count": 46,
   "id": "substantial-plasma",
   "metadata": {},
   "outputs": [
    {
     "name": "stdout",
     "output_type": "stream",
     "text": [
      "    noise_model  noise_model_pr  noise_model_rf  noise_model_stumb\n",
      "0        0.5750          0.6625          0.5625             0.6125\n",
      "1        0.6000          0.6500          0.7250             0.6875\n",
      "2        0.5500          0.6375          0.6125             0.6500\n",
      "3        0.6125          0.6875          0.6125             0.5500\n",
      "4        0.5250          0.5250          0.6250             0.6000\n",
      "..          ...             ...             ...                ...\n",
      "95       0.5875          0.6000          0.6000             0.5875\n",
      "96       0.5125          0.5875          0.5750             0.6625\n",
      "97       0.7250          0.6625          0.6625             0.6125\n",
      "98       0.6125          0.7125          0.6625             0.6625\n",
      "99       0.5875          0.6000          0.6875             0.5625\n",
      "\n",
      "[100 rows x 4 columns]\n"
     ]
    }
   ],
   "source": [
    "data = {\n",
    "        'noise_model': list5,\n",
    "        'noise_model_pr': list6,\n",
    "        'noise_model_rf': list7,\n",
    "        'noise_model_stumb': list8\n",
    "      }\n",
    "#df = pd.DataFrame()\n",
    "df = pd.DataFrame(data, columns = ['noise_model','noise_model_pr','noise_model_rf','noise_model_stumb'])\n",
    "print(df)"
   ]
  },
  {
   "cell_type": "code",
   "execution_count": 47,
   "id": "emerging-function",
   "metadata": {},
   "outputs": [
    {
     "name": "stdout",
     "output_type": "stream",
     "text": [
      "RankResult(rankdf=\n",
      "                   meanrank      mean       std  ci_lower  ci_upper  \\\n",
      "noise_model_rf        1.805  0.653375  0.050373  0.640559  0.666191   \n",
      "noise_model_pr        2.255  0.631625  0.050329  0.618821  0.644429   \n",
      "noise_model_stumb     2.835  0.615875  0.039483   0.60583   0.62592   \n",
      "noise_model           3.105  0.596875  0.050075  0.584135  0.609615   \n",
      "\n",
      "                  effect_size   magnitude  \n",
      "noise_model_rf            0.0  negligible  \n",
      "noise_model_pr       0.431969       small  \n",
      "noise_model_stumb     0.82861       large  \n",
      "noise_model          1.124958       large  \n",
      "pvalue=5.601378676282923e-14\n",
      "cd=0.46903593329832804\n",
      "omnibus=friedman\n",
      "posthoc=nemenyi\n",
      "all_normal=True\n",
      "pvals_shapiro=[0.4596874713897705, 0.22844654321670532, 0.3864205777645111, 0.05041137710213661]\n",
      "homoscedastic=False\n",
      "pval_homogeneity=0.04786445340986717\n",
      "homogeneity_test=bartlett\n",
      "alpha=0.05\n",
      "alpha_normality=0.0125\n",
      "num_samples=100\n",
      "posterior_matrix=\n",
      "None\n",
      "decision_matrix=\n",
      "None\n",
      "rope=None\n",
      "rope_mode=None\n",
      "effect_size=cohen_d)\n",
      "The statistical analysis was conducted for 4 populations with 100 paired samples.\n",
      "The family-wise significance level of the tests is alpha=0.050.\n",
      "We failed to reject the null hypothesis that the population is normal for all populations (minimal observed p-value=0.050). Therefore, we assume that all populations are normal.\n",
      "We applied Bartlett's test for homogeneity and reject the null hypothesis (p=0.048) that thedata is homoscedastic. Thus, we assume that our data is heteroscedastic.\n",
      "Because we have more than two populations and the populations are normal but heteroscedastic, we use the non-parametric Friedman test as omnibus test to determine if there are any significant differences between the mean values of the populations. We use the post-hoc Nemenyi test to infer which differences are significant. We report the mean value (M), the standard deviation (SD) and the mean rank (MR) among all populations over the samples. Differences between populations are significant, if the difference of the mean rank is greater than the critical distance CD=0.469 of the Nemenyi test.\n",
      "We reject the null hypothesis (p=0.000) of the Friedman test that there is no difference in the central tendency of the populations noise_model_rf (M=0.653+-0.013, SD=0.050, MR=1.805), noise_model_pr (M=0.632+-0.013, SD=0.050, MR=2.255), noise_model_stumb (M=0.616+-0.010, SD=0.039, MR=2.835), and noise_model (M=0.597+-0.013, SD=0.050, MR=3.105). Therefore, we assume that there is a statistically significant difference between the median values of the populations.\n",
      "Based on the post-hoc Nemenyi test, we assume that there are no significant differences within the following groups: noise_model_rf and noise_model_pr; noise_model_stumb and noise_model. All other differences are significant.\n"
     ]
    },
    {
     "data": {
      "text/plain": [
       "<matplotlib.axes._axes.Axes at 0x1b071327370>"
      ]
     },
     "execution_count": 47,
     "metadata": {},
     "output_type": "execute_result"
    },
    {
     "data": {
      "image/png": "[encoded data removed]",
      "text/plain": [
       "<Figure size 432x118.8 with 1 Axes>"
      ]
     },
     "metadata": {},
     "output_type": "display_data"
    }
   ],
   "source": [
    "results = autorank(df)\n",
    "print(results)\n",
    "create_report(results)\n",
    "plot_stats(results)"
   ]
  },
  {
   "cell_type": "markdown",
   "id": "adaptive-redhead",
   "metadata": {},
   "source": [
    "models performace on both clean and noisy data"
   ]
  },
  {
   "cell_type": "code",
   "execution_count": 48,
   "id": "personal-marathon",
   "metadata": {},
   "outputs": [
    {
     "name": "stdout",
     "output_type": "stream",
     "text": [
      "     model  model_pr  model_rf  model_stumb  noise_model  noise_model_pr  \\\n",
      "0   0.6625    0.6375    0.6625         0.65       0.5750          0.6625   \n",
      "1   0.5750    0.6750    0.6625         0.57       0.6000          0.6500   \n",
      "2   0.5500    0.6500    0.6125         0.62       0.5500          0.6375   \n",
      "3   0.5750    0.5875    0.7000         0.65       0.6125          0.6875   \n",
      "4   0.6125    0.5750    0.6375         0.55       0.5250          0.5250   \n",
      "..     ...       ...       ...          ...          ...             ...   \n",
      "95  0.6125    0.5625    0.5750         0.64       0.5875          0.6000   \n",
      "96  0.5500    0.5875    0.5750         0.65       0.5125          0.5875   \n",
      "97  0.6125    0.6500    0.5875         0.61       0.7250          0.6625   \n",
      "98  0.6625    0.6500    0.7250         0.64       0.6125          0.7125   \n",
      "99  0.5500    0.6250    0.6875         0.64       0.5875          0.6000   \n",
      "\n",
      "    noise_model_rf  noise_model_stumb  \n",
      "0           0.5625             0.6125  \n",
      "1           0.7250             0.6875  \n",
      "2           0.6125             0.6500  \n",
      "3           0.6125             0.5500  \n",
      "4           0.6250             0.6000  \n",
      "..             ...                ...  \n",
      "95          0.6000             0.5875  \n",
      "96          0.5750             0.6625  \n",
      "97          0.6625             0.6125  \n",
      "98          0.6625             0.6625  \n",
      "99          0.6875             0.5625  \n",
      "\n",
      "[100 rows x 8 columns]\n"
     ]
    }
   ],
   "source": [
    "data = {'model': list1,\n",
    "        'model_pr': list2,\n",
    "        'model_rf': list3,\n",
    "        'model_stumb': list4,\n",
    "        'noise_model': list5,\n",
    "        'noise_model_pr': list6,\n",
    "        'noise_model_rf': list7,\n",
    "        'noise_model_stumb': list8\n",
    "      }\n",
    "#df = pd.DataFrame()\n",
    "df = pd.DataFrame(data, columns = ['model','model_pr','model_rf','model_stumb','noise_model','noise_model_pr','noise_model_rf','noise_model_stumb'])\n",
    "print(df)"
   ]
  },
  {
   "cell_type": "code",
   "execution_count": 49,
   "id": "creative-preservation",
   "metadata": {},
   "outputs": [
    {
     "name": "stdout",
     "output_type": "stream",
     "text": [
      "RankResult(rankdf=\n",
      "                   meanrank      mean       std  ci_lower  ci_upper  \\\n",
      "noise_model_rf        2.940  0.653375  0.050373    0.6393   0.66745   \n",
      "model_rf              3.155  0.649625  0.047985  0.636218  0.663032   \n",
      "noise_model_pr        3.985  0.631625  0.050329  0.617563  0.645687   \n",
      "model_pr              4.265  0.625375  0.049634  0.611507  0.639243   \n",
      "noise_model_stumb     4.875  0.615875  0.039483  0.604843  0.626907   \n",
      "model_stumb           5.145  0.606700  0.037553  0.596207  0.617193   \n",
      "noise_model           5.705  0.596875  0.050075  0.582884  0.610866   \n",
      "model                 5.930  0.591375  0.050711  0.577206  0.605544   \n",
      "\n",
      "                  effect_size   magnitude  \n",
      "noise_model_rf            0.0  negligible  \n",
      "model_rf              0.07623  negligible  \n",
      "noise_model_pr       0.431969       small  \n",
      "model_pr             0.559945      medium  \n",
      "noise_model_stumb     0.82861       large  \n",
      "model_stumb          1.050584       large  \n",
      "noise_model          1.124958       large  \n",
      "model                1.226694       large  \n",
      "pvalue=1.5024206129838451e-28\n",
      "cd=1.0499208824271116\n",
      "omnibus=friedman\n",
      "posthoc=nemenyi\n",
      "all_normal=True\n",
      "pvals_shapiro=[0.16900143027305603, 0.0427287220954895, 0.26446646451950073, 0.15458041429519653, 0.4596874713897705, 0.22844654321670532, 0.3864205777645111, 0.05041137710213661]\n",
      "homoscedastic=False\n",
      "pval_homogeneity=0.009625533267391954\n",
      "homogeneity_test=bartlett\n",
      "alpha=0.05\n",
      "alpha_normality=0.00625\n",
      "num_samples=100\n",
      "posterior_matrix=\n",
      "None\n",
      "decision_matrix=\n",
      "None\n",
      "rope=None\n",
      "rope_mode=None\n",
      "effect_size=cohen_d)\n",
      "The statistical analysis was conducted for 8 populations with 100 paired samples.\n",
      "The family-wise significance level of the tests is alpha=0.050.\n",
      "We failed to reject the null hypothesis that the population is normal for all populations (minimal observed p-value=0.043). Therefore, we assume that all populations are normal.\n",
      "We applied Bartlett's test for homogeneity and reject the null hypothesis (p=0.010) that thedata is homoscedastic. Thus, we assume that our data is heteroscedastic.\n",
      "Because we have more than two populations and the populations are normal but heteroscedastic, we use the non-parametric Friedman test as omnibus test to determine if there are any significant differences between the mean values of the populations. We use the post-hoc Nemenyi test to infer which differences are significant. We report the mean value (M), the standard deviation (SD) and the mean rank (MR) among all populations over the samples. Differences between populations are significant, if the difference of the mean rank is greater than the critical distance CD=1.050 of the Nemenyi test.\n",
      "We reject the null hypothesis (p=0.000) of the Friedman test that there is no difference in the central tendency of the populations noise_model_rf (M=0.653+-0.014, SD=0.050, MR=2.940), model_rf (M=0.650+-0.013, SD=0.048, MR=3.155), noise_model_pr (M=0.632+-0.014, SD=0.050, MR=3.985), model_pr (M=0.625+-0.014, SD=0.050, MR=4.265), noise_model_stumb (M=0.616+-0.011, SD=0.039, MR=4.875), model_stumb (M=0.607+-0.010, SD=0.038, MR=5.145), noise_model (M=0.597+-0.014, SD=0.050, MR=5.705), and model (M=0.591+-0.014, SD=0.051, MR=5.930). Therefore, we assume that there is a statistically significant difference between the median values of the populations.\n",
      "Based on the post-hoc Nemenyi test, we assume that there are no significant differences within the following groups: noise_model_rf, model_rf, and noise_model_pr; noise_model_pr, model_pr, and noise_model_stumb; model_pr, noise_model_stumb, and model_stumb; noise_model_stumb, model_stumb, and noise_model; model_stumb, noise_model, and model. All other differences are significant.\n"
     ]
    },
    {
     "data": {
      "text/plain": [
       "<matplotlib.axes._axes.Axes at 0x1b07123f640>"
      ]
     },
     "execution_count": 49,
     "metadata": {},
     "output_type": "execute_result"
    },
    {
     "data": {
      "image/png": "[encoded data removed]",
      "text/plain": [
       "<Figure size 432x169.2 with 1 Axes>"
      ]
     },
     "metadata": {},
     "output_type": "display_data"
    }
   ],
   "source": [
    "results = autorank(df)\n",
    "print(results)\n",
    "create_report(results)\n",
    "plot_stats(results)"
   ]
  },
  {
   "cell_type": "raw",
   "id": "pregnant-thousand",
   "metadata": {},
   "source": [
    "A comparison of which machine learning models \n",
    "Null hypothesis: Noise does not change the accuracy of any model\n",
    "Alternative Hypothesis: Noise change the accuracy of the model\n",
    "Here I am comparing the values of the accuracy on the training set, accuracy on the test set, Area Under the curve of each model, mean accuracy calculated from the cross-validation, and the standard deviation\n",
    "Each row represents the results of the clean dataset:\n",
    "Model Name, Accuracy(traning),Accuracy(test),AUC,Accuracy(mean) ,Standard deviation\n",
    "Decision Tree, 1.00, 0.66, 0.66, 0.59, 0.050\n",
    "Pruned Decision tree, 0.73, 0.67, 0.73, 0.625, 0.049\n",
    "Random forest, 0.98, 0.69, 0.78, 0.65, 0.048\n",
    "Decision Stump, 0.619, 0.595, 0.60, 0.607, 0.037\n",
    "\n",
    "Each row represents the results of the noisy dataset:\n",
    "Model Name, Accuracy(traning),Accuracy(test),AUC,Accuracy(mean) ,Standard deviation\n",
    "Decision Tree, 1.00, 0.67, 0.66, 0.597, 0.050\n",
    "Pruned Decision tree, 0.75, 0.72, 0.77, 0.632, 0.050\n",
    "Random forest, 0.97, 0.71, 0.786, 0.65, 0.050\n",
    "Decision Stump, 0.62, 0.58, 0.59, 0.616, 0.039\n",
    "By analyzing the above two tables adding noise does not make any noticeable difference in decision stump, decision tree, and random forest. But for the pruned decision tree, the accuracy and the AUC have been increased. For the noisy dataset, pruned decision tree and random forest performed equally. There is no statistical difference between these 2 models.\n",
    "Here I am rejecting the null hypothesis; adding noise to the data can improve the efficiency of the model pruned decision tree.\n",
    "\n"
   ]
  },
  {
   "cell_type": "markdown",
   "id": "pacific-remark",
   "metadata": {},
   "source": [
    "TASK 5"
   ]
  },
  {
   "cell_type": "code",
   "execution_count": 50,
   "id": "dated-indiana",
   "metadata": {},
   "outputs": [
    {
     "name": "stdout",
     "output_type": "stream",
     "text": [
      "(1000, 10) (1000,)\n",
      "[[-2.91963929e+00 -6.21655726e+00 -5.52584290e-01 ... -1.35758171e+00\n",
      "  -7.22899572e-01 -1.91901539e+00]\n",
      " [-1.12961117e+00  3.19560097e+00 -2.48082181e-01 ...  9.54385553e-01\n",
      "   2.49297253e+00  1.39442144e+00]\n",
      " [ 3.93323713e-01  2.29914610e-01  5.41394795e-01 ...  1.08124455e+00\n",
      "  -2.47857550e-01 -2.90844765e-01]\n",
      " ...\n",
      " [-2.11387845e+00 -7.42762138e+00  4.77841372e-03 ...  5.98173821e-01\n",
      "   1.43568029e+00 -2.76241292e+00]\n",
      " [-2.39433995e+00 -1.35201397e+00 -1.26913867e+00 ...  1.15219046e+00\n",
      "  -1.98683152e+00 -9.81469789e-01]\n",
      " [-2.04451790e+00 -4.15747174e+00 -1.37068318e+00 ...  1.20652853e+00\n",
      "   2.61232767e+00  5.18180626e-01]]\n"
     ]
    }
   ],
   "source": [
    "df = pd.read_csv(\"output.csv\")\n",
    "df.head()\n",
    "y = df['Class'].to_numpy()\n",
    "X = df.drop(['Class'], axis=1).to_numpy()\n",
    "\n",
    "print(X.shape, y.shape)\n",
    "print(X)"
   ]
  },
  {
   "cell_type": "code",
   "execution_count": 51,
   "id": "exotic-motion",
   "metadata": {},
   "outputs": [],
   "source": [
    "np.random.seed(RANDOM_STATE)\n",
    "noise = np.random.normal(1, 0.2, np.shape(X))\n",
    "X_noise_mul = np.multiply(X, noise)"
   ]
  },
  {
   "cell_type": "code",
   "execution_count": 52,
   "id": "afraid-stick",
   "metadata": {},
   "outputs": [
    {
     "name": "stdout",
     "output_type": "stream",
     "text": [
      "DecisionTreeClassifier(criterion='entropy', random_state=1345)\n",
      "The accuracy of model DecisionTreeClassifier is 0.63\n",
      "Accuracy on train set: 1.00\n",
      "Accuracy on test set: 0.63\n",
      "              precision    recall  f1-score   support\n",
      "\n",
      "         0.0       0.62      0.57      0.59        95\n",
      "         1.0       0.64      0.69      0.66       105\n",
      "\n",
      "    accuracy                           0.63       200\n",
      "   macro avg       0.63      0.63      0.63       200\n",
      "weighted avg       0.63      0.63      0.63       200\n",
      "\n"
     ]
    },
    {
     "data": {
      "image/png": "[encoded data removed]",
      "text/plain": [
       "<Figure size 324x324 with 1 Axes>"
      ]
     },
     "metadata": {
      "needs_background": "light"
     },
     "output_type": "display_data"
    },
    {
     "name": "stdout",
     "output_type": "stream",
     "text": [
      "\n",
      "\n",
      "DecisionTreeClassifier(criterion='entropy', max_depth=5, random_state=1345)\n",
      "The accuracy of model DecisionTreeClassifier is 0.68\n",
      "Accuracy on train set: 0.74\n",
      "Accuracy on test set: 0.68\n",
      "              precision    recall  f1-score   support\n",
      "\n",
      "         0.0       0.62      0.79      0.70        95\n",
      "         1.0       0.75      0.57      0.65       105\n",
      "\n",
      "    accuracy                           0.68       200\n",
      "   macro avg       0.69      0.68      0.67       200\n",
      "weighted avg       0.69      0.68      0.67       200\n",
      "\n"
     ]
    },
    {
     "data": {
      "image/png": "[encoded data removed]",
      "text/plain": [
       "<Figure size 324x324 with 1 Axes>"
      ]
     },
     "metadata": {
      "needs_background": "light"
     },
     "output_type": "display_data"
    },
    {
     "name": "stdout",
     "output_type": "stream",
     "text": [
      "\n",
      "\n",
      "RandomForestClassifier(criterion='entropy', n_estimators=10, random_state=1345)\n",
      "The accuracy of model RandomForestClassifier is 0.72\n",
      "Accuracy on train set: 0.98\n",
      "Accuracy on test set: 0.72\n",
      "              precision    recall  f1-score   support\n",
      "\n",
      "         0.0       0.68      0.80      0.73        95\n",
      "         1.0       0.78      0.66      0.72       105\n",
      "\n",
      "    accuracy                           0.73       200\n",
      "   macro avg       0.73      0.73      0.72       200\n",
      "weighted avg       0.73      0.72      0.72       200\n",
      "\n"
     ]
    },
    {
     "data": {
      "image/png": "[encoded data removed]",
      "text/plain": [
       "<Figure size 324x324 with 1 Axes>"
      ]
     },
     "metadata": {
      "needs_background": "light"
     },
     "output_type": "display_data"
    },
    {
     "name": "stdout",
     "output_type": "stream",
     "text": [
      "\n",
      "\n",
      "DecisionTreeClassifier(criterion='entropy', max_depth=1, random_state=1345)\n",
      "The accuracy of model DecisionTreeClassifier is 0.60\n",
      "Accuracy on train set: 0.63\n",
      "Accuracy on test set: 0.60\n",
      "              precision    recall  f1-score   support\n",
      "\n",
      "         0.0       0.55      0.84      0.67        95\n",
      "         1.0       0.73      0.38      0.50       105\n",
      "\n",
      "    accuracy                           0.60       200\n",
      "   macro avg       0.64      0.61      0.58       200\n",
      "weighted avg       0.64      0.60      0.58       200\n",
      "\n"
     ]
    },
    {
     "data": {
      "image/png": "[encoded data removed]",
      "text/plain": [
       "<Figure size 324x324 with 1 Axes>"
      ]
     },
     "metadata": {
      "needs_background": "light"
     },
     "output_type": "display_data"
    },
    {
     "name": "stdout",
     "output_type": "stream",
     "text": [
      "\n",
      "\n"
     ]
    }
   ],
   "source": [
    "noise_model= DecisionTreeClassifier(random_state=RANDOM_STATE, criterion='entropy') # using the random state for reproducibility\n",
    "noise_model_pr= DecisionTreeClassifier(random_state=RANDOM_STATE, criterion='entropy', max_depth=5)\n",
    "noise_model_rf = RandomForestClassifier(n_estimators=10, random_state=RANDOM_STATE,criterion='entropy')\n",
    "noise_model_stumb = DecisionTreeClassifier(random_state=RANDOM_STATE, criterion='entropy', max_depth=1)\n",
    "\n",
    "# now, create a list with the objects \n",
    "models= [noise_model,noise_model_pr,noise_model_rf,noise_model_stumb]\n",
    "\n",
    "for mode in models:\n",
    "    print(mode)\n",
    "    for iteration in range(100):\n",
    "        X_train, X_test, y_train, y_test = train_test_split(X_noise_mul, y, test_size=0.2, random_state=RANDOM_STATE)\n",
    "        mode.fit(X_train, y_train).score(X_test, y_test)\n",
    "    y_pred= mode.predict(X_test) # then predict on the test set\n",
    "    accuracy= accuracy_score(y_test, y_pred) # this gives us how often the algorithm predicted correctly\n",
    "    clf_report= classification_report(y_test, y_pred) # with the report, we have a bigger picture, with precision and recall for each class\n",
    "    print(f\"The accuracy of model {type(mode).__name__} is {accuracy:.2f}\")\n",
    "    score = mode.score(X_train, y_train)\n",
    "    print('Accuracy on train set: {:.2f}'.format(score))\n",
    "    score = mode.score(X_test, y_test)\n",
    "    print('Accuracy on test set: {:.2f}'.format(score))\n",
    "    print(clf_report)\n",
    "    proba = mode.predict_proba(X_test)\n",
    "    fpr, tpr, threshold = roc_curve(y_test, proba[:, 1])\n",
    "    auc_score = roc_auc_score(y_test, proba[:, 1])\n",
    "    plt.figure(figsize=(4.5, 4.5))\n",
    "    plt.xlim(0., 1.1)\n",
    "    plt.ylim(0., 1.1)\n",
    "    plt.plot(fpr, tpr, label='ROC (AUC = %0.4f)' % auc_score)\n",
    "    plt.legend(loc='lower right')\n",
    "    plt.title(\"ROC Curve\")\n",
    "    plt.xlabel(\"FPR\")\n",
    "    plt.ylabel(\"TPR\")\n",
    "    plt.show()\n",
    "    print(\"\\n\")"
   ]
  },
  {
   "cell_type": "code",
   "execution_count": 53,
   "id": "leading-balance",
   "metadata": {},
   "outputs": [
    {
     "name": "stdout",
     "output_type": "stream",
     "text": [
      "DecisionTreeClassifier(random_state=1345)\n",
      "Score mean: 0.608, std: 0.057\n",
      "DecisionTreeClassifier(criterion='entropy', max_depth=5, random_state=1345)\n",
      "Score mean: 0.648, std: 0.052\n",
      "RandomForestClassifier(criterion='entropy', n_estimators=10, random_state=1345)\n",
      "Score mean: 0.647, std: 0.050\n",
      "DecisionTreeClassifier(criterion='entropy', max_depth=1, random_state=1345)\n",
      "Score mean: 0.625, std: 0.040\n"
     ]
    }
   ],
   "source": [
    "rskf = RepeatedStratifiedKFold(n_splits=10, n_repeats=10,random_state=RANDOM_STATE)\n",
    "score1 = cross_val_score(model, X_train, y_train, cv=rskf)\n",
    "score2 = cross_val_score(model_pr, X_train, y_train, cv=rskf)\n",
    "score3 = cross_val_score(model_rf, X_train, y_train, cv=rskf)\n",
    "score4 = cross_val_score(model_stumb, X_train, y_train, cv=rskf)\n",
    "#print(score1)\n",
    "print(model)\n",
    "print('Score mean: {:.3f}, std: {:.3f}'.format(score1.mean(), score1.std()))\n",
    "print(model_pr)\n",
    "print('Score mean: {:.3f}, std: {:.3f}'.format(score2.mean(), score2.std()))\n",
    "print(model_rf)\n",
    "print('Score mean: {:.3f}, std: {:.3f}'.format(score3.mean(), score3.std()))\n",
    "print(model_stumb)\n",
    "print('Score mean: {:.3f}, std: {:.3f}'.format(score4.mean(), score4.std()))\n",
    "arr1 = np.array(score1)\n",
    "arr2 = np.array(score2)\n",
    "arr3 = np.array(score3)\n",
    "arr4 = np.array(score4)\n",
    "list5 = arr1.tolist()\n",
    "list6 = arr2.tolist()\n",
    "list7 = arr3.tolist()\n",
    "list8 = arr4.tolist()"
   ]
  },
  {
   "cell_type": "code",
   "execution_count": 54,
   "id": "executed-shoulder",
   "metadata": {},
   "outputs": [
    {
     "name": "stdout",
     "output_type": "stream",
     "text": [
      "    noise_model  noise_model_pr  noise_model_rf  noise_model_stumb\n",
      "0        0.5375          0.6250          0.6000             0.6375\n",
      "1        0.6000          0.6875          0.7500             0.6625\n",
      "2        0.6000          0.6500          0.7000             0.6750\n",
      "3        0.5375          0.6625          0.6375             0.5750\n",
      "4        0.5125          0.6125          0.6250             0.5750\n",
      "..          ...             ...             ...                ...\n",
      "95       0.6250          0.6000          0.6625             0.5875\n",
      "96       0.5625          0.4750          0.6625             0.6250\n",
      "97       0.5875          0.6500          0.6250             0.6125\n",
      "98       0.6125          0.6125          0.6000             0.6500\n",
      "99       0.5375          0.6875          0.6500             0.6250\n",
      "\n",
      "[100 rows x 4 columns]\n"
     ]
    }
   ],
   "source": [
    "data = {\n",
    "        'noise_model': list5,\n",
    "        'noise_model_pr': list6,\n",
    "        'noise_model_rf': list7,\n",
    "        'noise_model_stumb': list8\n",
    "      }\n",
    "#df = pd.DataFrame()\n",
    "df = pd.DataFrame(data, columns = ['noise_model','noise_model_pr','noise_model_rf','noise_model_stumb'])\n",
    "print(df)"
   ]
  },
  {
   "cell_type": "code",
   "execution_count": 55,
   "id": "exotic-interim",
   "metadata": {},
   "outputs": [
    {
     "name": "stdout",
     "output_type": "stream",
     "text": [
      "RankResult(rankdf=\n",
      "                   meanrank      mean       std  ci_lower  ci_upper  \\\n",
      "noise_model_pr        2.045  0.647875  0.051922  0.634665  0.661085   \n",
      "noise_model_rf        2.150  0.646625  0.049995  0.633905  0.659345   \n",
      "noise_model_stumb     2.740  0.625000  0.040475  0.614702  0.635298   \n",
      "noise_model           3.065  0.608375  0.056800  0.593924  0.622826   \n",
      "\n",
      "                  effect_size   magnitude  \n",
      "noise_model_pr            0.0  negligible  \n",
      "noise_model_rf       0.024525  negligible  \n",
      "noise_model_stumb    0.491388       small  \n",
      "noise_model          0.725898      medium  \n",
      "pvalue=1.6789667654868061e-09\n",
      "cd=0.46903593329832804\n",
      "omnibus=friedman\n",
      "posthoc=nemenyi\n",
      "all_normal=True\n",
      "pvals_shapiro=[0.14718365669250488, 0.27728697657585144, 0.21187283098697662, 0.4649565517902374]\n",
      "homoscedastic=False\n",
      "pval_homogeneity=0.009470055521297335\n",
      "homogeneity_test=bartlett\n",
      "alpha=0.05\n",
      "alpha_normality=0.0125\n",
      "num_samples=100\n",
      "posterior_matrix=\n",
      "None\n",
      "decision_matrix=\n",
      "None\n",
      "rope=None\n",
      "rope_mode=None\n",
      "effect_size=cohen_d)\n",
      "The statistical analysis was conducted for 4 populations with 100 paired samples.\n",
      "The family-wise significance level of the tests is alpha=0.050.\n",
      "We failed to reject the null hypothesis that the population is normal for all populations (minimal observed p-value=0.147). Therefore, we assume that all populations are normal.\n",
      "We applied Bartlett's test for homogeneity and reject the null hypothesis (p=0.009) that thedata is homoscedastic. Thus, we assume that our data is heteroscedastic.\n",
      "Because we have more than two populations and the populations are normal but heteroscedastic, we use the non-parametric Friedman test as omnibus test to determine if there are any significant differences between the mean values of the populations. We use the post-hoc Nemenyi test to infer which differences are significant. We report the mean value (M), the standard deviation (SD) and the mean rank (MR) among all populations over the samples. Differences between populations are significant, if the difference of the mean rank is greater than the critical distance CD=0.469 of the Nemenyi test.\n",
      "We reject the null hypothesis (p=0.000) of the Friedman test that there is no difference in the central tendency of the populations noise_model_pr (M=0.648+-0.013, SD=0.052, MR=2.045), noise_model_rf (M=0.647+-0.013, SD=0.050, MR=2.150), noise_model_stumb (M=0.625+-0.010, SD=0.040, MR=2.740), and noise_model (M=0.608+-0.014, SD=0.057, MR=3.065). Therefore, we assume that there is a statistically significant difference between the median values of the populations.\n",
      "Based on the post-hoc Nemenyi test, we assume that there are no significant differences within the following groups: noise_model_pr and noise_model_rf; noise_model_stumb and noise_model. All other differences are significant.\n"
     ]
    },
    {
     "data": {
      "text/plain": [
       "<matplotlib.axes._axes.Axes at 0x1b0712c64c0>"
      ]
     },
     "execution_count": 55,
     "metadata": {},
     "output_type": "execute_result"
    },
    {
     "data": {
      "image/png": "[encoded data removed]",
      "text/plain": [
       "<Figure size 432x118.8 with 1 Axes>"
      ]
     },
     "metadata": {},
     "output_type": "display_data"
    }
   ],
   "source": [
    "results = autorank(df)\n",
    "print(results)\n",
    "create_report(results)\n",
    "plot_stats(results)"
   ]
  },
  {
   "cell_type": "markdown",
   "id": "every-bullet",
   "metadata": {},
   "source": [
    "models performace on clean and noisy data"
   ]
  },
  {
   "cell_type": "code",
   "execution_count": 56,
   "id": "geographic-barcelona",
   "metadata": {},
   "outputs": [
    {
     "name": "stdout",
     "output_type": "stream",
     "text": [
      "     model  model_pr  model_rf  model_stumb  noise_model  noise_model_pr  \\\n",
      "0   0.6625    0.6375    0.6625         0.65       0.5375          0.6250   \n",
      "1   0.5750    0.6750    0.6625         0.57       0.6000          0.6875   \n",
      "2   0.5500    0.6500    0.6125         0.62       0.6000          0.6500   \n",
      "3   0.5750    0.5875    0.7000         0.65       0.5375          0.6625   \n",
      "4   0.6125    0.5750    0.6375         0.55       0.5125          0.6125   \n",
      "..     ...       ...       ...          ...          ...             ...   \n",
      "95  0.6125    0.5625    0.5750         0.64       0.6250          0.6000   \n",
      "96  0.5500    0.5875    0.5750         0.65       0.5625          0.4750   \n",
      "97  0.6125    0.6500    0.5875         0.61       0.5875          0.6500   \n",
      "98  0.6625    0.6500    0.7250         0.64       0.6125          0.6125   \n",
      "99  0.5500    0.6250    0.6875         0.64       0.5375          0.6875   \n",
      "\n",
      "    noise_model_rf  noise_model_stumb  \n",
      "0           0.6000             0.6375  \n",
      "1           0.7500             0.6625  \n",
      "2           0.7000             0.6750  \n",
      "3           0.6375             0.5750  \n",
      "4           0.6250             0.5750  \n",
      "..             ...                ...  \n",
      "95          0.6625             0.5875  \n",
      "96          0.6625             0.6250  \n",
      "97          0.6250             0.6125  \n",
      "98          0.6000             0.6500  \n",
      "99          0.6500             0.6250  \n",
      "\n",
      "[100 rows x 8 columns]\n"
     ]
    }
   ],
   "source": [
    "data = {'model': list1,\n",
    "        'model_pr': list2,\n",
    "        'model_rf': list3,\n",
    "        'model_stumb': list4,\n",
    "        'noise_model': list5,\n",
    "        'noise_model_pr': list6,\n",
    "        'noise_model_rf': list7,\n",
    "        'noise_model_stumb': list8\n",
    "      }\n",
    "#df = pd.DataFrame()\n",
    "df = pd.DataFrame(data, columns = ['model','model_pr','model_rf','model_stumb','noise_model','noise_model_pr','noise_model_rf','noise_model_stumb'])\n",
    "print(df)"
   ]
  },
  {
   "cell_type": "code",
   "execution_count": 57,
   "id": "transparent-accused",
   "metadata": {},
   "outputs": [
    {
     "name": "stdout",
     "output_type": "stream",
     "text": [
      "RankResult(rankdf=\n",
      "                   meanrank      mean       std  ci_lower  ci_upper  \\\n",
      "model_rf              3.330  0.649625  0.047985  0.636218  0.663032   \n",
      "noise_model_pr        3.395  0.647875  0.051922  0.633368  0.662382   \n",
      "noise_model_rf        3.450  0.646625  0.049995  0.632656  0.660594   \n",
      "model_pr              4.435  0.625375  0.049634  0.611507  0.639243   \n",
      "noise_model_stumb     4.610  0.625000  0.040475  0.613691  0.636309   \n",
      "noise_model           5.250  0.608375  0.056800  0.592505  0.624245   \n",
      "model_stumb           5.480  0.606700  0.037553  0.596207  0.617193   \n",
      "model                 6.050  0.591375  0.050711  0.577206  0.605544   \n",
      "\n",
      "                  effect_size   magnitude  \n",
      "model_rf                  0.0  negligible  \n",
      "noise_model_pr       0.035005  negligible  \n",
      "noise_model_rf       0.061224  negligible  \n",
      "model_pr             0.496757       small  \n",
      "noise_model_stumb     0.55475      medium  \n",
      "noise_model          0.784558      medium  \n",
      "model_stumb          0.996266       large  \n",
      "model                1.179937       large  \n",
      "pvalue=6.362682627415406e-25\n",
      "cd=1.0499208824271116\n",
      "omnibus=friedman\n",
      "posthoc=nemenyi\n",
      "all_normal=True\n",
      "pvals_shapiro=[0.16900143027305603, 0.0427287220954895, 0.26446646451950073, 0.15458041429519653, 0.14718365669250488, 0.27728697657585144, 0.21187283098697662, 0.4649565517902374]\n",
      "homoscedastic=False\n",
      "pval_homogeneity=0.0012031057438349553\n",
      "homogeneity_test=bartlett\n",
      "alpha=0.05\n",
      "alpha_normality=0.00625\n",
      "num_samples=100\n",
      "posterior_matrix=\n",
      "None\n",
      "decision_matrix=\n",
      "None\n",
      "rope=None\n",
      "rope_mode=None\n",
      "effect_size=cohen_d)\n",
      "The statistical analysis was conducted for 8 populations with 100 paired samples.\n",
      "The family-wise significance level of the tests is alpha=0.050.\n",
      "We failed to reject the null hypothesis that the population is normal for all populations (minimal observed p-value=0.043). Therefore, we assume that all populations are normal.\n",
      "We applied Bartlett's test for homogeneity and reject the null hypothesis (p=0.001) that thedata is homoscedastic. Thus, we assume that our data is heteroscedastic.\n",
      "Because we have more than two populations and the populations are normal but heteroscedastic, we use the non-parametric Friedman test as omnibus test to determine if there are any significant differences between the mean values of the populations. We use the post-hoc Nemenyi test to infer which differences are significant. We report the mean value (M), the standard deviation (SD) and the mean rank (MR) among all populations over the samples. Differences between populations are significant, if the difference of the mean rank is greater than the critical distance CD=1.050 of the Nemenyi test.\n",
      "We reject the null hypothesis (p=0.000) of the Friedman test that there is no difference in the central tendency of the populations model_rf (M=0.650+-0.013, SD=0.048, MR=3.330), noise_model_pr (M=0.648+-0.015, SD=0.052, MR=3.395), noise_model_rf (M=0.647+-0.014, SD=0.050, MR=3.450), model_pr (M=0.625+-0.014, SD=0.050, MR=4.435), noise_model_stumb (M=0.625+-0.011, SD=0.040, MR=4.610), noise_model (M=0.608+-0.016, SD=0.057, MR=5.250), model_stumb (M=0.607+-0.010, SD=0.038, MR=5.480), and model (M=0.591+-0.014, SD=0.051, MR=6.050). Therefore, we assume that there is a statistically significant difference between the median values of the populations.\n",
      "Based on the post-hoc Nemenyi test, we assume that there are no significant differences within the following groups: model_rf, noise_model_pr, and noise_model_rf; noise_model_pr, noise_model_rf, and model_pr; model_pr, noise_model_stumb, noise_model, and model_stumb; noise_model, model_stumb, and model. All other differences are significant.\n"
     ]
    },
    {
     "data": {
      "text/plain": [
       "<matplotlib.axes._axes.Axes at 0x1b070ebe0d0>"
      ]
     },
     "execution_count": 57,
     "metadata": {},
     "output_type": "execute_result"
    },
    {
     "data": {
      "image/png": "[encoded data removed]",
      "text/plain": [
       "<Figure size 432x162 with 1 Axes>"
      ]
     },
     "metadata": {},
     "output_type": "display_data"
    }
   ],
   "source": [
    "results = autorank(df)\n",
    "print(results)\n",
    "create_report(results)\n",
    "plot_stats(results)"
   ]
  },
  {
   "cell_type": "raw",
   "id": "taken-cabin",
   "metadata": {},
   "source": [
    "Null hypothesis: Noise does not change the accuracy of any model\n",
    "Alternative Hypothesis: Noise change the accuracy of the model\n",
    "Here I am comparing the values of the accuracy on the training set, accuracy on the test set, Area Under the curve of each model, mean accuracy calculated from the cross-validation, and the standard deviation\n",
    "Each row represents the results of the clean dataset:\n",
    "Model Name, Accuracy(traning),Accuracy(test),AUC,Accuracy(mean) ,Standard deviation\n",
    "Decision Tree, 1.00, 0.66, 0.66, 0.59, 0.050\n",
    "Pruned Decision tree, 0.73, 0.67, 0.73, 0.625, 0.049\n",
    "Random forest, 0.98, 0.69, 0.78, 0.65, 0.048\n",
    "Decision Stump, 0.619, 0.595, 0.60, 0.607, 0.037\n",
    "\n",
    "Multiplicative noise\n",
    "Each row represents the results of the noisy dataset:\n",
    "Model Name, Accuracy(traning),Accuracy(test),             AUC,    Accuracy(mean) ,Standard deviation\n",
    "Decision Tree,          1.00,         0.63,               0.627,  0.608,                0.057\n",
    "Pruned Decision tree,   0.74,         0.68,               0.74,   0.648,                0.052\n",
    "Random forest,          0.98,         0.72,               0.786,  0.647,                0.050\n",
    "Decision Stump,         0.63,         0.60,               0.61,   0.625,                0.040\n",
    "By analyzing the above two tables, 20%, multiplicative does not make any vast difference in the model's performance. For the normal decision tree, the standard deviation has been increased from 0.50 to 0.57. The performance of the decision stump has improved a little bit.\n",
    "Still pruned decision tree and Random forest performed well as compared with the two others. \n",
    "Comparing the random forest results in clean data and noisy data, we can't see a considerable difference between the two. Random forest performed slightly better on cleaned data compared with the noisy data.\n",
    "In the case of pruned decision tree, there is a minimal increase in the performance with noisy data.\n"
   ]
  },
  {
   "cell_type": "markdown",
   "id": "miniature-medline",
   "metadata": {},
   "source": [
    "Multiplicative noise will affect the model more the additive noise. Because multiplicative noise is hrder to remove than additive noise."
   ]
  },
  {
   "cell_type": "markdown",
   "id": "approximate-enemy",
   "metadata": {},
   "source": [
    "TASK 6"
   ]
  },
  {
   "cell_type": "code",
   "execution_count": 58,
   "id": "tender-infection",
   "metadata": {},
   "outputs": [],
   "source": [
    "np.random.seed(RANDOM_STATE)\n",
    "size=y.shape[0]\n",
    "indexes = np.random.randint(low=0, high=999, size=int(0.05*size))\n",
    "size1=int(0.05*size)\n",
    "for i in range(size1):\n",
    "  temp = labels.iloc[indexes[i]][0]\n",
    "  labels.iloc[indexes[i]][0] = not temp\n",
    "  #print(labels.iloc[indexes[i]][0])\n",
    "y_noise= labels['Class'].to_numpy()"
   ]
  },
  {
   "cell_type": "code",
   "execution_count": 59,
   "id": "found-period",
   "metadata": {},
   "outputs": [
    {
     "name": "stdout",
     "output_type": "stream",
     "text": [
      "DecisionTreeClassifier(criterion='entropy', random_state=1345)\n",
      "The accuracy of model DecisionTreeClassifier is 0.64\n",
      "Accuracy on train set: 1.00\n",
      "Accuracy on test set: 0.64\n",
      "              precision    recall  f1-score   support\n",
      "\n",
      "         0.0       0.62      0.64      0.63        95\n",
      "         1.0       0.66      0.64      0.65       105\n",
      "\n",
      "    accuracy                           0.64       200\n",
      "   macro avg       0.64      0.64      0.64       200\n",
      "weighted avg       0.64      0.64      0.64       200\n",
      "\n"
     ]
    },
    {
     "data": {
      "image/png": "[encoded data removed]",
      "text/plain": [
       "<Figure size 324x324 with 1 Axes>"
      ]
     },
     "metadata": {
      "needs_background": "light"
     },
     "output_type": "display_data"
    },
    {
     "name": "stdout",
     "output_type": "stream",
     "text": [
      "\n",
      "\n",
      "DecisionTreeClassifier(criterion='entropy', max_depth=5, random_state=1345)\n",
      "The accuracy of model DecisionTreeClassifier is 0.69\n",
      "Accuracy on train set: 0.75\n",
      "Accuracy on test set: 0.69\n",
      "              precision    recall  f1-score   support\n",
      "\n",
      "         0.0       0.67      0.69      0.68        95\n",
      "         1.0       0.72      0.70      0.71       105\n",
      "\n",
      "    accuracy                           0.69       200\n",
      "   macro avg       0.69      0.69      0.69       200\n",
      "weighted avg       0.70      0.69      0.70       200\n",
      "\n"
     ]
    },
    {
     "data": {
      "image/png": "[encoded data removed]",
      "text/plain": [
       "<Figure size 324x324 with 1 Axes>"
      ]
     },
     "metadata": {
      "needs_background": "light"
     },
     "output_type": "display_data"
    },
    {
     "name": "stdout",
     "output_type": "stream",
     "text": [
      "\n",
      "\n",
      "RandomForestClassifier(criterion='entropy', n_estimators=10, random_state=1345)\n",
      "The accuracy of model RandomForestClassifier is 0.71\n",
      "Accuracy on train set: 0.97\n",
      "Accuracy on test set: 0.71\n",
      "              precision    recall  f1-score   support\n",
      "\n",
      "         0.0       0.66      0.79      0.72        95\n",
      "         1.0       0.77      0.64      0.70       105\n",
      "\n",
      "    accuracy                           0.71       200\n",
      "   macro avg       0.72      0.71      0.71       200\n",
      "weighted avg       0.72      0.71      0.71       200\n",
      "\n"
     ]
    },
    {
     "data": {
      "image/png": "[encoded data removed]",
      "text/plain": [
       "<Figure size 324x324 with 1 Axes>"
      ]
     },
     "metadata": {
      "needs_background": "light"
     },
     "output_type": "display_data"
    },
    {
     "name": "stdout",
     "output_type": "stream",
     "text": [
      "\n",
      "\n",
      "DecisionTreeClassifier(criterion='entropy', max_depth=1, random_state=1345)\n",
      "The accuracy of model DecisionTreeClassifier is 0.59\n",
      "Accuracy on train set: 0.62\n",
      "Accuracy on test set: 0.59\n",
      "              precision    recall  f1-score   support\n",
      "\n",
      "         0.0       0.55      0.88      0.67        95\n",
      "         1.0       0.76      0.33      0.46       105\n",
      "\n",
      "    accuracy                           0.59       200\n",
      "   macro avg       0.65      0.61      0.57       200\n",
      "weighted avg       0.66      0.59      0.56       200\n",
      "\n"
     ]
    },
    {
     "data": {
      "image/png": "[encoded data removed]",
      "text/plain": [
       "<Figure size 324x324 with 1 Axes>"
      ]
     },
     "metadata": {
      "needs_background": "light"
     },
     "output_type": "display_data"
    },
    {
     "name": "stdout",
     "output_type": "stream",
     "text": [
      "\n",
      "\n"
     ]
    }
   ],
   "source": [
    "noise_model= DecisionTreeClassifier(random_state=RANDOM_STATE, criterion='entropy') # using the random state for reproducibility\n",
    "noise_model_pr= DecisionTreeClassifier(random_state=RANDOM_STATE, criterion='entropy', max_depth=5)\n",
    "noise_model_rf = RandomForestClassifier(n_estimators=10, random_state=RANDOM_STATE,criterion='entropy')\n",
    "noise_model_stumb = DecisionTreeClassifier(random_state=RANDOM_STATE, criterion='entropy', max_depth=1)\n",
    "\n",
    "# now, create a list with the objects \n",
    "models= [noise_model,noise_model_pr,noise_model_rf,noise_model_stumb]\n",
    "\n",
    "for mode in models:\n",
    "    print(mode)\n",
    "    for iteration in range(100):\n",
    "        X_train, X_test, y_train, y_test = train_test_split(X, y_noise, test_size=0.2, random_state=RANDOM_STATE)\n",
    "        res_clf1.append(mode.fit(X_train, y_train).score(X_test, y_test))\n",
    "    y_pred= mode.predict(X_test) # then predict on the test set\n",
    "    accuracy= accuracy_score(y_test, y_pred) # this gives us how often the algorithm predicted correctly\n",
    "    clf_report= classification_report(y_test, y_pred) # with the report, we have a bigger picture, with precision and recall for each class\n",
    "    print(f\"The accuracy of model {type(mode).__name__} is {accuracy:.2f}\")\n",
    "    score = mode.score(X_train, y_train)\n",
    "    print('Accuracy on train set: {:.2f}'.format(score))\n",
    "    score = mode.score(X_test, y_test)\n",
    "    print('Accuracy on test set: {:.2f}'.format(score))\n",
    "    print(clf_report)\n",
    "    proba = mode.predict_proba(X_test)\n",
    "    fpr, tpr, threshold = roc_curve(y_test, proba[:, 1])\n",
    "    auc_score = roc_auc_score(y_test, proba[:, 1])\n",
    "    plt.figure(figsize=(4.5, 4.5))\n",
    "    plt.xlim(0., 1.1)\n",
    "    plt.ylim(0., 1.1)\n",
    "    plt.plot(fpr, tpr, label='ROC (AUC = %0.4f)' % auc_score)\n",
    "    plt.legend(loc='lower right')\n",
    "    plt.title(\"ROC Curve\")\n",
    "    plt.xlabel(\"FPR\")\n",
    "    plt.ylabel(\"TPR\")\n",
    "    plt.show()\n",
    "    print(\"\\n\")"
   ]
  },
  {
   "cell_type": "code",
   "execution_count": 60,
   "id": "altered-election",
   "metadata": {},
   "outputs": [
    {
     "name": "stdout",
     "output_type": "stream",
     "text": [
      "DecisionTreeClassifier(random_state=1345)\n",
      "Score mean: 0.584, std: 0.056\n",
      "DecisionTreeClassifier(criterion='entropy', max_depth=5, random_state=1345)\n",
      "Score mean: 0.626, std: 0.047\n",
      "RandomForestClassifier(criterion='entropy', n_estimators=10, random_state=1345)\n",
      "Score mean: 0.627, std: 0.051\n",
      "DecisionTreeClassifier(criterion='entropy', max_depth=1, random_state=1345)\n",
      "Score mean: 0.612, std: 0.042\n"
     ]
    }
   ],
   "source": [
    "rskf = RepeatedStratifiedKFold(n_splits=10, n_repeats=10,random_state=RANDOM_STATE)\n",
    "score1 = cross_val_score(model, X_train, y_train, cv=rskf)\n",
    "score2 = cross_val_score(model_pr, X_train, y_train, cv=rskf)\n",
    "score3 = cross_val_score(model_rf, X_train, y_train, cv=rskf)\n",
    "score4 = cross_val_score(model_stumb, X_train, y_train, cv=rskf)\n",
    "#print(score1)\n",
    "print(model)\n",
    "print('Score mean: {:.3f}, std: {:.3f}'.format(score1.mean(), score1.std()))\n",
    "print(model_pr)\n",
    "print('Score mean: {:.3f}, std: {:.3f}'.format(score2.mean(), score2.std()))\n",
    "print(model_rf)\n",
    "print('Score mean: {:.3f}, std: {:.3f}'.format(score3.mean(), score3.std()))\n",
    "print(model_stumb)\n",
    "print('Score mean: {:.3f}, std: {:.3f}'.format(score4.mean(), score4.std()))\n",
    "arr1 = np.array(score1)\n",
    "arr2 = np.array(score2)\n",
    "arr3 = np.array(score3)\n",
    "arr4 = np.array(score4)\n",
    "list5 = arr1.tolist()\n",
    "list6 = arr2.tolist()\n",
    "list7 = arr3.tolist()\n",
    "list8 = arr4.tolist()"
   ]
  },
  {
   "cell_type": "code",
   "execution_count": 61,
   "id": "jewish-missile",
   "metadata": {},
   "outputs": [
    {
     "name": "stdout",
     "output_type": "stream",
     "text": [
      "    noise_model  noise_model_pr  noise_model_rf  noise_model_stumb\n",
      "0        0.5375          0.5750          0.7000             0.6125\n",
      "1        0.5250          0.5375          0.6000             0.6250\n",
      "2        0.5000          0.6750          0.6250             0.6375\n",
      "3        0.4875          0.6125          0.5250             0.5750\n",
      "4        0.4875          0.6125          0.6125             0.5750\n",
      "..          ...             ...             ...                ...\n",
      "95       0.5500          0.5375          0.5750             0.6125\n",
      "96       0.5750          0.7250          0.6500             0.7250\n",
      "97       0.5000          0.6000          0.6000             0.5750\n",
      "98       0.5625          0.6625          0.6125             0.6250\n",
      "99       0.5625          0.5500          0.6000             0.5500\n",
      "\n",
      "[100 rows x 4 columns]\n"
     ]
    }
   ],
   "source": [
    "data = {\n",
    "        'noise_model': list5,\n",
    "        'noise_model_pr': list6,\n",
    "        'noise_model_rf': list7,\n",
    "        'noise_model_stumb': list8\n",
    "      }\n",
    "#df = pd.DataFrame()\n",
    "df = pd.DataFrame(data, columns = ['noise_model','noise_model_pr','noise_model_rf','noise_model_stumb'])\n",
    "print(df)"
   ]
  },
  {
   "cell_type": "code",
   "execution_count": 62,
   "id": "cosmetic-clinton",
   "metadata": {},
   "outputs": [
    {
     "name": "stdout",
     "output_type": "stream",
     "text": [
      "RankResult(rankdf=\n",
      "                   meanrank      mean       std  ci_lower  ci_upper  \\\n",
      "noise_model_pr         2.15  0.626000  0.047497  0.613916  0.638084   \n",
      "noise_model_rf         2.17  0.626875  0.050826  0.613944  0.639806   \n",
      "noise_model_stumb      2.54  0.612250  0.042380  0.601468  0.623032   \n",
      "noise_model            3.14  0.584250  0.056425  0.569895  0.598605   \n",
      "\n",
      "                  effect_size   magnitude  \n",
      "noise_model_pr            0.0  negligible  \n",
      "noise_model_rf      -0.017788  negligible  \n",
      "noise_model_stumb    0.305482       small  \n",
      "noise_model          0.800541       large  \n",
      "pvalue=9.067436268583422e-09\n",
      "cd=0.46903593329832804\n",
      "omnibus=friedman\n",
      "posthoc=nemenyi\n",
      "all_normal=True\n",
      "pvals_shapiro=[0.6334297060966492, 0.06603206694126129, 0.23303921520709991, 0.07278371602296829]\n",
      "homoscedastic=False\n",
      "pval_homogeneity=0.03736345462803734\n",
      "homogeneity_test=bartlett\n",
      "alpha=0.05\n",
      "alpha_normality=0.0125\n",
      "num_samples=100\n",
      "posterior_matrix=\n",
      "None\n",
      "decision_matrix=\n",
      "None\n",
      "rope=None\n",
      "rope_mode=None\n",
      "effect_size=cohen_d)\n",
      "The statistical analysis was conducted for 4 populations with 100 paired samples.\n",
      "The family-wise significance level of the tests is alpha=0.050.\n",
      "We failed to reject the null hypothesis that the population is normal for all populations (minimal observed p-value=0.066). Therefore, we assume that all populations are normal.\n",
      "We applied Bartlett's test for homogeneity and reject the null hypothesis (p=0.037) that thedata is homoscedastic. Thus, we assume that our data is heteroscedastic.\n",
      "Because we have more than two populations and the populations are normal but heteroscedastic, we use the non-parametric Friedman test as omnibus test to determine if there are any significant differences between the mean values of the populations. We use the post-hoc Nemenyi test to infer which differences are significant. We report the mean value (M), the standard deviation (SD) and the mean rank (MR) among all populations over the samples. Differences between populations are significant, if the difference of the mean rank is greater than the critical distance CD=0.469 of the Nemenyi test.\n",
      "We reject the null hypothesis (p=0.000) of the Friedman test that there is no difference in the central tendency of the populations noise_model_pr (M=0.626+-0.012, SD=0.047, MR=2.150), noise_model_rf (M=0.627+-0.013, SD=0.051, MR=2.170), noise_model_stumb (M=0.612+-0.011, SD=0.042, MR=2.540), and noise_model (M=0.584+-0.014, SD=0.056, MR=3.140). Therefore, we assume that there is a statistically significant difference between the median values of the populations.\n",
      "Based on the post-hoc Nemenyi test, we assume that there are no significant differences within the following groups: noise_model_pr, noise_model_rf, and noise_model_stumb. All other differences are significant.\n"
     ]
    },
    {
     "data": {
      "text/plain": [
       "<matplotlib.axes._axes.Axes at 0x1b07133dbe0>"
      ]
     },
     "execution_count": 62,
     "metadata": {},
     "output_type": "execute_result"
    },
    {
     "data": {
      "image/png": "[encoded data removed]",
      "text/plain": [
       "<Figure size 432x111.6 with 1 Axes>"
      ]
     },
     "metadata": {},
     "output_type": "display_data"
    }
   ],
   "source": [
    "results = autorank(df)\n",
    "print(results)\n",
    "create_report(results)\n",
    "plot_stats(results)"
   ]
  },
  {
   "cell_type": "code",
   "execution_count": 63,
   "id": "surrounded-spanking",
   "metadata": {},
   "outputs": [
    {
     "name": "stdout",
     "output_type": "stream",
     "text": [
      "     model  model_pr  model_rf  model_stumb  noise_model  noise_model_pr  \\\n",
      "0   0.6625    0.6375    0.6625         0.65       0.5375          0.5750   \n",
      "1   0.5750    0.6750    0.6625         0.57       0.5250          0.5375   \n",
      "2   0.5500    0.6500    0.6125         0.62       0.5000          0.6750   \n",
      "3   0.5750    0.5875    0.7000         0.65       0.4875          0.6125   \n",
      "4   0.6125    0.5750    0.6375         0.55       0.4875          0.6125   \n",
      "..     ...       ...       ...          ...          ...             ...   \n",
      "95  0.6125    0.5625    0.5750         0.64       0.5500          0.5375   \n",
      "96  0.5500    0.5875    0.5750         0.65       0.5750          0.7250   \n",
      "97  0.6125    0.6500    0.5875         0.61       0.5000          0.6000   \n",
      "98  0.6625    0.6500    0.7250         0.64       0.5625          0.6625   \n",
      "99  0.5500    0.6250    0.6875         0.64       0.5625          0.5500   \n",
      "\n",
      "    noise_model_rf  noise_model_stumb  \n",
      "0           0.7000             0.6125  \n",
      "1           0.6000             0.6250  \n",
      "2           0.6250             0.6375  \n",
      "3           0.5250             0.5750  \n",
      "4           0.6125             0.5750  \n",
      "..             ...                ...  \n",
      "95          0.5750             0.6125  \n",
      "96          0.6500             0.7250  \n",
      "97          0.6000             0.5750  \n",
      "98          0.6125             0.6250  \n",
      "99          0.6000             0.5500  \n",
      "\n",
      "[100 rows x 8 columns]\n"
     ]
    }
   ],
   "source": [
    "data = {'model': list1,\n",
    "        'model_pr': list2,\n",
    "        'model_rf': list3,\n",
    "        'model_stumb': list4,\n",
    "        'noise_model': list5,\n",
    "        'noise_model_pr': list6,\n",
    "        'noise_model_rf': list7,\n",
    "        'noise_model_stumb': list8\n",
    "      }\n",
    "#df = pd.DataFrame()\n",
    "df = pd.DataFrame(data, columns = ['model','model_pr','model_rf','model_stumb','noise_model','noise_model_pr','noise_model_rf','noise_model_stumb'])\n",
    "print(df)"
   ]
  },
  {
   "cell_type": "code",
   "execution_count": 64,
   "id": "changing-event",
   "metadata": {},
   "outputs": [
    {
     "name": "stdout",
     "output_type": "stream",
     "text": [
      "RankResult(rankdf=\n",
      "                   meanrank      mean       std  ci_lower  ci_upper  \\\n",
      "model_rf              3.005  0.649625  0.047985  0.636218  0.663032   \n",
      "model_pr              3.940  0.625375  0.049634  0.611507  0.639243   \n",
      "noise_model_rf        4.015  0.626875  0.050826  0.612674  0.641076   \n",
      "noise_model_pr        4.025  0.626000  0.047497  0.612729  0.639271   \n",
      "noise_model_stumb     4.685  0.612250  0.042380  0.600409  0.624091   \n",
      "model_stumb           4.845  0.606700  0.037553  0.596207  0.617193   \n",
      "model                 5.635  0.591375  0.050711  0.577206  0.605544   \n",
      "noise_model           5.850  0.584250  0.056425  0.568484  0.600016   \n",
      "\n",
      "                  effect_size   magnitude  \n",
      "model_rf                  0.0  negligible  \n",
      "model_pr             0.496757       small  \n",
      "noise_model_rf       0.460286       small  \n",
      "noise_model_pr       0.494852       small  \n",
      "noise_model_stumb    0.825617       large  \n",
      "model_stumb          0.996266       large  \n",
      "model                1.179937       large  \n",
      "noise_model          1.248202       large  \n",
      "pvalue=4.293034714887762e-20\n",
      "cd=1.0499208824271116\n",
      "omnibus=friedman\n",
      "posthoc=nemenyi\n",
      "all_normal=True\n",
      "pvals_shapiro=[0.16900143027305603, 0.0427287220954895, 0.26446646451950073, 0.15458041429519653, 0.6334297060966492, 0.06603206694126129, 0.23303921520709991, 0.07278371602296829]\n",
      "homoscedastic=False\n",
      "pval_homogeneity=0.005045251396475843\n",
      "homogeneity_test=bartlett\n",
      "alpha=0.05\n",
      "alpha_normality=0.00625\n",
      "num_samples=100\n",
      "posterior_matrix=\n",
      "None\n",
      "decision_matrix=\n",
      "None\n",
      "rope=None\n",
      "rope_mode=None\n",
      "effect_size=cohen_d)\n",
      "The statistical analysis was conducted for 8 populations with 100 paired samples.\n",
      "The family-wise significance level of the tests is alpha=0.050.\n",
      "We failed to reject the null hypothesis that the population is normal for all populations (minimal observed p-value=0.043). Therefore, we assume that all populations are normal.\n",
      "We applied Bartlett's test for homogeneity and reject the null hypothesis (p=0.005) that thedata is homoscedastic. Thus, we assume that our data is heteroscedastic.\n",
      "Because we have more than two populations and the populations are normal but heteroscedastic, we use the non-parametric Friedman test as omnibus test to determine if there are any significant differences between the mean values of the populations. We use the post-hoc Nemenyi test to infer which differences are significant. We report the mean value (M), the standard deviation (SD) and the mean rank (MR) among all populations over the samples. Differences between populations are significant, if the difference of the mean rank is greater than the critical distance CD=1.050 of the Nemenyi test.\n",
      "We reject the null hypothesis (p=0.000) of the Friedman test that there is no difference in the central tendency of the populations model_rf (M=0.650+-0.013, SD=0.048, MR=3.005), model_pr (M=0.625+-0.014, SD=0.050, MR=3.940), noise_model_rf (M=0.627+-0.014, SD=0.051, MR=4.015), noise_model_pr (M=0.626+-0.013, SD=0.047, MR=4.025), noise_model_stumb (M=0.612+-0.012, SD=0.042, MR=4.685), model_stumb (M=0.607+-0.010, SD=0.038, MR=4.845), model (M=0.591+-0.014, SD=0.051, MR=5.635), and noise_model (M=0.584+-0.016, SD=0.056, MR=5.850). Therefore, we assume that there is a statistically significant difference between the median values of the populations.\n",
      "Based on the post-hoc Nemenyi test, we assume that there are no significant differences within the following groups: model_rf, model_pr, noise_model_rf, and noise_model_pr; model_pr, noise_model_rf, noise_model_pr, noise_model_stumb, and model_stumb; noise_model_stumb, model_stumb, and model; model_stumb, model, and noise_model. All other differences are significant.\n"
     ]
    },
    {
     "data": {
      "text/plain": [
       "<matplotlib.axes._axes.Axes at 0x1b07133ddc0>"
      ]
     },
     "execution_count": 64,
     "metadata": {},
     "output_type": "execute_result"
    },
    {
     "data": {
      "image/png": "[encoded data removed]",
      "text/plain": [
       "<Figure size 432x162 with 1 Axes>"
      ]
     },
     "metadata": {},
     "output_type": "display_data"
    }
   ],
   "source": [
    "results = autorank(df)\n",
    "print(results)\n",
    "create_report(results)\n",
    "plot_stats(results)"
   ]
  },
  {
   "cell_type": "raw",
   "id": "driving-moment",
   "metadata": {},
   "source": [
    "Here I am comparing the values of the accuracy on the training set, accuracy on the test set, Area Under the curve of each model, mean accuracy calculated from the cross-validation, and the standard deviation\n",
    "Each row represents the results of the clean dataset:\n",
    "Model Name, Accuracy(traning),Accuracy(test),AUC,Accuracy(mean) ,Standard deviation\n",
    "Decision Tree, 1.00, 0.66, 0.66, 0.59, 0.050\n",
    "Pruned Decision tree, 0.73, 0.67, 0.73, 0.625, 0.049\n",
    "Random forest, 0.98, 0.69, 0.78, 0.65, 0.048\n",
    "Decision Stump, 0.619, 0.595, 0.60, 0.607, 0.037\n",
    "\n",
    "Adding noise to the output class\n",
    "Each row represents the results of the noisy dataset:\n",
    "Model Name, Accuracy(traning),Accuracy(test),AUC,Accuracy(mean) ,Standard deviation\n",
    "Decision Tree, 1.00, 0.64, 0.64, 0.584, 0.056\n",
    "Pruned Decision tree, 0.77, 0.69, 0.67, 0.626, 0.047\n",
    "Random forest, 0.97, 0.71, 0.77, 0.627, 0.051\n",
    "Decision Stump, 0.62, 0.59, 0.608, 0.612, 0.042\n",
    "Adding noise to the output class reduced the AUC for both pruned and unpruned trees. Random forest almost performed well even with the noise in the output class. The decision stump almost performed the same in the cleaned and noisy data. \n",
    "For the output class, the random noise forest performed better than any other model. Because it has better AUC, accuracy on test data, and accuracy mean compared with any other model.\n"
   ]
  },
  {
   "cell_type": "markdown",
   "id": "described-neighbor",
   "metadata": {},
   "source": [
    "Class noise and the Feature noise affect the classifiers differently. Both will will reduce the accuracy of classifiers and increase the training time of the classifiers. Class noise imapcts the classifier more that feature noise. I have analysed 5% of class noise and 20% feature noise, both of them give almost same accuracy. so, when the class noise will increase it will again reduce the accuracy of the model."
   ]
  },
  {
   "cell_type": "markdown",
   "id": "novel-today",
   "metadata": {},
   "source": [
    "TASK 7"
   ]
  },
  {
   "cell_type": "code",
   "execution_count": 65,
   "id": "metropolitan-terrain",
   "metadata": {},
   "outputs": [
    {
     "name": "stdout",
     "output_type": "stream",
     "text": [
      "(1000, 10) (1000,)\n"
     ]
    }
   ],
   "source": [
    "df = pd.read_csv(\"output.csv\")\n",
    "df.head()\n",
    "y = df['Class'].to_numpy()\n",
    "X = df.drop(['Class'], axis=1).to_numpy()\n",
    "\n",
    "print(X.shape, y.shape)"
   ]
  },
  {
   "cell_type": "code",
   "execution_count": 66,
   "id": "drawn-board",
   "metadata": {},
   "outputs": [],
   "source": [
    "np.random.seed(RANDOM_STATE)\n",
    "X_train, X_test, y_train, y_test = train_test_split(X, y, test_size=0.2, random_state=RANDOM_STATE)\n",
    "noise = np.random.normal(1, 0.2, np.shape(X_train))\n",
    "#X_noise = np.multiply(X_train, noise)"
   ]
  },
  {
   "cell_type": "code",
   "execution_count": 67,
   "id": "novel-match",
   "metadata": {},
   "outputs": [
    {
     "name": "stdout",
     "output_type": "stream",
     "text": [
      "DecisionTreeClassifier(criterion='entropy', random_state=1345)\n",
      "The accuracy of model DecisionTreeClassifier is 0.69\n",
      "Accuracy on train set: 0.82\n",
      "Accuracy on test set: 0.69\n",
      "              precision    recall  f1-score   support\n",
      "\n",
      "         0.0       0.69      0.64      0.67        95\n",
      "         1.0       0.70      0.74      0.72       105\n",
      "\n",
      "    accuracy                           0.69       200\n",
      "   macro avg       0.69      0.69      0.69       200\n",
      "weighted avg       0.69      0.69      0.69       200\n",
      "\n"
     ]
    },
    {
     "data": {
      "image/png": "[encoded data removed]",
      "text/plain": [
       "<Figure size 324x324 with 1 Axes>"
      ]
     },
     "metadata": {
      "needs_background": "light"
     },
     "output_type": "display_data"
    },
    {
     "name": "stdout",
     "output_type": "stream",
     "text": [
      "\n",
      "\n",
      "DecisionTreeClassifier(criterion='entropy', max_depth=5, random_state=1345)\n",
      "The accuracy of model DecisionTreeClassifier is 0.68\n",
      "Accuracy on train set: 0.71\n",
      "Accuracy on test set: 0.68\n",
      "              precision    recall  f1-score   support\n",
      "\n",
      "         0.0       0.63      0.80      0.70        95\n",
      "         1.0       0.76      0.57      0.65       105\n",
      "\n",
      "    accuracy                           0.68       200\n",
      "   macro avg       0.69      0.69      0.68       200\n",
      "weighted avg       0.70      0.68      0.68       200\n",
      "\n"
     ]
    },
    {
     "data": {
      "image/png": "[encoded data removed]",
      "text/plain": [
       "<Figure size 324x324 with 1 Axes>"
      ]
     },
     "metadata": {
      "needs_background": "light"
     },
     "output_type": "display_data"
    },
    {
     "name": "stdout",
     "output_type": "stream",
     "text": [
      "\n",
      "\n",
      "RandomForestClassifier(criterion='entropy', n_estimators=10, random_state=1345)\n",
      "The accuracy of model RandomForestClassifier is 0.67\n",
      "Accuracy on train set: 0.86\n",
      "Accuracy on test set: 0.67\n",
      "              precision    recall  f1-score   support\n",
      "\n",
      "         0.0       0.62      0.77      0.69        95\n",
      "         1.0       0.73      0.58      0.65       105\n",
      "\n",
      "    accuracy                           0.67       200\n",
      "   macro avg       0.68      0.67      0.67       200\n",
      "weighted avg       0.68      0.67      0.67       200\n",
      "\n"
     ]
    },
    {
     "data": {
      "image/png": "[encoded data removed]",
      "text/plain": [
       "<Figure size 324x324 with 1 Axes>"
      ]
     },
     "metadata": {
      "needs_background": "light"
     },
     "output_type": "display_data"
    },
    {
     "name": "stdout",
     "output_type": "stream",
     "text": [
      "\n",
      "\n",
      "DecisionTreeClassifier(criterion='entropy', max_depth=1, random_state=1345)\n",
      "The accuracy of model DecisionTreeClassifier is 0.58\n",
      "Accuracy on train set: 0.61\n",
      "Accuracy on test set: 0.58\n",
      "              precision    recall  f1-score   support\n",
      "\n",
      "         0.0       0.54      0.91      0.67        95\n",
      "         1.0       0.78      0.30      0.43       105\n",
      "\n",
      "    accuracy                           0.58       200\n",
      "   macro avg       0.66      0.60      0.55       200\n",
      "weighted avg       0.66      0.58      0.54       200\n",
      "\n"
     ]
    },
    {
     "data": {
      "image/png": "[encoded data removed]",
      "text/plain": [
       "<Figure size 324x324 with 1 Axes>"
      ]
     },
     "metadata": {
      "needs_background": "light"
     },
     "output_type": "display_data"
    },
    {
     "name": "stdout",
     "output_type": "stream",
     "text": [
      "\n",
      "\n"
     ]
    }
   ],
   "source": [
    "noise_model= DecisionTreeClassifier(random_state=RANDOM_STATE, criterion='entropy') # using the random state for reproducibility\n",
    "noise_model_pr= DecisionTreeClassifier(random_state=RANDOM_STATE, criterion='entropy', max_depth=5)\n",
    "noise_model_rf = RandomForestClassifier(n_estimators=10, random_state=RANDOM_STATE,criterion='entropy')\n",
    "noise_model_stumb = DecisionTreeClassifier(random_state=RANDOM_STATE, criterion='entropy', max_depth=1)\n",
    "\n",
    "# now, create a list with the objects \n",
    "models= [noise_model,noise_model_pr,noise_model_rf,noise_model_stumb]\n",
    "\n",
    "for mode in models:\n",
    "    print(mode)\n",
    "    for iteration in range(100):\n",
    "        X_train, X_test, y_train, y_test = train_test_split(X, y, test_size=0.2, random_state=RANDOM_STATE)\n",
    "        X_noise = np.multiply(X_train, noise)\n",
    "        mode.fit(X_noise, y_train).score(X_test, y_test)\n",
    "    y_pred= mode.predict(X_test) # then predict on the test set\n",
    "    accuracy= accuracy_score(y_test, y_pred) # this gives us how often the algorithm predicted correctly\n",
    "    clf_report= classification_report(y_test, y_pred) # with the report, we have a bigger picture, with precision and recall for each class\n",
    "    print(f\"The accuracy of model {type(mode).__name__} is {accuracy:.2f}\")\n",
    "    score = mode.score(X_train, y_train)\n",
    "    print('Accuracy on train set: {:.2f}'.format(score))\n",
    "    score = mode.score(X_test, y_test)\n",
    "    print('Accuracy on test set: {:.2f}'.format(score))\n",
    "    print(clf_report)\n",
    "    proba = mode.predict_proba(X_test)\n",
    "    fpr, tpr, threshold = roc_curve(y_test, proba[:, 1])\n",
    "    auc_score = roc_auc_score(y_test, proba[:, 1])\n",
    "    plt.figure(figsize=(4.5, 4.5))\n",
    "    plt.xlim(0., 1.1)\n",
    "    plt.ylim(0., 1.1)\n",
    "    plt.plot(fpr, tpr, label='ROC (AUC = %0.4f)' % auc_score)\n",
    "    plt.legend(loc='lower right')\n",
    "    plt.title(\"ROC Curve\")\n",
    "    plt.xlabel(\"FPR\")\n",
    "    plt.ylabel(\"TPR\")\n",
    "    plt.show()\n",
    "    print(\"\\n\")"
   ]
  },
  {
   "cell_type": "code",
   "execution_count": 68,
   "id": "prompt-assurance",
   "metadata": {},
   "outputs": [
    {
     "name": "stdout",
     "output_type": "stream",
     "text": [
      "DecisionTreeClassifier(random_state=1345)\n",
      "Score mean: 0.585, std: 0.059\n",
      "DecisionTreeClassifier(criterion='entropy', max_depth=5, random_state=1345)\n",
      "Score mean: 0.616, std: 0.055\n",
      "RandomForestClassifier(criterion='entropy', n_estimators=10, random_state=1345)\n",
      "Score mean: 0.635, std: 0.050\n",
      "DecisionTreeClassifier(criterion='entropy', max_depth=1, random_state=1345)\n",
      "Score mean: 0.578, std: 0.039\n"
     ]
    }
   ],
   "source": [
    "rskf = RepeatedStratifiedKFold(n_splits=10, n_repeats=10,random_state=RANDOM_STATE)\n",
    "score1 = cross_val_score(model, X_noise, y_train, cv=rskf)\n",
    "score2 = cross_val_score(model_pr, X_noise, y_train, cv=rskf)\n",
    "score3 = cross_val_score(model_rf, X_noise, y_train, cv=rskf)\n",
    "score4 = cross_val_score(model_stumb, X_noise, y_train, cv=rskf)\n",
    "#print(score1)\n",
    "print(model)\n",
    "print('Score mean: {:.3f}, std: {:.3f}'.format(score1.mean(), score1.std()))\n",
    "print(model_pr)\n",
    "print('Score mean: {:.3f}, std: {:.3f}'.format(score2.mean(), score2.std()))\n",
    "print(model_rf)\n",
    "print('Score mean: {:.3f}, std: {:.3f}'.format(score3.mean(), score3.std()))\n",
    "print(model_stumb)\n",
    "print('Score mean: {:.3f}, std: {:.3f}'.format(score4.mean(), score4.std()))\n",
    "arr1 = np.array(score1)\n",
    "arr2 = np.array(score2)\n",
    "arr3 = np.array(score3)\n",
    "arr4 = np.array(score4)\n",
    "list5 = arr1.tolist()\n",
    "list6 = arr2.tolist()\n",
    "list7 = arr3.tolist()\n",
    "list8 = arr4.tolist()"
   ]
  },
  {
   "cell_type": "code",
   "execution_count": 69,
   "id": "worth-costume",
   "metadata": {
    "tags": []
   },
   "outputs": [
    {
     "name": "stdout",
     "output_type": "stream",
     "text": [
      "    noise_model  noise_model_pr  noise_model_rf  noise_model_stumb\n",
      "0        0.6125          0.6000          0.6750             0.5375\n",
      "1        0.6375          0.6375          0.6875             0.6500\n",
      "2        0.6250          0.6000          0.6375             0.5250\n",
      "3        0.5375          0.5250          0.6250             0.5500\n",
      "4        0.5875          0.5250          0.6000             0.5375\n",
      "..          ...             ...             ...                ...\n",
      "95       0.5375          0.5750          0.6250             0.5875\n",
      "96       0.6000          0.4875          0.6125             0.6000\n",
      "97       0.5125          0.6250          0.6625             0.5125\n",
      "98       0.5750          0.6000          0.6125             0.6000\n",
      "99       0.6250          0.6625          0.6875             0.5625\n",
      "\n",
      "[100 rows x 4 columns]\n"
     ]
    }
   ],
   "source": [
    "data = {\n",
    "        'noise_model': list5,\n",
    "        'noise_model_pr': list6,\n",
    "        'noise_model_rf': list7,\n",
    "        'noise_model_stumb': list8\n",
    "      }\n",
    "#df = pd.DataFrame()\n",
    "df = pd.DataFrame(data, columns = ['noise_model','noise_model_pr','noise_model_rf','noise_model_stumb'])\n",
    "print(df)"
   ]
  },
  {
   "cell_type": "code",
   "execution_count": 70,
   "id": "proud-halifax",
   "metadata": {},
   "outputs": [
    {
     "name": "stdout",
     "output_type": "stream",
     "text": [
      "RankResult(rankdf=\n",
      "                   meanrank      mean       std  ci_lower  ci_upper  \\\n",
      "noise_model_rf        1.745  0.634875  0.050355  0.622064  0.647686   \n",
      "noise_model_pr        2.200  0.616125  0.054856  0.602169  0.630081   \n",
      "noise_model           2.950  0.585250  0.059309  0.570161  0.600339   \n",
      "noise_model_stumb     3.105  0.577500  0.039167  0.567535  0.587465   \n",
      "\n",
      "                  effect_size   magnitude  \n",
      "noise_model_rf            0.0  negligible  \n",
      "noise_model_pr       0.356101       small  \n",
      "noise_model          0.902029       large  \n",
      "noise_model_stumb    1.271903       large  \n",
      "pvalue=1.0921164457103575e-16\n",
      "cd=0.46903593329832804\n",
      "omnibus=friedman\n",
      "posthoc=nemenyi\n",
      "all_normal=True\n",
      "pvals_shapiro=[0.2586713433265686, 0.3202856183052063, 0.08690430223941803, 0.061998605728149414]\n",
      "homoscedastic=False\n",
      "pval_homogeneity=0.0005179583739302941\n",
      "homogeneity_test=bartlett\n",
      "alpha=0.05\n",
      "alpha_normality=0.0125\n",
      "num_samples=100\n",
      "posterior_matrix=\n",
      "None\n",
      "decision_matrix=\n",
      "None\n",
      "rope=None\n",
      "rope_mode=None\n",
      "effect_size=cohen_d)\n",
      "The statistical analysis was conducted for 4 populations with 100 paired samples.\n",
      "The family-wise significance level of the tests is alpha=0.050.\n",
      "We failed to reject the null hypothesis that the population is normal for all populations (minimal observed p-value=0.062). Therefore, we assume that all populations are normal.\n",
      "We applied Bartlett's test for homogeneity and reject the null hypothesis (p=0.001) that thedata is homoscedastic. Thus, we assume that our data is heteroscedastic.\n",
      "Because we have more than two populations and the populations are normal but heteroscedastic, we use the non-parametric Friedman test as omnibus test to determine if there are any significant differences between the mean values of the populations. We use the post-hoc Nemenyi test to infer which differences are significant. We report the mean value (M), the standard deviation (SD) and the mean rank (MR) among all populations over the samples. Differences between populations are significant, if the difference of the mean rank is greater than the critical distance CD=0.469 of the Nemenyi test.\n",
      "We reject the null hypothesis (p=0.000) of the Friedman test that there is no difference in the central tendency of the populations noise_model_rf (M=0.635+-0.013, SD=0.050, MR=1.745), noise_model_pr (M=0.616+-0.014, SD=0.055, MR=2.200), noise_model (M=0.585+-0.015, SD=0.059, MR=2.950), and noise_model_stumb (M=0.578+-0.010, SD=0.039, MR=3.105). Therefore, we assume that there is a statistically significant difference between the median values of the populations.\n",
      "Based on the post-hoc Nemenyi test, we assume that there are no significant differences within the following groups: noise_model_rf and noise_model_pr; noise_model and noise_model_stumb. All other differences are significant.\n"
     ]
    },
    {
     "data": {
      "text/plain": [
       "<matplotlib.axes._axes.Axes at 0x1b0716d4850>"
      ]
     },
     "execution_count": 70,
     "metadata": {},
     "output_type": "execute_result"
    },
    {
     "data": {
      "image/png": "[encoded data removed]",
      "text/plain": [
       "<Figure size 432x118.8 with 1 Axes>"
      ]
     },
     "metadata": {},
     "output_type": "display_data"
    }
   ],
   "source": [
    "results = autorank(df)\n",
    "print(results)\n",
    "create_report(results)\n",
    "plot_stats(results)"
   ]
  },
  {
   "cell_type": "code",
   "execution_count": 71,
   "id": "impressive-lottery",
   "metadata": {},
   "outputs": [
    {
     "name": "stdout",
     "output_type": "stream",
     "text": [
      "     model  model_pr  model_rf  model_stumb  noise_model  noise_model_pr  \\\n",
      "0   0.6625    0.6375    0.6625         0.65       0.6125          0.6000   \n",
      "1   0.5750    0.6750    0.6625         0.57       0.6375          0.6375   \n",
      "2   0.5500    0.6500    0.6125         0.62       0.6250          0.6000   \n",
      "3   0.5750    0.5875    0.7000         0.65       0.5375          0.5250   \n",
      "4   0.6125    0.5750    0.6375         0.55       0.5875          0.5250   \n",
      "..     ...       ...       ...          ...          ...             ...   \n",
      "95  0.6125    0.5625    0.5750         0.64       0.5375          0.5750   \n",
      "96  0.5500    0.5875    0.5750         0.65       0.6000          0.4875   \n",
      "97  0.6125    0.6500    0.5875         0.61       0.5125          0.6250   \n",
      "98  0.6625    0.6500    0.7250         0.64       0.5750          0.6000   \n",
      "99  0.5500    0.6250    0.6875         0.64       0.6250          0.6625   \n",
      "\n",
      "    noise_model_rf  noise_model_stumb  \n",
      "0           0.6750             0.5375  \n",
      "1           0.6875             0.6500  \n",
      "2           0.6375             0.5250  \n",
      "3           0.6250             0.5500  \n",
      "4           0.6000             0.5375  \n",
      "..             ...                ...  \n",
      "95          0.6250             0.5875  \n",
      "96          0.6125             0.6000  \n",
      "97          0.6625             0.5125  \n",
      "98          0.6125             0.6000  \n",
      "99          0.6875             0.5625  \n",
      "\n",
      "[100 rows x 8 columns]\n"
     ]
    }
   ],
   "source": [
    "data = {'model': list1,\n",
    "        'model_pr': list2,\n",
    "        'model_rf': list3,\n",
    "        'model_stumb': list4,\n",
    "        'noise_model': list5,\n",
    "        'noise_model_pr': list6,\n",
    "        'noise_model_rf': list7,\n",
    "        'noise_model_stumb': list8\n",
    "      }\n",
    "#df = pd.DataFrame()\n",
    "df = pd.DataFrame(data, columns = ['model','model_pr','model_rf','model_stumb','noise_model','noise_model_pr','noise_model_rf','noise_model_stumb'])\n",
    "print(df)"
   ]
  },
  {
   "cell_type": "code",
   "execution_count": 72,
   "id": "champion-facial",
   "metadata": {},
   "outputs": [
    {
     "name": "stdout",
     "output_type": "stream",
     "text": [
      "RankResult(rankdf=\n",
      "                   meanrank      mean       std  ci_lower  ci_upper  \\\n",
      "model_rf              2.750  0.649625  0.047985  0.636218  0.663032   \n",
      "noise_model_rf        3.265  0.634875  0.050355  0.620805  0.648945   \n",
      "model_pr              3.760  0.625375  0.049634  0.611507  0.639243   \n",
      "noise_model_pr        4.275  0.616125  0.054856  0.600798  0.631452   \n",
      "model_stumb           4.655  0.606700  0.037553  0.596207  0.617193   \n",
      "model                 5.520  0.591375  0.050711  0.577206  0.605544   \n",
      "noise_model           5.745  0.585250  0.059309  0.568678  0.601822   \n",
      "noise_model_stumb     6.030  0.577500  0.039167  0.566556  0.588444   \n",
      "\n",
      "                  effect_size   magnitude  \n",
      "model_rf                  0.0  negligible  \n",
      "noise_model_rf       0.299891       small  \n",
      "model_pr             0.496757       small  \n",
      "noise_model_pr       0.650044      medium  \n",
      "model_stumb          0.996266       large  \n",
      "model                1.179937       large  \n",
      "noise_model          1.193339       large  \n",
      "noise_model_stumb    1.646736       large  \n",
      "pvalue=6.9703676885245605e-34\n",
      "cd=1.0499208824271116\n",
      "omnibus=friedman\n",
      "posthoc=nemenyi\n",
      "all_normal=True\n",
      "pvals_shapiro=[0.16900143027305603, 0.0427287220954895, 0.26446646451950073, 0.15458041429519653, 0.2586713433265686, 0.3202856183052063, 0.08690430223941803, 0.061998605728149414]\n",
      "homoscedastic=False\n",
      "pval_homogeneity=4.507562612299136e-05\n",
      "homogeneity_test=bartlett\n",
      "alpha=0.05\n",
      "alpha_normality=0.00625\n",
      "num_samples=100\n",
      "posterior_matrix=\n",
      "None\n",
      "decision_matrix=\n",
      "None\n",
      "rope=None\n",
      "rope_mode=None\n",
      "effect_size=cohen_d)\n",
      "The statistical analysis was conducted for 8 populations with 100 paired samples.\n",
      "The family-wise significance level of the tests is alpha=0.050.\n",
      "We failed to reject the null hypothesis that the population is normal for all populations (minimal observed p-value=0.043). Therefore, we assume that all populations are normal.\n",
      "We applied Bartlett's test for homogeneity and reject the null hypothesis (p=0.000) that thedata is homoscedastic. Thus, we assume that our data is heteroscedastic.\n",
      "Because we have more than two populations and the populations are normal but heteroscedastic, we use the non-parametric Friedman test as omnibus test to determine if there are any significant differences between the mean values of the populations. We use the post-hoc Nemenyi test to infer which differences are significant. We report the mean value (M), the standard deviation (SD) and the mean rank (MR) among all populations over the samples. Differences between populations are significant, if the difference of the mean rank is greater than the critical distance CD=1.050 of the Nemenyi test.\n",
      "We reject the null hypothesis (p=0.000) of the Friedman test that there is no difference in the central tendency of the populations model_rf (M=0.650+-0.013, SD=0.048, MR=2.750), noise_model_rf (M=0.635+-0.014, SD=0.050, MR=3.265), model_pr (M=0.625+-0.014, SD=0.050, MR=3.760), noise_model_pr (M=0.616+-0.015, SD=0.055, MR=4.275), model_stumb (M=0.607+-0.010, SD=0.038, MR=4.655), model (M=0.591+-0.014, SD=0.051, MR=5.520), noise_model (M=0.585+-0.017, SD=0.059, MR=5.745), and noise_model_stumb (M=0.578+-0.011, SD=0.039, MR=6.030). Therefore, we assume that there is a statistically significant difference between the median values of the populations.\n",
      "Based on the post-hoc Nemenyi test, we assume that there are no significant differences within the following groups: model_rf, noise_model_rf, and model_pr; noise_model_rf, model_pr, and noise_model_pr; model_pr, noise_model_pr, and model_stumb; model_stumb and model; model, noise_model, and noise_model_stumb. All other differences are significant.\n"
     ]
    },
    {
     "data": {
      "text/plain": [
       "<matplotlib.axes._axes.Axes at 0x1b07175a550>"
      ]
     },
     "execution_count": 72,
     "metadata": {},
     "output_type": "execute_result"
    },
    {
     "data": {
      "image/png": "[encoded data removed]",
      "text/plain": [
       "<Figure size 432x169.2 with 1 Axes>"
      ]
     },
     "metadata": {},
     "output_type": "display_data"
    }
   ],
   "source": [
    "results = autorank(df)\n",
    "print(results)\n",
    "create_report(results)\n",
    "plot_stats(results)"
   ]
  },
  {
   "cell_type": "code",
   "execution_count": 73,
   "id": "stuck-rehabilitation",
   "metadata": {},
   "outputs": [
    {
     "name": "stdout",
     "output_type": "stream",
     "text": [
      "(1000, 10) (1000,)\n"
     ]
    }
   ],
   "source": [
    "df = pd.read_csv(\"output.csv\")\n",
    "df.head()\n",
    "y = df['Class'].to_numpy()\n",
    "X = df.drop(['Class'], axis=1).to_numpy()\n",
    "\n",
    "print(X.shape, y.shape)"
   ]
  },
  {
   "cell_type": "code",
   "execution_count": 74,
   "id": "measured-watershed",
   "metadata": {},
   "outputs": [],
   "source": [
    "X_train, X_test, y_train, y_test = train_test_split(X, y, test_size=0.2, random_state=RANDOM_STATE)"
   ]
  },
  {
   "cell_type": "code",
   "execution_count": 75,
   "id": "artistic-plaintiff",
   "metadata": {},
   "outputs": [],
   "source": [
    "np.random.seed(RANDOM_STATE)\n",
    "noise = np.random.normal(1, 0.2, np.shape(X_test))\n",
    "X_noise = np.multiply(X_test, noise)"
   ]
  },
  {
   "cell_type": "code",
   "execution_count": 76,
   "id": "applied-response",
   "metadata": {},
   "outputs": [
    {
     "name": "stdout",
     "output_type": "stream",
     "text": [
      "DecisionTreeClassifier(criterion='entropy', random_state=1345)\n",
      "The accuracy of model DecisionTreeClassifier is 0.67\n",
      "Accuracy on train set: 1.00\n",
      "Accuracy on test set: 0.67\n",
      "              precision    recall  f1-score   support\n",
      "\n",
      "         0.0       0.63      0.72      0.67        95\n",
      "         1.0       0.71      0.62      0.66       105\n",
      "\n",
      "    accuracy                           0.67       200\n",
      "   macro avg       0.67      0.67      0.66       200\n",
      "weighted avg       0.67      0.67      0.66       200\n",
      "\n"
     ]
    },
    {
     "data": {
      "image/png": "[encoded data removed]",
      "text/plain": [
       "<Figure size 324x324 with 1 Axes>"
      ]
     },
     "metadata": {
      "needs_background": "light"
     },
     "output_type": "display_data"
    },
    {
     "name": "stdout",
     "output_type": "stream",
     "text": [
      "\n",
      "\n",
      "DecisionTreeClassifier(criterion='entropy', max_depth=5, random_state=1345)\n",
      "The accuracy of model DecisionTreeClassifier is 0.67\n",
      "Accuracy on train set: 0.74\n",
      "Accuracy on test set: 0.67\n",
      "              precision    recall  f1-score   support\n",
      "\n",
      "         0.0       0.69      0.56      0.62        95\n",
      "         1.0       0.66      0.77      0.71       105\n",
      "\n",
      "    accuracy                           0.67       200\n",
      "   macro avg       0.67      0.66      0.66       200\n",
      "weighted avg       0.67      0.67      0.67       200\n",
      "\n"
     ]
    },
    {
     "data": {
      "image/png": "[encoded data removed]",
      "text/plain": [
       "<Figure size 324x324 with 1 Axes>"
      ]
     },
     "metadata": {
      "needs_background": "light"
     },
     "output_type": "display_data"
    },
    {
     "name": "stdout",
     "output_type": "stream",
     "text": [
      "\n",
      "\n",
      "RandomForestClassifier(criterion='entropy', n_estimators=10, random_state=1345)\n",
      "The accuracy of model RandomForestClassifier is 0.72\n",
      "Accuracy on train set: 0.98\n",
      "Accuracy on test set: 0.72\n",
      "              precision    recall  f1-score   support\n",
      "\n",
      "         0.0       0.68      0.79      0.73        95\n",
      "         1.0       0.78      0.66      0.71       105\n",
      "\n",
      "    accuracy                           0.72       200\n",
      "   macro avg       0.73      0.72      0.72       200\n",
      "weighted avg       0.73      0.72      0.72       200\n",
      "\n"
     ]
    },
    {
     "data": {
      "image/png": "[encoded data removed]",
      "text/plain": [
       "<Figure size 324x324 with 1 Axes>"
      ]
     },
     "metadata": {
      "needs_background": "light"
     },
     "output_type": "display_data"
    },
    {
     "name": "stdout",
     "output_type": "stream",
     "text": [
      "\n",
      "\n",
      "DecisionTreeClassifier(criterion='entropy', max_depth=1, random_state=1345)\n",
      "The accuracy of model DecisionTreeClassifier is 0.58\n",
      "Accuracy on train set: 0.62\n",
      "Accuracy on test set: 0.58\n",
      "              precision    recall  f1-score   support\n",
      "\n",
      "         0.0       0.54      0.88      0.67        95\n",
      "         1.0       0.74      0.30      0.43       105\n",
      "\n",
      "    accuracy                           0.58       200\n",
      "   macro avg       0.64      0.59      0.55       200\n",
      "weighted avg       0.64      0.58      0.54       200\n",
      "\n"
     ]
    },
    {
     "data": {
      "image/png": "[encoded data removed]",
      "text/plain": [
       "<Figure size 324x324 with 1 Axes>"
      ]
     },
     "metadata": {
      "needs_background": "light"
     },
     "output_type": "display_data"
    },
    {
     "name": "stdout",
     "output_type": "stream",
     "text": [
      "\n",
      "\n"
     ]
    }
   ],
   "source": [
    "noise_model= DecisionTreeClassifier(random_state=RANDOM_STATE, criterion='entropy') # using the random state for reproducibility\n",
    "noise_model_pr= DecisionTreeClassifier(random_state=RANDOM_STATE, criterion='entropy', max_depth=5)\n",
    "noise_model_rf = RandomForestClassifier(n_estimators=10, random_state=RANDOM_STATE,criterion='entropy')\n",
    "noise_model_stumb = DecisionTreeClassifier(random_state=RANDOM_STATE, criterion='entropy', max_depth=1)\n",
    "\n",
    "# now, create a list with the objects \n",
    "models= [noise_model,noise_model_pr,noise_model_rf,noise_model_stumb]\n",
    "\n",
    "for mode in models:\n",
    "    print(mode)\n",
    "    for iteration in range(100):\n",
    "        X_train, X_test, y_train, y_test = train_test_split(X, y, test_size=0.2, random_state=RANDOM_STATE)\n",
    "        mode.fit(X_train, y_train).score(X_test, y_test)\n",
    "    X_noise = np.multiply(X_test, noise)\n",
    "    #print(res_clf1)\n",
    "    y_pred= mode.predict(X_noise) # then predict on the test set\n",
    "    accuracy= accuracy_score(y_test, y_pred) # this gives us how often the algorithm predicted correctly\n",
    "    clf_report= classification_report(y_test, y_pred) # with the report, we have a bigger picture, with precision and recall for each class\n",
    "    print(f\"The accuracy of model {type(mode).__name__} is {accuracy:.2f}\")\n",
    "    score = mode.score(X_train, y_train)\n",
    "    print('Accuracy on train set: {:.2f}'.format(score))\n",
    "    score = mode.score(X_noise, y_test)\n",
    "    print('Accuracy on test set: {:.2f}'.format(score)) \n",
    "    print(clf_report)\n",
    "    proba = mode.predict_proba(X_noise)\n",
    "    fpr, tpr, threshold = roc_curve(y_test, proba[:, 1])\n",
    "    auc_score = roc_auc_score(y_test, proba[:, 1])\n",
    "    plt.figure(figsize=(4.5, 4.5))\n",
    "    plt.xlim(0., 1.1)\n",
    "    plt.ylim(0., 1.1)\n",
    "    plt.plot(fpr, tpr, label='ROC (AUC = %0.4f)' % auc_score)\n",
    "    plt.legend(loc='lower right')\n",
    "    plt.title(\"ROC Curve\")\n",
    "    plt.xlabel(\"FPR\")\n",
    "    plt.ylabel(\"TPR\")\n",
    "    plt.show()\n",
    "    print(\"\\n\")"
   ]
  },
  {
   "cell_type": "code",
   "execution_count": 77,
   "id": "choice-uniform",
   "metadata": {},
   "outputs": [
    {
     "name": "stdout",
     "output_type": "stream",
     "text": [
      "DecisionTreeClassifier(random_state=1345)\n",
      "Score mean: 0.596, std: 0.055\n",
      "DecisionTreeClassifier(criterion='entropy', max_depth=5, random_state=1345)\n",
      "Score mean: 0.625, std: 0.049\n",
      "RandomForestClassifier(criterion='entropy', n_estimators=10, random_state=1345)\n",
      "Score mean: 0.650, std: 0.048\n",
      "DecisionTreeClassifier(criterion='entropy', max_depth=1, random_state=1345)\n",
      "Score mean: 0.614, std: 0.039\n"
     ]
    }
   ],
   "source": [
    "rskf = RepeatedStratifiedKFold(n_splits=10, n_repeats=10,random_state=RANDOM_STATE)\n",
    "score1 = cross_val_score(model, X_train, y_train, cv=rskf)\n",
    "score2 = cross_val_score(model_pr, X_train, y_train, cv=rskf)\n",
    "score3 = cross_val_score(model_rf, X_train, y_train, cv=rskf)\n",
    "score4 = cross_val_score(model_stumb, X_train, y_train, cv=rskf)\n",
    "#print(score1)\n",
    "print(model)\n",
    "print('Score mean: {:.3f}, std: {:.3f}'.format(score1.mean(), score1.std()))\n",
    "print(model_pr)\n",
    "print('Score mean: {:.3f}, std: {:.3f}'.format(score2.mean(), score2.std()))\n",
    "print(model_rf)\n",
    "print('Score mean: {:.3f}, std: {:.3f}'.format(score3.mean(), score3.std()))\n",
    "print(model_stumb)\n",
    "print('Score mean: {:.3f}, std: {:.3f}'.format(score4.mean(), score4.std()))\n",
    "arr1 = np.array(score1)\n",
    "arr2 = np.array(score2)\n",
    "arr3 = np.array(score3)\n",
    "arr4 = np.array(score4)\n",
    "list5 = arr1.tolist()\n",
    "list6 = arr2.tolist()\n",
    "list7 = arr3.tolist()\n",
    "list8 = arr4.tolist()"
   ]
  },
  {
   "cell_type": "code",
   "execution_count": 78,
   "id": "diverse-creativity",
   "metadata": {},
   "outputs": [
    {
     "name": "stdout",
     "output_type": "stream",
     "text": [
      "     model  model_pr  model_rf  model_stumb  noise_model  noise_model_pr  \\\n",
      "0   0.6625    0.6375    0.6625         0.65       0.6250          0.6375   \n",
      "1   0.5750    0.6750    0.6625         0.57       0.5875          0.6750   \n",
      "2   0.5500    0.6500    0.6125         0.62       0.5875          0.6500   \n",
      "3   0.5750    0.5875    0.7000         0.65       0.6250          0.5875   \n",
      "4   0.6125    0.5750    0.6375         0.55       0.5625          0.5750   \n",
      "..     ...       ...       ...          ...          ...             ...   \n",
      "95  0.6125    0.5625    0.5750         0.64       0.6500          0.5625   \n",
      "96  0.5500    0.5875    0.5750         0.65       0.5875          0.5875   \n",
      "97  0.6125    0.6500    0.5875         0.61       0.6500          0.6500   \n",
      "98  0.6625    0.6500    0.7250         0.64       0.5625          0.6500   \n",
      "99  0.5500    0.6250    0.6875         0.64       0.5750          0.6250   \n",
      "\n",
      "    noise_model_rf  noise_model_stumb  \n",
      "0           0.6625             0.6125  \n",
      "1           0.6625             0.6750  \n",
      "2           0.6125             0.6500  \n",
      "3           0.7000             0.5500  \n",
      "4           0.6375             0.6000  \n",
      "..             ...                ...  \n",
      "95          0.5750             0.5875  \n",
      "96          0.5750             0.6500  \n",
      "97          0.5875             0.6000  \n",
      "98          0.7250             0.6625  \n",
      "99          0.6875             0.5625  \n",
      "\n",
      "[100 rows x 8 columns]\n"
     ]
    }
   ],
   "source": [
    "data = {'model': list1,\n",
    "        'model_pr': list2,\n",
    "        'model_rf': list3,\n",
    "        'model_stumb': list4,\n",
    "        'noise_model': list5,\n",
    "        'noise_model_pr': list6,\n",
    "        'noise_model_rf': list7,\n",
    "        'noise_model_stumb': list8\n",
    "      }\n",
    "#df = pd.DataFrame()\n",
    "df = pd.DataFrame(data, columns = ['model','model_pr','model_rf','model_stumb','noise_model','noise_model_pr','noise_model_rf','noise_model_stumb'])\n",
    "print(df)"
   ]
  },
  {
   "cell_type": "code",
   "execution_count": 79,
   "id": "prompt-cycling",
   "metadata": {},
   "outputs": [
    {
     "name": "stdout",
     "output_type": "stream",
     "text": [
      "RankResult(rankdf=\n",
      "                   meanrank      mean       std  ci_lower  ci_upper  \\\n",
      "model_rf              3.090  0.649625  0.047985  0.636218  0.663032   \n",
      "noise_model_rf        3.090  0.649625  0.047985  0.636218  0.663032   \n",
      "model_pr              4.160  0.625375  0.049634  0.611507  0.639243   \n",
      "noise_model_pr        4.160  0.625375  0.049634  0.611507  0.639243   \n",
      "noise_model_stumb     4.770  0.614000  0.039420  0.602986  0.625014   \n",
      "model_stumb           5.095  0.606700  0.037553  0.596207  0.617193   \n",
      "noise_model           5.705  0.595750  0.054853  0.580423  0.611077   \n",
      "model                 5.930  0.591375  0.050711  0.577206  0.605544   \n",
      "\n",
      "                  effect_size   magnitude  \n",
      "model_rf                  0.0  negligible  \n",
      "noise_model_rf            0.0  negligible  \n",
      "model_pr             0.496757       small  \n",
      "noise_model_pr       0.496757       small  \n",
      "noise_model_stumb    0.811286       large  \n",
      "model_stumb          0.996266       large  \n",
      "noise_model          1.045429       large  \n",
      "model                1.179937       large  \n",
      "pvalue=1.449607567169624e-27\n",
      "cd=1.0499208824271116\n",
      "omnibus=friedman\n",
      "posthoc=nemenyi\n",
      "all_normal=True\n",
      "pvals_shapiro=[0.16900143027305603, 0.0427287220954895, 0.26446646451950073, 0.15458041429519653, 0.1849118024110794, 0.0427287220954895, 0.26446646451950073, 0.028892792761325836]\n",
      "homoscedastic=False\n",
      "pval_homogeneity=0.0029023078170762836\n",
      "homogeneity_test=bartlett\n",
      "alpha=0.05\n",
      "alpha_normality=0.00625\n",
      "num_samples=100\n",
      "posterior_matrix=\n",
      "None\n",
      "decision_matrix=\n",
      "None\n",
      "rope=None\n",
      "rope_mode=None\n",
      "effect_size=cohen_d)\n",
      "The statistical analysis was conducted for 8 populations with 100 paired samples.\n",
      "The family-wise significance level of the tests is alpha=0.050.\n",
      "We failed to reject the null hypothesis that the population is normal for all populations (minimal observed p-value=0.029). Therefore, we assume that all populations are normal.\n",
      "We applied Bartlett's test for homogeneity and reject the null hypothesis (p=0.003) that thedata is homoscedastic. Thus, we assume that our data is heteroscedastic.\n",
      "Because we have more than two populations and the populations are normal but heteroscedastic, we use the non-parametric Friedman test as omnibus test to determine if there are any significant differences between the mean values of the populations. We use the post-hoc Nemenyi test to infer which differences are significant. We report the mean value (M), the standard deviation (SD) and the mean rank (MR) among all populations over the samples. Differences between populations are significant, if the difference of the mean rank is greater than the critical distance CD=1.050 of the Nemenyi test.\n",
      "We reject the null hypothesis (p=0.000) of the Friedman test that there is no difference in the central tendency of the populations model_rf (M=0.650+-0.013, SD=0.048, MR=3.090), noise_model_rf (M=0.650+-0.013, SD=0.048, MR=3.090), model_pr (M=0.625+-0.014, SD=0.050, MR=4.160), noise_model_pr (M=0.625+-0.014, SD=0.050, MR=4.160), noise_model_stumb (M=0.614+-0.011, SD=0.039, MR=4.770), model_stumb (M=0.607+-0.010, SD=0.038, MR=5.095), noise_model (M=0.596+-0.015, SD=0.055, MR=5.705), and model (M=0.591+-0.014, SD=0.051, MR=5.930). Therefore, we assume that there is a statistically significant difference between the median values of the populations.\n",
      "Based on the post-hoc Nemenyi test, we assume that there are no significant differences within the following groups: model_rf and noise_model_rf; model_pr, noise_model_pr, noise_model_stumb, and model_stumb; noise_model_stumb, model_stumb, and noise_model; model_stumb, noise_model, and model. All other differences are significant.\n"
     ]
    },
    {
     "data": {
      "text/plain": [
       "<matplotlib.axes._axes.Axes at 0x1b0716b5970>"
      ]
     },
     "execution_count": 79,
     "metadata": {},
     "output_type": "execute_result"
    },
    {
     "data": {
      "image/png": "[encoded data removed]",
      "text/plain": [
       "<Figure size 432x162 with 1 Axes>"
      ]
     },
     "metadata": {},
     "output_type": "display_data"
    }
   ],
   "source": [
    "results = autorank(df)\n",
    "print(results)\n",
    "create_report(results)\n",
    "plot_stats(results)"
   ]
  },
  {
   "cell_type": "raw",
   "id": "executive-dietary",
   "metadata": {},
   "source": [
    "Here I am comparing the values of the accuracy on the training set, accuracy on the test set, Area Under the curve of each model, mean accuracy calculated from the cross-validation, and the standard deviation\n",
    "Each row represents the results of the clean dataset:\n",
    "Model Name, Accuracy(traning),Accuracy(test),AUC,Accuracy(mean) ,Standard deviation\n",
    "Decision Tree, 1.00, 0.66, 0.66, 0.59, 0.050\n",
    "Pruned Decision tree, 0.73, 0.67, 0.73, 0.625, 0.049\n",
    "Random forest, 0.98, 0.69, 0.78, 0.65, 0.048\n",
    "Decision Stump, 0.619, 0.595, 0.60, 0.607, 0.037\n",
    "\n",
    "Adding noise only to the training data\n",
    "Each row represents the results of the noisy dataset:\n",
    "Model Name, Accuracy(traning),Accuracy(test),AUC,Accuracy(mean) ,Standard deviation\n",
    "Decision Tree, .82, 0.69, 0.69, 0.584, 0.059\n",
    "Pruned Decision tree, 0.71, 0.68, 0.71, 0.616, 0.055\n",
    "Random forest, 0.86, 0.67, 0.73, 0.635, 0.050\n",
    "Decision Stump, 0.61, 0.58, 0.60, 0.678, 0.039\n",
    "By analyzing the decision tree results, it is understood that Adding noise only to the training set will reduce overfitting, the overall performance of the tree has improved. \n",
    "The performance of the random forest reduced in noisy data here compared with the clean data. The performance of the pruned tree does not affect much. \n",
    "Even though analyzing all of the model's random forest performed better than any other model. \n",
    "\n",
    "I have only used x_train and y_train in cross-validation. So the output of auto rank will be the same as additive and multiplicative noise(Task 4 and Task 5)\n"
   ]
  },
  {
   "cell_type": "raw",
   "id": "hairy-composite",
   "metadata": {},
   "source": [
    "Adding noise only to the test data\n",
    "Each row represents the results of the noisy dataset:\n",
    "Model Name, Accuracy(traning),Accuracy(test),AUC,Accuracy(mean) ,Standard deviation\n",
    "Decision Tree, 1.00, 0.67, 0.66, 0.59, 0.050\n",
    "Pruned Decision tree, 0.73, 0.64, 0.73, 0.625, 0.049\n",
    "Random forest, 0.98, 0.62, 0.78, 0.65, 0.048\n",
    "Decision Stump, 0.619, 0.58, 0.60, 0.607, 0.037\n",
    "Adding noise only to the test data only affected the accuracy of test data on the random forest. In the clean data set and noisy test data set, the models have almost the same AUC.\n",
    "The noise only adds to the test set, so auto rank should be the same as task 3."
   ]
  },
  {
   "cell_type": "raw",
   "id": "interested-carnival",
   "metadata": {},
   "source": [
    "Noise affects the performance of the classifiers. But random forest works well even the data contain the noise. The pruned decision tree is also working well. In all of the different tasks, both of these classifiers provide relatively good performance."
   ]
  }
 ],
 "metadata": {
  "kernelspec": {
   "display_name": "Python 3",
   "language": "python",
   "name": "python3"
  },
  "language_info": {
   "codemirror_mode": {
    "name": "ipython",
    "version": 3
   },
   "file_extension": ".py",
   "mimetype": "text/x-python",
   "name": "python",
   "nbconvert_exporter": "python",
   "pygments_lexer": "ipython3",
   "version": "3.9.2"
  }
 },
 "nbformat": 4,
 "nbformat_minor": 5
}
