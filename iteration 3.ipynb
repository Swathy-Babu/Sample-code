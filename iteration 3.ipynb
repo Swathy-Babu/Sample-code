{
 "cells": [
  {
   "cell_type": "markdown",
   "id": "a6300eb7",
   "metadata": {},
   "source": [
    "2.4"
   ]
  },
  {
   "cell_type": "code",
   "execution_count": 1,
   "id": "3eebc4c6",
   "metadata": {},
   "outputs": [],
   "source": [
    "import pandas as pd\n",
    "import numpy as np\n",
    "import seaborn as sns\n",
    "from sklearn.preprocessing import MinMaxScaler\n",
    "import matplotlib.pyplot as plt\n",
    "from skleHeart failure2.csvarn import tree"
   ]
  },
  {
   "cell_type": "code",
   "execution_count": 2,
   "id": "8a026b85",
   "metadata": {},
   "outputs": [],
   "source": [
    "%load_ext autoreload\n",
    "%autoreload 2"
   ]
  },
  {
   "cell_type": "code",
   "execution_count": 3,
   "id": "dc575bae",
   "metadata": {},
   "outputs": [],
   "source": [
    "RANDOM_STATE = 1\n",
    "np.random.seed(RANDOM_STATE)"
   ]
  },
  {
   "cell_type": "code",
   "execution_count": 4,
   "id": "e40a69c5",
   "metadata": {},
   "outputs": [],
   "source": [
    "df1= pd.read_csv(\"heart_failure_clinical_records_dataset 1.csv\")\n",
    "df2= pd.read_csv(\"Heart failure2.csv\")"
   ]
  },
  {
   "cell_type": "code",
   "execution_count": 5,
   "id": "ccc6f4c1",
   "metadata": {},
   "outputs": [
    {
     "data": {
      "text/html": [
       "<div>\n",
       "<style scoped>\n",
       "    .dataframe tbody tr th:only-of-type {\n",
       "        vertical-align: middle;\n",
       "    }\n",
       "\n",
       "    .dataframe tbody tr th {\n",
       "        vertical-align: top;\n",
       "    }\n",
       "\n",
       "    .dataframe thead th {\n",
       "        text-align: right;\n",
       "    }\n",
       "</style>\n",
       "<table border=\"1\" class=\"dataframe\">\n",
       "  <thead>\n",
       "    <tr style=\"text-align: right;\">\n",
       "      <th></th>\n",
       "      <th>Patient's id</th>\n",
       "      <th>smoking</th>\n",
       "    </tr>\n",
       "  </thead>\n",
       "  <tbody>\n",
       "    <tr>\n",
       "      <th>0</th>\n",
       "      <td>PA1</td>\n",
       "      <td>No</td>\n",
       "    </tr>\n",
       "    <tr>\n",
       "      <th>1</th>\n",
       "      <td>PA2</td>\n",
       "      <td>No</td>\n",
       "    </tr>\n",
       "    <tr>\n",
       "      <th>2</th>\n",
       "      <td>PA3</td>\n",
       "      <td>Yes</td>\n",
       "    </tr>\n",
       "    <tr>\n",
       "      <th>3</th>\n",
       "      <td>PA4</td>\n",
       "      <td>No</td>\n",
       "    </tr>\n",
       "    <tr>\n",
       "      <th>4</th>\n",
       "      <td>PA5</td>\n",
       "      <td>No</td>\n",
       "    </tr>\n",
       "  </tbody>\n",
       "</table>\n",
       "</div>"
      ],
      "text/plain": [
       "  Patient's id smoking\n",
       "0          PA1      No\n",
       "1          PA2      No\n",
       "2          PA3     Yes\n",
       "3          PA4      No\n",
       "4          PA5      No"
      ]
     },
     "execution_count": 5,
     "metadata": {},
     "output_type": "execute_result"
    }
   ],
   "source": [
    "df2.head()"
   ]
  },
  {
   "cell_type": "code",
   "execution_count": 6,
   "id": "1dd705a3",
   "metadata": {},
   "outputs": [
    {
     "data": {
      "text/html": [
       "<div>\n",
       "<style scoped>\n",
       "    .dataframe tbody tr th:only-of-type {\n",
       "        vertical-align: middle;\n",
       "    }\n",
       "\n",
       "    .dataframe tbody tr th {\n",
       "        vertical-align: top;\n",
       "    }\n",
       "\n",
       "    .dataframe thead th {\n",
       "        text-align: right;\n",
       "    }\n",
       "</style>\n",
       "<table border=\"1\" class=\"dataframe\">\n",
       "  <thead>\n",
       "    <tr style=\"text-align: right;\">\n",
       "      <th></th>\n",
       "      <th>Patient's id</th>\n",
       "      <th>age</th>\n",
       "      <th>anaemia</th>\n",
       "      <th>creatinine_phosphokinase</th>\n",
       "      <th>diabetes</th>\n",
       "      <th>ejection_fraction</th>\n",
       "      <th>high_blood_pressure</th>\n",
       "      <th>platelets</th>\n",
       "      <th>serum_creatinine</th>\n",
       "      <th>serum_sodium</th>\n",
       "      <th>sex</th>\n",
       "      <th>time</th>\n",
       "      <th>DEATH_EVENT</th>\n",
       "    </tr>\n",
       "  </thead>\n",
       "  <tbody>\n",
       "    <tr>\n",
       "      <th>0</th>\n",
       "      <td>PA1</td>\n",
       "      <td>75.0</td>\n",
       "      <td>0</td>\n",
       "      <td>582.0</td>\n",
       "      <td>0</td>\n",
       "      <td>20</td>\n",
       "      <td>1</td>\n",
       "      <td>265000.0</td>\n",
       "      <td>1.9</td>\n",
       "      <td>130</td>\n",
       "      <td>1</td>\n",
       "      <td>4</td>\n",
       "      <td>1</td>\n",
       "    </tr>\n",
       "    <tr>\n",
       "      <th>1</th>\n",
       "      <td>PA2</td>\n",
       "      <td>55.0</td>\n",
       "      <td>0</td>\n",
       "      <td>NaN</td>\n",
       "      <td>0</td>\n",
       "      <td>38</td>\n",
       "      <td>0</td>\n",
       "      <td>NaN</td>\n",
       "      <td>1.1</td>\n",
       "      <td>136</td>\n",
       "      <td>1</td>\n",
       "      <td>6</td>\n",
       "      <td>1</td>\n",
       "    </tr>\n",
       "    <tr>\n",
       "      <th>2</th>\n",
       "      <td>PA3</td>\n",
       "      <td>65.0</td>\n",
       "      <td>0</td>\n",
       "      <td>146.0</td>\n",
       "      <td>0</td>\n",
       "      <td>20</td>\n",
       "      <td>0</td>\n",
       "      <td>162000.0</td>\n",
       "      <td>1.3</td>\n",
       "      <td>129</td>\n",
       "      <td>1</td>\n",
       "      <td>7</td>\n",
       "      <td>1</td>\n",
       "    </tr>\n",
       "    <tr>\n",
       "      <th>3</th>\n",
       "      <td>PA4</td>\n",
       "      <td>50.0</td>\n",
       "      <td>1</td>\n",
       "      <td>111.0</td>\n",
       "      <td>0</td>\n",
       "      <td>20</td>\n",
       "      <td>0</td>\n",
       "      <td>210000.0</td>\n",
       "      <td>1.9</td>\n",
       "      <td>137</td>\n",
       "      <td>1</td>\n",
       "      <td>7</td>\n",
       "      <td>1</td>\n",
       "    </tr>\n",
       "    <tr>\n",
       "      <th>4</th>\n",
       "      <td>PA5</td>\n",
       "      <td>65.0</td>\n",
       "      <td>1</td>\n",
       "      <td>160.0</td>\n",
       "      <td>1</td>\n",
       "      <td>20</td>\n",
       "      <td>0</td>\n",
       "      <td>327000.0</td>\n",
       "      <td>2.7</td>\n",
       "      <td>116</td>\n",
       "      <td>0</td>\n",
       "      <td>8</td>\n",
       "      <td>1</td>\n",
       "    </tr>\n",
       "  </tbody>\n",
       "</table>\n",
       "</div>"
      ],
      "text/plain": [
       "  Patient's id   age  anaemia  creatinine_phosphokinase  diabetes  \\\n",
       "0          PA1  75.0        0                     582.0         0   \n",
       "1          PA2  55.0        0                       NaN         0   \n",
       "2          PA3  65.0        0                     146.0         0   \n",
       "3          PA4  50.0        1                     111.0         0   \n",
       "4          PA5  65.0        1                     160.0         1   \n",
       "\n",
       "   ejection_fraction  high_blood_pressure  platelets  serum_creatinine  \\\n",
       "0                 20                    1   265000.0               1.9   \n",
       "1                 38                    0        NaN               1.1   \n",
       "2                 20                    0   162000.0               1.3   \n",
       "3                 20                    0   210000.0               1.9   \n",
       "4                 20                    0   327000.0               2.7   \n",
       "\n",
       "   serum_sodium  sex  time  DEATH_EVENT  \n",
       "0           130    1     4            1  \n",
       "1           136    1     6            1  \n",
       "2           129    1     7            1  \n",
       "3           137    1     7            1  \n",
       "4           116    0     8            1  "
      ]
     },
     "execution_count": 6,
     "metadata": {},
     "output_type": "execute_result"
    }
   ],
   "source": [
    "df1.head()\n"
   ]
  },
  {
   "cell_type": "code",
   "execution_count": 7,
   "id": "13d328b5",
   "metadata": {},
   "outputs": [
    {
     "data": {
      "text/plain": [
       "Index(['Patient's id', 'age', 'anaemia', 'creatinine_phosphokinase',\n",
       "       'diabetes', 'ejection_fraction', 'high_blood_pressure', 'platelets',\n",
       "       'serum_creatinine', 'serum_sodium', 'sex', 'time', 'DEATH_EVENT'],\n",
       "      dtype='object')"
      ]
     },
     "execution_count": 7,
     "metadata": {},
     "output_type": "execute_result"
    }
   ],
   "source": [
    "df1.columns"
   ]
  },
  {
   "cell_type": "code",
   "execution_count": 8,
   "id": "8354613f",
   "metadata": {},
   "outputs": [
    {
     "data": {
      "text/plain": [
       "(299, 13)"
      ]
     },
     "execution_count": 8,
     "metadata": {},
     "output_type": "execute_result"
    }
   ],
   "source": [
    "df1.shape"
   ]
  },
  {
   "cell_type": "code",
   "execution_count": 9,
   "id": "5fa12cbb",
   "metadata": {},
   "outputs": [
    {
     "data": {
      "text/html": [
       "<div>\n",
       "<style scoped>\n",
       "    .dataframe tbody tr th:only-of-type {\n",
       "        vertical-align: middle;\n",
       "    }\n",
       "\n",
       "    .dataframe tbody tr th {\n",
       "        vertical-align: top;\n",
       "    }\n",
       "\n",
       "    .dataframe thead th {\n",
       "        text-align: right;\n",
       "    }\n",
       "</style>\n",
       "<table border=\"1\" class=\"dataframe\">\n",
       "  <thead>\n",
       "    <tr style=\"text-align: right;\">\n",
       "      <th></th>\n",
       "      <th>Patient's id</th>\n",
       "      <th>smoking</th>\n",
       "    </tr>\n",
       "  </thead>\n",
       "  <tbody>\n",
       "    <tr>\n",
       "      <th>0</th>\n",
       "      <td>PA1</td>\n",
       "      <td>No</td>\n",
       "    </tr>\n",
       "    <tr>\n",
       "      <th>1</th>\n",
       "      <td>PA2</td>\n",
       "      <td>No</td>\n",
       "    </tr>\n",
       "    <tr>\n",
       "      <th>2</th>\n",
       "      <td>PA3</td>\n",
       "      <td>Yes</td>\n",
       "    </tr>\n",
       "    <tr>\n",
       "      <th>3</th>\n",
       "      <td>PA4</td>\n",
       "      <td>No</td>\n",
       "    </tr>\n",
       "    <tr>\n",
       "      <th>4</th>\n",
       "      <td>PA5</td>\n",
       "      <td>No</td>\n",
       "    </tr>\n",
       "  </tbody>\n",
       "</table>\n",
       "</div>"
      ],
      "text/plain": [
       "  Patient's id smoking\n",
       "0          PA1      No\n",
       "1          PA2      No\n",
       "2          PA3     Yes\n",
       "3          PA4      No\n",
       "4          PA5      No"
      ]
     },
     "execution_count": 9,
     "metadata": {},
     "output_type": "execute_result"
    }
   ],
   "source": [
    "df2.head()"
   ]
  },
  {
   "cell_type": "code",
   "execution_count": 10,
   "id": "3f90a948",
   "metadata": {},
   "outputs": [
    {
     "data": {
      "text/plain": [
       "Index(['Patient's id', 'smoking'], dtype='object')"
      ]
     },
     "execution_count": 10,
     "metadata": {},
     "output_type": "execute_result"
    }
   ],
   "source": [
    "df2.columns"
   ]
  },
  {
   "cell_type": "code",
   "execution_count": 11,
   "id": "5df67915",
   "metadata": {},
   "outputs": [
    {
     "data": {
      "text/plain": [
       "(299, 2)"
      ]
     },
     "execution_count": 11,
     "metadata": {},
     "output_type": "execute_result"
    }
   ],
   "source": [
    "df2.shape"
   ]
  },
  {
   "cell_type": "code",
   "execution_count": 12,
   "id": "f6a6f397",
   "metadata": {},
   "outputs": [
    {
     "data": {
      "text/html": [
       "<div>\n",
       "<style scoped>\n",
       "    .dataframe tbody tr th:only-of-type {\n",
       "        vertical-align: middle;\n",
       "    }\n",
       "\n",
       "    .dataframe tbody tr th {\n",
       "        vertical-align: top;\n",
       "    }\n",
       "\n",
       "    .dataframe thead th {\n",
       "        text-align: right;\n",
       "    }\n",
       "</style>\n",
       "<table border=\"1\" class=\"dataframe\">\n",
       "  <thead>\n",
       "    <tr style=\"text-align: right;\">\n",
       "      <th></th>\n",
       "      <th>age</th>\n",
       "      <th>anaemia</th>\n",
       "      <th>creatinine_phosphokinase</th>\n",
       "      <th>diabetes</th>\n",
       "      <th>ejection_fraction</th>\n",
       "      <th>high_blood_pressure</th>\n",
       "      <th>platelets</th>\n",
       "      <th>serum_creatinine</th>\n",
       "      <th>serum_sodium</th>\n",
       "      <th>sex</th>\n",
       "      <th>time</th>\n",
       "      <th>DEATH_EVENT</th>\n",
       "    </tr>\n",
       "  </thead>\n",
       "  <tbody>\n",
       "    <tr>\n",
       "      <th>count</th>\n",
       "      <td>299.000000</td>\n",
       "      <td>299.000000</td>\n",
       "      <td>298.000000</td>\n",
       "      <td>299.000000</td>\n",
       "      <td>299.000000</td>\n",
       "      <td>299.000000</td>\n",
       "      <td>297.000000</td>\n",
       "      <td>299.00000</td>\n",
       "      <td>299.000000</td>\n",
       "      <td>299.000000</td>\n",
       "      <td>299.000000</td>\n",
       "      <td>299.00000</td>\n",
       "    </tr>\n",
       "    <tr>\n",
       "      <th>mean</th>\n",
       "      <td>60.833893</td>\n",
       "      <td>0.431438</td>\n",
       "      <td>557.412752</td>\n",
       "      <td>0.418060</td>\n",
       "      <td>38.083612</td>\n",
       "      <td>0.351171</td>\n",
       "      <td>262931.625320</td>\n",
       "      <td>1.39388</td>\n",
       "      <td>136.625418</td>\n",
       "      <td>0.648829</td>\n",
       "      <td>130.260870</td>\n",
       "      <td>0.32107</td>\n",
       "    </tr>\n",
       "    <tr>\n",
       "      <th>std</th>\n",
       "      <td>11.894809</td>\n",
       "      <td>0.496107</td>\n",
       "      <td>875.000087</td>\n",
       "      <td>0.494067</td>\n",
       "      <td>11.834841</td>\n",
       "      <td>0.478136</td>\n",
       "      <td>97856.712298</td>\n",
       "      <td>1.03451</td>\n",
       "      <td>4.412477</td>\n",
       "      <td>0.478136</td>\n",
       "      <td>77.614208</td>\n",
       "      <td>0.46767</td>\n",
       "    </tr>\n",
       "    <tr>\n",
       "      <th>min</th>\n",
       "      <td>40.000000</td>\n",
       "      <td>0.000000</td>\n",
       "      <td>23.000000</td>\n",
       "      <td>0.000000</td>\n",
       "      <td>14.000000</td>\n",
       "      <td>0.000000</td>\n",
       "      <td>25100.000000</td>\n",
       "      <td>0.50000</td>\n",
       "      <td>113.000000</td>\n",
       "      <td>0.000000</td>\n",
       "      <td>4.000000</td>\n",
       "      <td>0.00000</td>\n",
       "    </tr>\n",
       "    <tr>\n",
       "      <th>25%</th>\n",
       "      <td>51.000000</td>\n",
       "      <td>0.000000</td>\n",
       "      <td>115.750000</td>\n",
       "      <td>0.000000</td>\n",
       "      <td>30.000000</td>\n",
       "      <td>0.000000</td>\n",
       "      <td>212000.000000</td>\n",
       "      <td>0.90000</td>\n",
       "      <td>134.000000</td>\n",
       "      <td>0.000000</td>\n",
       "      <td>73.000000</td>\n",
       "      <td>0.00000</td>\n",
       "    </tr>\n",
       "    <tr>\n",
       "      <th>50%</th>\n",
       "      <td>60.000000</td>\n",
       "      <td>0.000000</td>\n",
       "      <td>249.500000</td>\n",
       "      <td>0.000000</td>\n",
       "      <td>38.000000</td>\n",
       "      <td>0.000000</td>\n",
       "      <td>262000.000000</td>\n",
       "      <td>1.10000</td>\n",
       "      <td>137.000000</td>\n",
       "      <td>1.000000</td>\n",
       "      <td>115.000000</td>\n",
       "      <td>0.00000</td>\n",
       "    </tr>\n",
       "    <tr>\n",
       "      <th>75%</th>\n",
       "      <td>70.000000</td>\n",
       "      <td>1.000000</td>\n",
       "      <td>582.000000</td>\n",
       "      <td>1.000000</td>\n",
       "      <td>45.000000</td>\n",
       "      <td>1.000000</td>\n",
       "      <td>303000.000000</td>\n",
       "      <td>1.40000</td>\n",
       "      <td>140.000000</td>\n",
       "      <td>1.000000</td>\n",
       "      <td>203.000000</td>\n",
       "      <td>1.00000</td>\n",
       "    </tr>\n",
       "    <tr>\n",
       "      <th>max</th>\n",
       "      <td>95.000000</td>\n",
       "      <td>1.000000</td>\n",
       "      <td>7702.000000</td>\n",
       "      <td>1.000000</td>\n",
       "      <td>80.000000</td>\n",
       "      <td>1.000000</td>\n",
       "      <td>850000.000000</td>\n",
       "      <td>9.40000</td>\n",
       "      <td>148.000000</td>\n",
       "      <td>1.000000</td>\n",
       "      <td>285.000000</td>\n",
       "      <td>1.00000</td>\n",
       "    </tr>\n",
       "  </tbody>\n",
       "</table>\n",
       "</div>"
      ],
      "text/plain": [
       "              age     anaemia  creatinine_phosphokinase    diabetes  \\\n",
       "count  299.000000  299.000000                298.000000  299.000000   \n",
       "mean    60.833893    0.431438                557.412752    0.418060   \n",
       "std     11.894809    0.496107                875.000087    0.494067   \n",
       "min     40.000000    0.000000                 23.000000    0.000000   \n",
       "25%     51.000000    0.000000                115.750000    0.000000   \n",
       "50%     60.000000    0.000000                249.500000    0.000000   \n",
       "75%     70.000000    1.000000                582.000000    1.000000   \n",
       "max     95.000000    1.000000               7702.000000    1.000000   \n",
       "\n",
       "       ejection_fraction  high_blood_pressure      platelets  \\\n",
       "count         299.000000           299.000000     297.000000   \n",
       "mean           38.083612             0.351171  262931.625320   \n",
       "std            11.834841             0.478136   97856.712298   \n",
       "min            14.000000             0.000000   25100.000000   \n",
       "25%            30.000000             0.000000  212000.000000   \n",
       "50%            38.000000             0.000000  262000.000000   \n",
       "75%            45.000000             1.000000  303000.000000   \n",
       "max            80.000000             1.000000  850000.000000   \n",
       "\n",
       "       serum_creatinine  serum_sodium         sex        time  DEATH_EVENT  \n",
       "count         299.00000    299.000000  299.000000  299.000000    299.00000  \n",
       "mean            1.39388    136.625418    0.648829  130.260870      0.32107  \n",
       "std             1.03451      4.412477    0.478136   77.614208      0.46767  \n",
       "min             0.50000    113.000000    0.000000    4.000000      0.00000  \n",
       "25%             0.90000    134.000000    0.000000   73.000000      0.00000  \n",
       "50%             1.10000    137.000000    1.000000  115.000000      0.00000  \n",
       "75%             1.40000    140.000000    1.000000  203.000000      1.00000  \n",
       "max             9.40000    148.000000    1.000000  285.000000      1.00000  "
      ]
     },
     "execution_count": 12,
     "metadata": {},
     "output_type": "execute_result"
    }
   ],
   "source": [
    "df1.describe()"
   ]
  },
  {
   "cell_type": "code",
   "execution_count": 13,
   "id": "e458d4dc",
   "metadata": {},
   "outputs": [
    {
     "data": {
      "text/html": [
       "<div>\n",
       "<style scoped>\n",
       "    .dataframe tbody tr th:only-of-type {\n",
       "        vertical-align: middle;\n",
       "    }\n",
       "\n",
       "    .dataframe tbody tr th {\n",
       "        vertical-align: top;\n",
       "    }\n",
       "\n",
       "    .dataframe thead th {\n",
       "        text-align: right;\n",
       "    }\n",
       "</style>\n",
       "<table border=\"1\" class=\"dataframe\">\n",
       "  <thead>\n",
       "    <tr style=\"text-align: right;\">\n",
       "      <th></th>\n",
       "      <th>Patient's id</th>\n",
       "      <th>smoking</th>\n",
       "    </tr>\n",
       "  </thead>\n",
       "  <tbody>\n",
       "    <tr>\n",
       "      <th>count</th>\n",
       "      <td>299</td>\n",
       "      <td>299</td>\n",
       "    </tr>\n",
       "    <tr>\n",
       "      <th>unique</th>\n",
       "      <td>299</td>\n",
       "      <td>2</td>\n",
       "    </tr>\n",
       "    <tr>\n",
       "      <th>top</th>\n",
       "      <td>PA143</td>\n",
       "      <td>No</td>\n",
       "    </tr>\n",
       "    <tr>\n",
       "      <th>freq</th>\n",
       "      <td>1</td>\n",
       "      <td>203</td>\n",
       "    </tr>\n",
       "  </tbody>\n",
       "</table>\n",
       "</div>"
      ],
      "text/plain": [
       "       Patient's id smoking\n",
       "count           299     299\n",
       "unique          299       2\n",
       "top           PA143      No\n",
       "freq              1     203"
      ]
     },
     "execution_count": 13,
     "metadata": {},
     "output_type": "execute_result"
    }
   ],
   "source": [
    "df2.describe()"
   ]
  },
  {
   "cell_type": "code",
   "execution_count": 14,
   "id": "0a852412",
   "metadata": {},
   "outputs": [
    {
     "name": "stdout",
     "output_type": "stream",
     "text": [
      "True\n"
     ]
    }
   ],
   "source": [
    "print(df1.isnull().values.any())"
   ]
  },
  {
   "cell_type": "code",
   "execution_count": 15,
   "id": "cc991bfe",
   "metadata": {},
   "outputs": [
    {
     "name": "stdout",
     "output_type": "stream",
     "text": [
      "3\n"
     ]
    }
   ],
   "source": [
    "print(df1.isnull().sum().sum())\n"
   ]
  },
  {
   "cell_type": "code",
   "execution_count": 16,
   "id": "19cc7e11",
   "metadata": {},
   "outputs": [
    {
     "name": "stdout",
     "output_type": "stream",
     "text": [
      "Patient's id 0.0%\n",
      "age 0.0%\n",
      "anaemia 0.0%\n",
      "creatinine_phosphokinase 0.33%\n",
      "diabetes 0.0%\n",
      "ejection_fraction 0.0%\n",
      "high_blood_pressure 0.0%\n",
      "platelets 0.67%\n",
      "serum_creatinine 0.0%\n",
      "serum_sodium 0.0%\n",
      "sex 0.0%\n",
      "time 0.0%\n",
      "DEATH_EVENT 0.0%\n"
     ]
    }
   ],
   "source": [
    "for col in df1.columns:\n",
    "    print(col, str(round(100* df1[col].isnull().sum() / len(df1), 2)) + '%')"
   ]
  },
  {
   "cell_type": "code",
   "execution_count": 17,
   "id": "0da4fdaf",
   "metadata": {},
   "outputs": [
    {
     "data": {
      "text/html": [
       "<div>\n",
       "<style scoped>\n",
       "    .dataframe tbody tr th:only-of-type {\n",
       "        vertical-align: middle;\n",
       "    }\n",
       "\n",
       "    .dataframe tbody tr th {\n",
       "        vertical-align: top;\n",
       "    }\n",
       "\n",
       "    .dataframe thead th {\n",
       "        text-align: right;\n",
       "    }\n",
       "</style>\n",
       "<table border=\"1\" class=\"dataframe\">\n",
       "  <thead>\n",
       "    <tr style=\"text-align: right;\">\n",
       "      <th></th>\n",
       "      <th>age</th>\n",
       "      <th>anaemia</th>\n",
       "      <th>creatinine_phosphokinase</th>\n",
       "      <th>diabetes</th>\n",
       "      <th>ejection_fraction</th>\n",
       "      <th>high_blood_pressure</th>\n",
       "      <th>platelets</th>\n",
       "      <th>serum_creatinine</th>\n",
       "      <th>serum_sodium</th>\n",
       "      <th>sex</th>\n",
       "      <th>time</th>\n",
       "      <th>DEATH_EVENT</th>\n",
       "    </tr>\n",
       "  </thead>\n",
       "  <tbody>\n",
       "    <tr>\n",
       "      <th>count</th>\n",
       "      <td>299.000000</td>\n",
       "      <td>299.000000</td>\n",
       "      <td>298.000000</td>\n",
       "      <td>299.000000</td>\n",
       "      <td>299.000000</td>\n",
       "      <td>299.000000</td>\n",
       "      <td>297.000000</td>\n",
       "      <td>299.00000</td>\n",
       "      <td>299.000000</td>\n",
       "      <td>299.000000</td>\n",
       "      <td>299.000000</td>\n",
       "      <td>299.00000</td>\n",
       "    </tr>\n",
       "    <tr>\n",
       "      <th>mean</th>\n",
       "      <td>60.833893</td>\n",
       "      <td>0.431438</td>\n",
       "      <td>557.412752</td>\n",
       "      <td>0.418060</td>\n",
       "      <td>38.083612</td>\n",
       "      <td>0.351171</td>\n",
       "      <td>262931.625320</td>\n",
       "      <td>1.39388</td>\n",
       "      <td>136.625418</td>\n",
       "      <td>0.648829</td>\n",
       "      <td>130.260870</td>\n",
       "      <td>0.32107</td>\n",
       "    </tr>\n",
       "    <tr>\n",
       "      <th>std</th>\n",
       "      <td>11.894809</td>\n",
       "      <td>0.496107</td>\n",
       "      <td>875.000087</td>\n",
       "      <td>0.494067</td>\n",
       "      <td>11.834841</td>\n",
       "      <td>0.478136</td>\n",
       "      <td>97856.712298</td>\n",
       "      <td>1.03451</td>\n",
       "      <td>4.412477</td>\n",
       "      <td>0.478136</td>\n",
       "      <td>77.614208</td>\n",
       "      <td>0.46767</td>\n",
       "    </tr>\n",
       "    <tr>\n",
       "      <th>min</th>\n",
       "      <td>40.000000</td>\n",
       "      <td>0.000000</td>\n",
       "      <td>23.000000</td>\n",
       "      <td>0.000000</td>\n",
       "      <td>14.000000</td>\n",
       "      <td>0.000000</td>\n",
       "      <td>25100.000000</td>\n",
       "      <td>0.50000</td>\n",
       "      <td>113.000000</td>\n",
       "      <td>0.000000</td>\n",
       "      <td>4.000000</td>\n",
       "      <td>0.00000</td>\n",
       "    </tr>\n",
       "    <tr>\n",
       "      <th>10%</th>\n",
       "      <td>45.000000</td>\n",
       "      <td>0.000000</td>\n",
       "      <td>67.400000</td>\n",
       "      <td>0.000000</td>\n",
       "      <td>25.000000</td>\n",
       "      <td>0.000000</td>\n",
       "      <td>153000.000000</td>\n",
       "      <td>0.80000</td>\n",
       "      <td>132.000000</td>\n",
       "      <td>0.000000</td>\n",
       "      <td>26.800000</td>\n",
       "      <td>0.00000</td>\n",
       "    </tr>\n",
       "    <tr>\n",
       "      <th>50%</th>\n",
       "      <td>60.000000</td>\n",
       "      <td>0.000000</td>\n",
       "      <td>249.500000</td>\n",
       "      <td>0.000000</td>\n",
       "      <td>38.000000</td>\n",
       "      <td>0.000000</td>\n",
       "      <td>262000.000000</td>\n",
       "      <td>1.10000</td>\n",
       "      <td>137.000000</td>\n",
       "      <td>1.000000</td>\n",
       "      <td>115.000000</td>\n",
       "      <td>0.00000</td>\n",
       "    </tr>\n",
       "    <tr>\n",
       "      <th>90%</th>\n",
       "      <td>75.400000</td>\n",
       "      <td>1.000000</td>\n",
       "      <td>1199.900000</td>\n",
       "      <td>1.000000</td>\n",
       "      <td>60.000000</td>\n",
       "      <td>1.000000</td>\n",
       "      <td>372200.000000</td>\n",
       "      <td>2.10000</td>\n",
       "      <td>141.200000</td>\n",
       "      <td>1.000000</td>\n",
       "      <td>244.000000</td>\n",
       "      <td>1.00000</td>\n",
       "    </tr>\n",
       "    <tr>\n",
       "      <th>max</th>\n",
       "      <td>95.000000</td>\n",
       "      <td>1.000000</td>\n",
       "      <td>7702.000000</td>\n",
       "      <td>1.000000</td>\n",
       "      <td>80.000000</td>\n",
       "      <td>1.000000</td>\n",
       "      <td>850000.000000</td>\n",
       "      <td>9.40000</td>\n",
       "      <td>148.000000</td>\n",
       "      <td>1.000000</td>\n",
       "      <td>285.000000</td>\n",
       "      <td>1.00000</td>\n",
       "    </tr>\n",
       "  </tbody>\n",
       "</table>\n",
       "</div>"
      ],
      "text/plain": [
       "              age     anaemia  creatinine_phosphokinase    diabetes  \\\n",
       "count  299.000000  299.000000                298.000000  299.000000   \n",
       "mean    60.833893    0.431438                557.412752    0.418060   \n",
       "std     11.894809    0.496107                875.000087    0.494067   \n",
       "min     40.000000    0.000000                 23.000000    0.000000   \n",
       "10%     45.000000    0.000000                 67.400000    0.000000   \n",
       "50%     60.000000    0.000000                249.500000    0.000000   \n",
       "90%     75.400000    1.000000               1199.900000    1.000000   \n",
       "max     95.000000    1.000000               7702.000000    1.000000   \n",
       "\n",
       "       ejection_fraction  high_blood_pressure      platelets  \\\n",
       "count         299.000000           299.000000     297.000000   \n",
       "mean           38.083612             0.351171  262931.625320   \n",
       "std            11.834841             0.478136   97856.712298   \n",
       "min            14.000000             0.000000   25100.000000   \n",
       "10%            25.000000             0.000000  153000.000000   \n",
       "50%            38.000000             0.000000  262000.000000   \n",
       "90%            60.000000             1.000000  372200.000000   \n",
       "max            80.000000             1.000000  850000.000000   \n",
       "\n",
       "       serum_creatinine  serum_sodium         sex        time  DEATH_EVENT  \n",
       "count         299.00000    299.000000  299.000000  299.000000    299.00000  \n",
       "mean            1.39388    136.625418    0.648829  130.260870      0.32107  \n",
       "std             1.03451      4.412477    0.478136   77.614208      0.46767  \n",
       "min             0.50000    113.000000    0.000000    4.000000      0.00000  \n",
       "10%             0.80000    132.000000    0.000000   26.800000      0.00000  \n",
       "50%             1.10000    137.000000    1.000000  115.000000      0.00000  \n",
       "90%             2.10000    141.200000    1.000000  244.000000      1.00000  \n",
       "max             9.40000    148.000000    1.000000  285.000000      1.00000  "
      ]
     },
     "execution_count": 17,
     "metadata": {},
     "output_type": "execute_result"
    }
   ],
   "source": [
    "df1.describe(percentiles=[.10,.5,.90])"
   ]
  },
  {
   "cell_type": "code",
   "execution_count": 18,
   "id": "d74a6805",
   "metadata": {},
   "outputs": [],
   "source": [
    "df3=df1[[\"age\",\"creatinine_phosphokinase\",\"ejection_fraction\",\"platelets\",\"serum_creatinine\",\"serum_sodium\",\"time\"]]\n",
    "df4=df1[[\"anaemia\",\"diabetes\",\"high_blood_pressure\",\"sex\",\"DEATH_EVENT\"]]"
   ]
  },
  {
   "cell_type": "code",
   "execution_count": 19,
   "id": "079680fa",
   "metadata": {},
   "outputs": [
    {
     "data": {
      "text/html": [
       "<div>\n",
       "<style scoped>\n",
       "    .dataframe tbody tr th:only-of-type {\n",
       "        vertical-align: middle;\n",
       "    }\n",
       "\n",
       "    .dataframe tbody tr th {\n",
       "        vertical-align: top;\n",
       "    }\n",
       "\n",
       "    .dataframe thead th {\n",
       "        text-align: right;\n",
       "    }\n",
       "</style>\n",
       "<table border=\"1\" class=\"dataframe\">\n",
       "  <thead>\n",
       "    <tr style=\"text-align: right;\">\n",
       "      <th></th>\n",
       "      <th>age</th>\n",
       "      <th>creatinine_phosphokinase</th>\n",
       "      <th>ejection_fraction</th>\n",
       "      <th>platelets</th>\n",
       "      <th>serum_creatinine</th>\n",
       "      <th>serum_sodium</th>\n",
       "      <th>time</th>\n",
       "    </tr>\n",
       "  </thead>\n",
       "  <tbody>\n",
       "    <tr>\n",
       "      <th>0</th>\n",
       "      <td>75.0</td>\n",
       "      <td>582.0</td>\n",
       "      <td>20</td>\n",
       "      <td>265000.0</td>\n",
       "      <td>1.9</td>\n",
       "      <td>130</td>\n",
       "      <td>4</td>\n",
       "    </tr>\n",
       "    <tr>\n",
       "      <th>1</th>\n",
       "      <td>55.0</td>\n",
       "      <td>NaN</td>\n",
       "      <td>38</td>\n",
       "      <td>NaN</td>\n",
       "      <td>1.1</td>\n",
       "      <td>136</td>\n",
       "      <td>6</td>\n",
       "    </tr>\n",
       "    <tr>\n",
       "      <th>2</th>\n",
       "      <td>65.0</td>\n",
       "      <td>146.0</td>\n",
       "      <td>20</td>\n",
       "      <td>162000.0</td>\n",
       "      <td>1.3</td>\n",
       "      <td>129</td>\n",
       "      <td>7</td>\n",
       "    </tr>\n",
       "    <tr>\n",
       "      <th>3</th>\n",
       "      <td>50.0</td>\n",
       "      <td>111.0</td>\n",
       "      <td>20</td>\n",
       "      <td>210000.0</td>\n",
       "      <td>1.9</td>\n",
       "      <td>137</td>\n",
       "      <td>7</td>\n",
       "    </tr>\n",
       "    <tr>\n",
       "      <th>4</th>\n",
       "      <td>65.0</td>\n",
       "      <td>160.0</td>\n",
       "      <td>20</td>\n",
       "      <td>327000.0</td>\n",
       "      <td>2.7</td>\n",
       "      <td>116</td>\n",
       "      <td>8</td>\n",
       "    </tr>\n",
       "  </tbody>\n",
       "</table>\n",
       "</div>"
      ],
      "text/plain": [
       "    age  creatinine_phosphokinase  ejection_fraction  platelets  \\\n",
       "0  75.0                     582.0                 20   265000.0   \n",
       "1  55.0                       NaN                 38        NaN   \n",
       "2  65.0                     146.0                 20   162000.0   \n",
       "3  50.0                     111.0                 20   210000.0   \n",
       "4  65.0                     160.0                 20   327000.0   \n",
       "\n",
       "   serum_creatinine  serum_sodium  time  \n",
       "0               1.9           130     4  \n",
       "1               1.1           136     6  \n",
       "2               1.3           129     7  \n",
       "3               1.9           137     7  \n",
       "4               2.7           116     8  "
      ]
     },
     "execution_count": 19,
     "metadata": {},
     "output_type": "execute_result"
    }
   ],
   "source": [
    "df3.head()"
   ]
  },
  {
   "cell_type": "code",
   "execution_count": 20,
   "id": "07007c63",
   "metadata": {},
   "outputs": [
    {
     "data": {
      "text/html": [
       "<div>\n",
       "<style scoped>\n",
       "    .dataframe tbody tr th:only-of-type {\n",
       "        vertical-align: middle;\n",
       "    }\n",
       "\n",
       "    .dataframe tbody tr th {\n",
       "        vertical-align: top;\n",
       "    }\n",
       "\n",
       "    .dataframe thead th {\n",
       "        text-align: right;\n",
       "    }\n",
       "</style>\n",
       "<table border=\"1\" class=\"dataframe\">\n",
       "  <thead>\n",
       "    <tr style=\"text-align: right;\">\n",
       "      <th></th>\n",
       "      <th>anaemia</th>\n",
       "      <th>diabetes</th>\n",
       "      <th>high_blood_pressure</th>\n",
       "      <th>sex</th>\n",
       "      <th>DEATH_EVENT</th>\n",
       "    </tr>\n",
       "  </thead>\n",
       "  <tbody>\n",
       "    <tr>\n",
       "      <th>0</th>\n",
       "      <td>0</td>\n",
       "      <td>0</td>\n",
       "      <td>1</td>\n",
       "      <td>1</td>\n",
       "      <td>1</td>\n",
       "    </tr>\n",
       "    <tr>\n",
       "      <th>1</th>\n",
       "      <td>0</td>\n",
       "      <td>0</td>\n",
       "      <td>0</td>\n",
       "      <td>1</td>\n",
       "      <td>1</td>\n",
       "    </tr>\n",
       "    <tr>\n",
       "      <th>2</th>\n",
       "      <td>0</td>\n",
       "      <td>0</td>\n",
       "      <td>0</td>\n",
       "      <td>1</td>\n",
       "      <td>1</td>\n",
       "    </tr>\n",
       "    <tr>\n",
       "      <th>3</th>\n",
       "      <td>1</td>\n",
       "      <td>0</td>\n",
       "      <td>0</td>\n",
       "      <td>1</td>\n",
       "      <td>1</td>\n",
       "    </tr>\n",
       "    <tr>\n",
       "      <th>4</th>\n",
       "      <td>1</td>\n",
       "      <td>1</td>\n",
       "      <td>0</td>\n",
       "      <td>0</td>\n",
       "      <td>1</td>\n",
       "    </tr>\n",
       "  </tbody>\n",
       "</table>\n",
       "</div>"
      ],
      "text/plain": [
       "   anaemia  diabetes  high_blood_pressure  sex  DEATH_EVENT\n",
       "0        0         0                    1    1            1\n",
       "1        0         0                    0    1            1\n",
       "2        0         0                    0    1            1\n",
       "3        1         0                    0    1            1\n",
       "4        1         1                    0    0            1"
      ]
     },
     "execution_count": 20,
     "metadata": {},
     "output_type": "execute_result"
    }
   ],
   "source": [
    "df4.head()"
   ]
  },
  {
   "cell_type": "code",
   "execution_count": 21,
   "id": "33526a74",
   "metadata": {},
   "outputs": [],
   "source": [
    "scaler = MinMaxScaler()\n",
    "df3 = pd.DataFrame(scaler.fit_transform(df3),\n",
    "            columns=df3.columns, index=df3.index)"
   ]
  },
  {
   "cell_type": "code",
   "execution_count": 22,
   "id": "688e5229",
   "metadata": {},
   "outputs": [
    {
     "data": {
      "text/html": [
       "<div>\n",
       "<style scoped>\n",
       "    .dataframe tbody tr th:only-of-type {\n",
       "        vertical-align: middle;\n",
       "    }\n",
       "\n",
       "    .dataframe tbody tr th {\n",
       "        vertical-align: top;\n",
       "    }\n",
       "\n",
       "    .dataframe thead th {\n",
       "        text-align: right;\n",
       "    }\n",
       "</style>\n",
       "<table border=\"1\" class=\"dataframe\">\n",
       "  <thead>\n",
       "    <tr style=\"text-align: right;\">\n",
       "      <th></th>\n",
       "      <th>age</th>\n",
       "      <th>creatinine_phosphokinase</th>\n",
       "      <th>ejection_fraction</th>\n",
       "      <th>platelets</th>\n",
       "      <th>serum_creatinine</th>\n",
       "      <th>serum_sodium</th>\n",
       "      <th>time</th>\n",
       "    </tr>\n",
       "  </thead>\n",
       "  <tbody>\n",
       "    <tr>\n",
       "      <th>0</th>\n",
       "      <td>0.636364</td>\n",
       "      <td>0.072796</td>\n",
       "      <td>0.090909</td>\n",
       "      <td>0.290823</td>\n",
       "      <td>0.157303</td>\n",
       "      <td>0.485714</td>\n",
       "      <td>0.000000</td>\n",
       "    </tr>\n",
       "    <tr>\n",
       "      <th>1</th>\n",
       "      <td>0.272727</td>\n",
       "      <td>NaN</td>\n",
       "      <td>0.363636</td>\n",
       "      <td>NaN</td>\n",
       "      <td>0.067416</td>\n",
       "      <td>0.657143</td>\n",
       "      <td>0.007117</td>\n",
       "    </tr>\n",
       "    <tr>\n",
       "      <th>2</th>\n",
       "      <td>0.454545</td>\n",
       "      <td>0.016018</td>\n",
       "      <td>0.090909</td>\n",
       "      <td>0.165960</td>\n",
       "      <td>0.089888</td>\n",
       "      <td>0.457143</td>\n",
       "      <td>0.010676</td>\n",
       "    </tr>\n",
       "    <tr>\n",
       "      <th>3</th>\n",
       "      <td>0.181818</td>\n",
       "      <td>0.011460</td>\n",
       "      <td>0.090909</td>\n",
       "      <td>0.224148</td>\n",
       "      <td>0.157303</td>\n",
       "      <td>0.685714</td>\n",
       "      <td>0.010676</td>\n",
       "    </tr>\n",
       "    <tr>\n",
       "      <th>4</th>\n",
       "      <td>0.454545</td>\n",
       "      <td>0.017841</td>\n",
       "      <td>0.090909</td>\n",
       "      <td>0.365984</td>\n",
       "      <td>0.247191</td>\n",
       "      <td>0.085714</td>\n",
       "      <td>0.014235</td>\n",
       "    </tr>\n",
       "  </tbody>\n",
       "</table>\n",
       "</div>"
      ],
      "text/plain": [
       "        age  creatinine_phosphokinase  ejection_fraction  platelets  \\\n",
       "0  0.636364                  0.072796           0.090909   0.290823   \n",
       "1  0.272727                       NaN           0.363636        NaN   \n",
       "2  0.454545                  0.016018           0.090909   0.165960   \n",
       "3  0.181818                  0.011460           0.090909   0.224148   \n",
       "4  0.454545                  0.017841           0.090909   0.365984   \n",
       "\n",
       "   serum_creatinine  serum_sodium      time  \n",
       "0          0.157303      0.485714  0.000000  \n",
       "1          0.067416      0.657143  0.007117  \n",
       "2          0.089888      0.457143  0.010676  \n",
       "3          0.157303      0.685714  0.010676  \n",
       "4          0.247191      0.085714  0.014235  "
      ]
     },
     "execution_count": 22,
     "metadata": {},
     "output_type": "execute_result"
    }
   ],
   "source": [
    "df3.head()"
   ]
  },
  {
   "cell_type": "code",
   "execution_count": 23,
   "id": "856d76e5",
   "metadata": {},
   "outputs": [
    {
     "data": {
      "image/png": "[encoded data removed]",
      "text/plain": [
       "<Figure size 432x288 with 1 Axes>"
      ]
     },
     "metadata": {
      "needs_background": "light"
     },
     "output_type": "display_data"
    }
   ],
   "source": [
    "ax = sns.boxplot(data=df3, orient=\"h\", palette=\"Set2\")"
   ]
  },
  {
   "cell_type": "code",
   "execution_count": 24,
   "id": "96c3b940",
   "metadata": {},
   "outputs": [
    {
     "data": {
      "image/png": "[encoded data removed]",
      "text/plain": [
       "<Figure size 432x288 with 1 Axes>"
      ]
     },
     "metadata": {
      "needs_background": "light"
     },
     "output_type": "display_data"
    }
   ],
   "source": [
    "ax = sns.boxplot(data=df4, orient=\"h\", palette=\"Set2\")"
   ]
  },
  {
   "cell_type": "code",
   "execution_count": 25,
   "id": "68dd04d0",
   "metadata": {},
   "outputs": [],
   "source": [
    "df_before_preprocessing= pd.concat([df1[\"age\"],df3,df4],axis=1)"
   ]
  },
  {
   "cell_type": "code",
   "execution_count": 26,
   "id": "87953610",
   "metadata": {},
   "outputs": [
    {
     "name": "stdout",
     "output_type": "stream",
     "text": [
      "Finally finished!\n",
      "False\n"
     ]
    }
   ],
   "source": [
    "for col in df3.columns:\n",
    "  median = df3[col].median()\n",
    "  df3[col].fillna(median, inplace=True)\n",
    "else:\n",
    "  print(\"Finally finished!\")\n",
    "print(df3.isnull().values.any())"
   ]
  },
  {
   "cell_type": "code",
   "execution_count": 27,
   "id": "78d6249a",
   "metadata": {},
   "outputs": [
    {
     "name": "stdout",
     "output_type": "stream",
     "text": [
      "False\n"
     ]
    }
   ],
   "source": [
    "print(df3.isnull().values.any())"
   ]
  },
  {
   "cell_type": "code",
   "execution_count": 28,
   "id": "ad46ef19",
   "metadata": {},
   "outputs": [
    {
     "name": "stdout",
     "output_type": "stream",
     "text": [
      "age 0.0%\n",
      "creatinine_phosphokinase 0.0%\n",
      "ejection_fraction 0.0%\n",
      "platelets 0.0%\n",
      "serum_creatinine 0.0%\n",
      "serum_sodium 0.0%\n",
      "time 0.0%\n"
     ]
    }
   ],
   "source": [
    "for col in df3.columns:\n",
    "    print(col, str(round(100* df3[col].isnull().sum() / len(df3), 2)) + '%')"
   ]
  },
  {
   "cell_type": "code",
   "execution_count": 29,
   "id": "c89cc727",
   "metadata": {},
   "outputs": [
    {
     "data": {
      "text/html": [
       "<div>\n",
       "<style scoped>\n",
       "    .dataframe tbody tr th:only-of-type {\n",
       "        vertical-align: middle;\n",
       "    }\n",
       "\n",
       "    .dataframe tbody tr th {\n",
       "        vertical-align: top;\n",
       "    }\n",
       "\n",
       "    .dataframe thead th {\n",
       "        text-align: right;\n",
       "    }\n",
       "</style>\n",
       "<table border=\"1\" class=\"dataframe\">\n",
       "  <thead>\n",
       "    <tr style=\"text-align: right;\">\n",
       "      <th></th>\n",
       "      <th>age</th>\n",
       "      <th>creatinine_phosphokinase</th>\n",
       "      <th>ejection_fraction</th>\n",
       "      <th>platelets</th>\n",
       "      <th>serum_creatinine</th>\n",
       "      <th>serum_sodium</th>\n",
       "      <th>time</th>\n",
       "    </tr>\n",
       "  </thead>\n",
       "  <tbody>\n",
       "    <tr>\n",
       "      <th>0</th>\n",
       "      <td>0.636364</td>\n",
       "      <td>0.072796</td>\n",
       "      <td>0.090909</td>\n",
       "      <td>0.290823</td>\n",
       "      <td>0.157303</td>\n",
       "      <td>0.485714</td>\n",
       "      <td>0.000000</td>\n",
       "    </tr>\n",
       "    <tr>\n",
       "      <th>1</th>\n",
       "      <td>0.272727</td>\n",
       "      <td>0.029496</td>\n",
       "      <td>0.363636</td>\n",
       "      <td>0.287186</td>\n",
       "      <td>0.067416</td>\n",
       "      <td>0.657143</td>\n",
       "      <td>0.007117</td>\n",
       "    </tr>\n",
       "    <tr>\n",
       "      <th>2</th>\n",
       "      <td>0.454545</td>\n",
       "      <td>0.016018</td>\n",
       "      <td>0.090909</td>\n",
       "      <td>0.165960</td>\n",
       "      <td>0.089888</td>\n",
       "      <td>0.457143</td>\n",
       "      <td>0.010676</td>\n",
       "    </tr>\n",
       "    <tr>\n",
       "      <th>3</th>\n",
       "      <td>0.181818</td>\n",
       "      <td>0.011460</td>\n",
       "      <td>0.090909</td>\n",
       "      <td>0.224148</td>\n",
       "      <td>0.157303</td>\n",
       "      <td>0.685714</td>\n",
       "      <td>0.010676</td>\n",
       "    </tr>\n",
       "    <tr>\n",
       "      <th>4</th>\n",
       "      <td>0.454545</td>\n",
       "      <td>0.017841</td>\n",
       "      <td>0.090909</td>\n",
       "      <td>0.365984</td>\n",
       "      <td>0.247191</td>\n",
       "      <td>0.085714</td>\n",
       "      <td>0.014235</td>\n",
       "    </tr>\n",
       "  </tbody>\n",
       "</table>\n",
       "</div>"
      ],
      "text/plain": [
       "        age  creatinine_phosphokinase  ejection_fraction  platelets  \\\n",
       "0  0.636364                  0.072796           0.090909   0.290823   \n",
       "1  0.272727                  0.029496           0.363636   0.287186   \n",
       "2  0.454545                  0.016018           0.090909   0.165960   \n",
       "3  0.181818                  0.011460           0.090909   0.224148   \n",
       "4  0.454545                  0.017841           0.090909   0.365984   \n",
       "\n",
       "   serum_creatinine  serum_sodium      time  \n",
       "0          0.157303      0.485714  0.000000  \n",
       "1          0.067416      0.657143  0.007117  \n",
       "2          0.089888      0.457143  0.010676  \n",
       "3          0.157303      0.685714  0.010676  \n",
       "4          0.247191      0.085714  0.014235  "
      ]
     },
     "execution_count": 29,
     "metadata": {},
     "output_type": "execute_result"
    }
   ],
   "source": [
    "df3.head()"
   ]
  },
  {
   "cell_type": "code",
   "execution_count": 30,
   "id": "d81f51ce",
   "metadata": {},
   "outputs": [
    {
     "data": {
      "text/html": [
       "<div>\n",
       "<style scoped>\n",
       "    .dataframe tbody tr th:only-of-type {\n",
       "        vertical-align: middle;\n",
       "    }\n",
       "\n",
       "    .dataframe tbody tr th {\n",
       "        vertical-align: top;\n",
       "    }\n",
       "\n",
       "    .dataframe thead th {\n",
       "        text-align: right;\n",
       "    }\n",
       "</style>\n",
       "<table border=\"1\" class=\"dataframe\">\n",
       "  <thead>\n",
       "    <tr style=\"text-align: right;\">\n",
       "      <th></th>\n",
       "      <th>age</th>\n",
       "      <th>creatinine_phosphokinase</th>\n",
       "      <th>ejection_fraction</th>\n",
       "      <th>platelets</th>\n",
       "      <th>serum_creatinine</th>\n",
       "      <th>serum_sodium</th>\n",
       "      <th>time</th>\n",
       "    </tr>\n",
       "  </thead>\n",
       "  <tbody>\n",
       "    <tr>\n",
       "      <th>count</th>\n",
       "      <td>299.000000</td>\n",
       "      <td>299.000000</td>\n",
       "      <td>299.000000</td>\n",
       "      <td>299.000000</td>\n",
       "      <td>299.000000</td>\n",
       "      <td>299.000000</td>\n",
       "      <td>299.000000</td>\n",
       "    </tr>\n",
       "    <tr>\n",
       "      <th>mean</th>\n",
       "      <td>0.378798</td>\n",
       "      <td>0.069460</td>\n",
       "      <td>0.364903</td>\n",
       "      <td>0.288308</td>\n",
       "      <td>0.100436</td>\n",
       "      <td>0.675012</td>\n",
       "      <td>0.449327</td>\n",
       "    </tr>\n",
       "    <tr>\n",
       "      <th>std</th>\n",
       "      <td>0.216269</td>\n",
       "      <td>0.113779</td>\n",
       "      <td>0.179316</td>\n",
       "      <td>0.118230</td>\n",
       "      <td>0.116237</td>\n",
       "      <td>0.126071</td>\n",
       "      <td>0.276207</td>\n",
       "    </tr>\n",
       "    <tr>\n",
       "      <th>min</th>\n",
       "      <td>0.000000</td>\n",
       "      <td>0.000000</td>\n",
       "      <td>0.000000</td>\n",
       "      <td>0.000000</td>\n",
       "      <td>0.000000</td>\n",
       "      <td>0.000000</td>\n",
       "      <td>0.000000</td>\n",
       "    </tr>\n",
       "    <tr>\n",
       "      <th>10%</th>\n",
       "      <td>0.090909</td>\n",
       "      <td>0.005808</td>\n",
       "      <td>0.166667</td>\n",
       "      <td>0.155049</td>\n",
       "      <td>0.033708</td>\n",
       "      <td>0.542857</td>\n",
       "      <td>0.081139</td>\n",
       "    </tr>\n",
       "    <tr>\n",
       "      <th>50%</th>\n",
       "      <td>0.363636</td>\n",
       "      <td>0.029496</td>\n",
       "      <td>0.363636</td>\n",
       "      <td>0.287186</td>\n",
       "      <td>0.067416</td>\n",
       "      <td>0.685714</td>\n",
       "      <td>0.395018</td>\n",
       "    </tr>\n",
       "    <tr>\n",
       "      <th>90%</th>\n",
       "      <td>0.643636</td>\n",
       "      <td>0.153223</td>\n",
       "      <td>0.696970</td>\n",
       "      <td>0.420051</td>\n",
       "      <td>0.179775</td>\n",
       "      <td>0.805714</td>\n",
       "      <td>0.854093</td>\n",
       "    </tr>\n",
       "    <tr>\n",
       "      <th>max</th>\n",
       "      <td>1.000000</td>\n",
       "      <td>1.000000</td>\n",
       "      <td>1.000000</td>\n",
       "      <td>1.000000</td>\n",
       "      <td>1.000000</td>\n",
       "      <td>1.000000</td>\n",
       "      <td>1.000000</td>\n",
       "    </tr>\n",
       "  </tbody>\n",
       "</table>\n",
       "</div>"
      ],
      "text/plain": [
       "              age  creatinine_phosphokinase  ejection_fraction   platelets  \\\n",
       "count  299.000000                299.000000         299.000000  299.000000   \n",
       "mean     0.378798                  0.069460           0.364903    0.288308   \n",
       "std      0.216269                  0.113779           0.179316    0.118230   \n",
       "min      0.000000                  0.000000           0.000000    0.000000   \n",
       "10%      0.090909                  0.005808           0.166667    0.155049   \n",
       "50%      0.363636                  0.029496           0.363636    0.287186   \n",
       "90%      0.643636                  0.153223           0.696970    0.420051   \n",
       "max      1.000000                  1.000000           1.000000    1.000000   \n",
       "\n",
       "       serum_creatinine  serum_sodium        time  \n",
       "count        299.000000    299.000000  299.000000  \n",
       "mean           0.100436      0.675012    0.449327  \n",
       "std            0.116237      0.126071    0.276207  \n",
       "min            0.000000      0.000000    0.000000  \n",
       "10%            0.033708      0.542857    0.081139  \n",
       "50%            0.067416      0.685714    0.395018  \n",
       "90%            0.179775      0.805714    0.854093  \n",
       "max            1.000000      1.000000    1.000000  "
      ]
     },
     "execution_count": 30,
     "metadata": {},
     "output_type": "execute_result"
    }
   ],
   "source": [
    "df3.describe(percentiles=[.10,.5,.90])"
   ]
  },
  {
   "cell_type": "code",
   "execution_count": 31,
   "id": "341629ae",
   "metadata": {},
   "outputs": [],
   "source": [
    "#replacing outliers and extreams with null values\n",
    "df3.loc[df3.platelets > 0.9, 'platelets'] = np.nan\n",
    "df3.loc[df3.creatinine_phosphokinase > 0.9, 'creatinine_phosphokinase'] = np.nan\n",
    "df3.loc[df3.ejection_fraction > 0.9, 'ejection_fraction'] = np.nan\n",
    "df3.loc[df3.serum_creatinine > 0.9, 'serum_creatinine'] = np.nan\n",
    "df3.loc[df3.serum_sodium < 0.1, 'serum_sodium'] = np.nan"
   ]
  },
  {
   "cell_type": "code",
   "execution_count": 32,
   "id": "92d47e2d",
   "metadata": {},
   "outputs": [
    {
     "name": "stdout",
     "output_type": "stream",
     "text": [
      "Finally finished!\n",
      "False\n"
     ]
    }
   ],
   "source": [
    "# replacing null values with median\n",
    "for col in df3.columns:\n",
    "  median = df3[col].median()\n",
    "  df3[col].fillna(median, inplace=True)\n",
    "else:\n",
    "  print(\"Finally finished!\")\n",
    "print(df3.isnull().values.any())"
   ]
  },
  {
   "cell_type": "code",
   "execution_count": 33,
   "id": "7e93f0b7",
   "metadata": {},
   "outputs": [
    {
     "data": {
      "image/png": "[encoded data removed]",
      "text/plain": [
       "<Figure size 432x288 with 1 Axes>"
      ]
     },
     "metadata": {
      "needs_background": "light"
     },
     "output_type": "display_data"
    }
   ],
   "source": [
    "ax = sns.boxplot(data=df3, orient=\"h\", palette=\"Set2\")"
   ]
  },
  {
   "cell_type": "code",
   "execution_count": 34,
   "id": "a720c924",
   "metadata": {},
   "outputs": [
    {
     "data": {
      "text/html": [
       "<div>\n",
       "<style scoped>\n",
       "    .dataframe tbody tr th:only-of-type {\n",
       "        vertical-align: middle;\n",
       "    }\n",
       "\n",
       "    .dataframe tbody tr th {\n",
       "        vertical-align: top;\n",
       "    }\n",
       "\n",
       "    .dataframe thead th {\n",
       "        text-align: right;\n",
       "    }\n",
       "</style>\n",
       "<table border=\"1\" class=\"dataframe\">\n",
       "  <thead>\n",
       "    <tr style=\"text-align: right;\">\n",
       "      <th></th>\n",
       "      <th>Patient's id</th>\n",
       "      <th>age</th>\n",
       "      <th>creatinine_phosphokinase</th>\n",
       "      <th>ejection_fraction</th>\n",
       "      <th>platelets</th>\n",
       "      <th>serum_creatinine</th>\n",
       "      <th>serum_sodium</th>\n",
       "      <th>time</th>\n",
       "      <th>anaemia</th>\n",
       "      <th>diabetes</th>\n",
       "      <th>high_blood_pressure</th>\n",
       "      <th>sex</th>\n",
       "      <th>DEATH_EVENT</th>\n",
       "    </tr>\n",
       "  </thead>\n",
       "  <tbody>\n",
       "    <tr>\n",
       "      <th>0</th>\n",
       "      <td>PA1</td>\n",
       "      <td>75.0</td>\n",
       "      <td>0.072796</td>\n",
       "      <td>0.090909</td>\n",
       "      <td>0.290823</td>\n",
       "      <td>0.157303</td>\n",
       "      <td>0.485714</td>\n",
       "      <td>0.000000</td>\n",
       "      <td>0</td>\n",
       "      <td>0</td>\n",
       "      <td>1</td>\n",
       "      <td>1</td>\n",
       "      <td>1</td>\n",
       "    </tr>\n",
       "    <tr>\n",
       "      <th>1</th>\n",
       "      <td>PA2</td>\n",
       "      <td>55.0</td>\n",
       "      <td>0.029496</td>\n",
       "      <td>0.363636</td>\n",
       "      <td>0.287186</td>\n",
       "      <td>0.067416</td>\n",
       "      <td>0.657143</td>\n",
       "      <td>0.007117</td>\n",
       "      <td>0</td>\n",
       "      <td>0</td>\n",
       "      <td>0</td>\n",
       "      <td>1</td>\n",
       "      <td>1</td>\n",
       "    </tr>\n",
       "    <tr>\n",
       "      <th>2</th>\n",
       "      <td>PA3</td>\n",
       "      <td>65.0</td>\n",
       "      <td>0.016018</td>\n",
       "      <td>0.090909</td>\n",
       "      <td>0.165960</td>\n",
       "      <td>0.089888</td>\n",
       "      <td>0.457143</td>\n",
       "      <td>0.010676</td>\n",
       "      <td>0</td>\n",
       "      <td>0</td>\n",
       "      <td>0</td>\n",
       "      <td>1</td>\n",
       "      <td>1</td>\n",
       "    </tr>\n",
       "    <tr>\n",
       "      <th>3</th>\n",
       "      <td>PA4</td>\n",
       "      <td>50.0</td>\n",
       "      <td>0.011460</td>\n",
       "      <td>0.090909</td>\n",
       "      <td>0.224148</td>\n",
       "      <td>0.157303</td>\n",
       "      <td>0.685714</td>\n",
       "      <td>0.010676</td>\n",
       "      <td>1</td>\n",
       "      <td>0</td>\n",
       "      <td>0</td>\n",
       "      <td>1</td>\n",
       "      <td>1</td>\n",
       "    </tr>\n",
       "    <tr>\n",
       "      <th>4</th>\n",
       "      <td>PA5</td>\n",
       "      <td>65.0</td>\n",
       "      <td>0.017841</td>\n",
       "      <td>0.090909</td>\n",
       "      <td>0.365984</td>\n",
       "      <td>0.247191</td>\n",
       "      <td>0.685714</td>\n",
       "      <td>0.014235</td>\n",
       "      <td>1</td>\n",
       "      <td>1</td>\n",
       "      <td>0</td>\n",
       "      <td>0</td>\n",
       "      <td>1</td>\n",
       "    </tr>\n",
       "  </tbody>\n",
       "</table>\n",
       "</div>"
      ],
      "text/plain": [
       "  Patient's id   age  creatinine_phosphokinase  ejection_fraction  platelets  \\\n",
       "0          PA1  75.0                  0.072796           0.090909   0.290823   \n",
       "1          PA2  55.0                  0.029496           0.363636   0.287186   \n",
       "2          PA3  65.0                  0.016018           0.090909   0.165960   \n",
       "3          PA4  50.0                  0.011460           0.090909   0.224148   \n",
       "4          PA5  65.0                  0.017841           0.090909   0.365984   \n",
       "\n",
       "   serum_creatinine  serum_sodium      time  anaemia  diabetes  \\\n",
       "0          0.157303      0.485714  0.000000        0         0   \n",
       "1          0.067416      0.657143  0.007117        0         0   \n",
       "2          0.089888      0.457143  0.010676        0         0   \n",
       "3          0.157303      0.685714  0.010676        1         0   \n",
       "4          0.247191      0.685714  0.014235        1         1   \n",
       "\n",
       "   high_blood_pressure  sex  DEATH_EVENT  \n",
       "0                    1    1            1  \n",
       "1                    0    1            1  \n",
       "2                    0    1            1  \n",
       "3                    0    1            1  \n",
       "4                    0    0            1  "
      ]
     },
     "execution_count": 34,
     "metadata": {},
     "output_type": "execute_result"
    }
   ],
   "source": [
    "df3=df3.drop(['age'],axis=1)\n",
    "df= pd.concat([df1[[\"Patient's id\",\"age\"]],df3,df4],axis=1)\n",
    "df.head()"
   ]
  },
  {
   "cell_type": "code",
   "execution_count": 35,
   "id": "0e517903",
   "metadata": {},
   "outputs": [
    {
     "data": {
      "text/html": [
       "<div>\n",
       "<style scoped>\n",
       "    .dataframe tbody tr th:only-of-type {\n",
       "        vertical-align: middle;\n",
       "    }\n",
       "\n",
       "    .dataframe tbody tr th {\n",
       "        vertical-align: top;\n",
       "    }\n",
       "\n",
       "    .dataframe thead th {\n",
       "        text-align: right;\n",
       "    }\n",
       "</style>\n",
       "<table border=\"1\" class=\"dataframe\">\n",
       "  <thead>\n",
       "    <tr style=\"text-align: right;\">\n",
       "      <th></th>\n",
       "      <th>Patient's id</th>\n",
       "      <th>smoking</th>\n",
       "    </tr>\n",
       "  </thead>\n",
       "  <tbody>\n",
       "    <tr>\n",
       "      <th>0</th>\n",
       "      <td>PA1</td>\n",
       "      <td>0</td>\n",
       "    </tr>\n",
       "    <tr>\n",
       "      <th>1</th>\n",
       "      <td>PA2</td>\n",
       "      <td>0</td>\n",
       "    </tr>\n",
       "    <tr>\n",
       "      <th>2</th>\n",
       "      <td>PA3</td>\n",
       "      <td>1</td>\n",
       "    </tr>\n",
       "    <tr>\n",
       "      <th>3</th>\n",
       "      <td>PA4</td>\n",
       "      <td>0</td>\n",
       "    </tr>\n",
       "    <tr>\n",
       "      <th>4</th>\n",
       "      <td>PA5</td>\n",
       "      <td>0</td>\n",
       "    </tr>\n",
       "  </tbody>\n",
       "</table>\n",
       "</div>"
      ],
      "text/plain": [
       "  Patient's id  smoking\n",
       "0          PA1        0\n",
       "1          PA2        0\n",
       "2          PA3        1\n",
       "3          PA4        0\n",
       "4          PA5        0"
      ]
     },
     "execution_count": 35,
     "metadata": {},
     "output_type": "execute_result"
    }
   ],
   "source": [
    "from pandas.api.types import CategoricalDtype\n",
    "classes = df2['smoking'].unique()\n",
    "smoke_types = CategoricalDtype(categories=classes)\n",
    "df2['smoking'] = df2['smoking'].astype(smoke_types).cat.codes.astype('long')\n",
    "df2.head()"
   ]
  },
  {
   "cell_type": "code",
   "execution_count": 36,
   "id": "998048ec",
   "metadata": {},
   "outputs": [],
   "source": [
    "df = df.merge(df2, on=\"Patient's id\")"
   ]
  },
  {
   "cell_type": "code",
   "execution_count": 37,
   "id": "a6aaad5a",
   "metadata": {},
   "outputs": [
    {
     "data": {
      "text/html": [
       "<div>\n",
       "<style scoped>\n",
       "    .dataframe tbody tr th:only-of-type {\n",
       "        vertical-align: middle;\n",
       "    }\n",
       "\n",
       "    .dataframe tbody tr th {\n",
       "        vertical-align: top;\n",
       "    }\n",
       "\n",
       "    .dataframe thead th {\n",
       "        text-align: right;\n",
       "    }\n",
       "</style>\n",
       "<table border=\"1\" class=\"dataframe\">\n",
       "  <thead>\n",
       "    <tr style=\"text-align: right;\">\n",
       "      <th></th>\n",
       "      <th>Patient's id</th>\n",
       "      <th>age</th>\n",
       "      <th>creatinine_phosphokinase</th>\n",
       "      <th>ejection_fraction</th>\n",
       "      <th>platelets</th>\n",
       "      <th>serum_creatinine</th>\n",
       "      <th>serum_sodium</th>\n",
       "      <th>time</th>\n",
       "      <th>anaemia</th>\n",
       "      <th>diabetes</th>\n",
       "      <th>high_blood_pressure</th>\n",
       "      <th>sex</th>\n",
       "      <th>DEATH_EVENT</th>\n",
       "      <th>smoking</th>\n",
       "    </tr>\n",
       "  </thead>\n",
       "  <tbody>\n",
       "    <tr>\n",
       "      <th>0</th>\n",
       "      <td>PA1</td>\n",
       "      <td>75.0</td>\n",
       "      <td>0.072796</td>\n",
       "      <td>0.090909</td>\n",
       "      <td>0.290823</td>\n",
       "      <td>0.157303</td>\n",
       "      <td>0.485714</td>\n",
       "      <td>0.000000</td>\n",
       "      <td>0</td>\n",
       "      <td>0</td>\n",
       "      <td>1</td>\n",
       "      <td>1</td>\n",
       "      <td>1</td>\n",
       "      <td>0</td>\n",
       "    </tr>\n",
       "    <tr>\n",
       "      <th>1</th>\n",
       "      <td>PA2</td>\n",
       "      <td>55.0</td>\n",
       "      <td>0.029496</td>\n",
       "      <td>0.363636</td>\n",
       "      <td>0.287186</td>\n",
       "      <td>0.067416</td>\n",
       "      <td>0.657143</td>\n",
       "      <td>0.007117</td>\n",
       "      <td>0</td>\n",
       "      <td>0</td>\n",
       "      <td>0</td>\n",
       "      <td>1</td>\n",
       "      <td>1</td>\n",
       "      <td>0</td>\n",
       "    </tr>\n",
       "    <tr>\n",
       "      <th>2</th>\n",
       "      <td>PA3</td>\n",
       "      <td>65.0</td>\n",
       "      <td>0.016018</td>\n",
       "      <td>0.090909</td>\n",
       "      <td>0.165960</td>\n",
       "      <td>0.089888</td>\n",
       "      <td>0.457143</td>\n",
       "      <td>0.010676</td>\n",
       "      <td>0</td>\n",
       "      <td>0</td>\n",
       "      <td>0</td>\n",
       "      <td>1</td>\n",
       "      <td>1</td>\n",
       "      <td>1</td>\n",
       "    </tr>\n",
       "    <tr>\n",
       "      <th>3</th>\n",
       "      <td>PA4</td>\n",
       "      <td>50.0</td>\n",
       "      <td>0.011460</td>\n",
       "      <td>0.090909</td>\n",
       "      <td>0.224148</td>\n",
       "      <td>0.157303</td>\n",
       "      <td>0.685714</td>\n",
       "      <td>0.010676</td>\n",
       "      <td>1</td>\n",
       "      <td>0</td>\n",
       "      <td>0</td>\n",
       "      <td>1</td>\n",
       "      <td>1</td>\n",
       "      <td>0</td>\n",
       "    </tr>\n",
       "    <tr>\n",
       "      <th>4</th>\n",
       "      <td>PA5</td>\n",
       "      <td>65.0</td>\n",
       "      <td>0.017841</td>\n",
       "      <td>0.090909</td>\n",
       "      <td>0.365984</td>\n",
       "      <td>0.247191</td>\n",
       "      <td>0.685714</td>\n",
       "      <td>0.014235</td>\n",
       "      <td>1</td>\n",
       "      <td>1</td>\n",
       "      <td>0</td>\n",
       "      <td>0</td>\n",
       "      <td>1</td>\n",
       "      <td>0</td>\n",
       "    </tr>\n",
       "  </tbody>\n",
       "</table>\n",
       "</div>"
      ],
      "text/plain": [
       "  Patient's id   age  creatinine_phosphokinase  ejection_fraction  platelets  \\\n",
       "0          PA1  75.0                  0.072796           0.090909   0.290823   \n",
       "1          PA2  55.0                  0.029496           0.363636   0.287186   \n",
       "2          PA3  65.0                  0.016018           0.090909   0.165960   \n",
       "3          PA4  50.0                  0.011460           0.090909   0.224148   \n",
       "4          PA5  65.0                  0.017841           0.090909   0.365984   \n",
       "\n",
       "   serum_creatinine  serum_sodium      time  anaemia  diabetes  \\\n",
       "0          0.157303      0.485714  0.000000        0         0   \n",
       "1          0.067416      0.657143  0.007117        0         0   \n",
       "2          0.089888      0.457143  0.010676        0         0   \n",
       "3          0.157303      0.685714  0.010676        1         0   \n",
       "4          0.247191      0.685714  0.014235        1         1   \n",
       "\n",
       "   high_blood_pressure  sex  DEATH_EVENT  smoking  \n",
       "0                    1    1            1        0  \n",
       "1                    0    1            1        0  \n",
       "2                    0    1            1        1  \n",
       "3                    0    1            1        0  \n",
       "4                    0    0            1        0  "
      ]
     },
     "execution_count": 37,
     "metadata": {},
     "output_type": "execute_result"
    }
   ],
   "source": [
    "df.head()"
   ]
  },
  {
   "cell_type": "code",
   "execution_count": 38,
   "id": "48c8eb98",
   "metadata": {},
   "outputs": [
    {
     "data": {
      "text/html": [
       "<div>\n",
       "<style scoped>\n",
       "    .dataframe tbody tr th:only-of-type {\n",
       "        vertical-align: middle;\n",
       "    }\n",
       "\n",
       "    .dataframe tbody tr th {\n",
       "        vertical-align: top;\n",
       "    }\n",
       "\n",
       "    .dataframe thead th {\n",
       "        text-align: right;\n",
       "    }\n",
       "</style>\n",
       "<table border=\"1\" class=\"dataframe\">\n",
       "  <thead>\n",
       "    <tr style=\"text-align: right;\">\n",
       "      <th></th>\n",
       "      <th>Patient's id</th>\n",
       "      <th>age</th>\n",
       "      <th>creatinine_phosphokinase</th>\n",
       "      <th>ejection_fraction</th>\n",
       "      <th>platelets</th>\n",
       "      <th>serum_creatinine</th>\n",
       "      <th>serum_sodium</th>\n",
       "      <th>time</th>\n",
       "      <th>anaemia</th>\n",
       "      <th>diabetes</th>\n",
       "      <th>high_blood_pressure</th>\n",
       "      <th>sex</th>\n",
       "      <th>DEATH_EVENT</th>\n",
       "      <th>smoking</th>\n",
       "    </tr>\n",
       "  </thead>\n",
       "  <tbody>\n",
       "    <tr>\n",
       "      <th>0</th>\n",
       "      <td>PA1</td>\n",
       "      <td>75.0</td>\n",
       "      <td>0.072796</td>\n",
       "      <td>0.090909</td>\n",
       "      <td>0.290823</td>\n",
       "      <td>0.157303</td>\n",
       "      <td>0.485714</td>\n",
       "      <td>0.000000</td>\n",
       "      <td>0</td>\n",
       "      <td>0</td>\n",
       "      <td>1</td>\n",
       "      <td>1</td>\n",
       "      <td>1</td>\n",
       "      <td>0</td>\n",
       "    </tr>\n",
       "    <tr>\n",
       "      <th>1</th>\n",
       "      <td>PA2</td>\n",
       "      <td>55.0</td>\n",
       "      <td>0.029496</td>\n",
       "      <td>0.363636</td>\n",
       "      <td>0.287186</td>\n",
       "      <td>0.067416</td>\n",
       "      <td>0.657143</td>\n",
       "      <td>0.007117</td>\n",
       "      <td>0</td>\n",
       "      <td>0</td>\n",
       "      <td>0</td>\n",
       "      <td>1</td>\n",
       "      <td>1</td>\n",
       "      <td>0</td>\n",
       "    </tr>\n",
       "    <tr>\n",
       "      <th>2</th>\n",
       "      <td>PA3</td>\n",
       "      <td>65.0</td>\n",
       "      <td>0.016018</td>\n",
       "      <td>0.090909</td>\n",
       "      <td>0.165960</td>\n",
       "      <td>0.089888</td>\n",
       "      <td>0.457143</td>\n",
       "      <td>0.010676</td>\n",
       "      <td>0</td>\n",
       "      <td>0</td>\n",
       "      <td>0</td>\n",
       "      <td>1</td>\n",
       "      <td>1</td>\n",
       "      <td>1</td>\n",
       "    </tr>\n",
       "    <tr>\n",
       "      <th>3</th>\n",
       "      <td>PA4</td>\n",
       "      <td>50.0</td>\n",
       "      <td>0.011460</td>\n",
       "      <td>0.090909</td>\n",
       "      <td>0.224148</td>\n",
       "      <td>0.157303</td>\n",
       "      <td>0.685714</td>\n",
       "      <td>0.010676</td>\n",
       "      <td>1</td>\n",
       "      <td>0</td>\n",
       "      <td>0</td>\n",
       "      <td>1</td>\n",
       "      <td>1</td>\n",
       "      <td>0</td>\n",
       "    </tr>\n",
       "    <tr>\n",
       "      <th>4</th>\n",
       "      <td>PA5</td>\n",
       "      <td>65.0</td>\n",
       "      <td>0.017841</td>\n",
       "      <td>0.090909</td>\n",
       "      <td>0.365984</td>\n",
       "      <td>0.247191</td>\n",
       "      <td>0.685714</td>\n",
       "      <td>0.014235</td>\n",
       "      <td>1</td>\n",
       "      <td>1</td>\n",
       "      <td>0</td>\n",
       "      <td>0</td>\n",
       "      <td>1</td>\n",
       "      <td>0</td>\n",
       "    </tr>\n",
       "  </tbody>\n",
       "</table>\n",
       "</div>"
      ],
      "text/plain": [
       "  Patient's id   age  creatinine_phosphokinase  ejection_fraction  platelets  \\\n",
       "0          PA1  75.0                  0.072796           0.090909   0.290823   \n",
       "1          PA2  55.0                  0.029496           0.363636   0.287186   \n",
       "2          PA3  65.0                  0.016018           0.090909   0.165960   \n",
       "3          PA4  50.0                  0.011460           0.090909   0.224148   \n",
       "4          PA5  65.0                  0.017841           0.090909   0.365984   \n",
       "\n",
       "   serum_creatinine  serum_sodium      time  anaemia  diabetes  \\\n",
       "0          0.157303      0.485714  0.000000        0         0   \n",
       "1          0.067416      0.657143  0.007117        0         0   \n",
       "2          0.089888      0.457143  0.010676        0         0   \n",
       "3          0.157303      0.685714  0.010676        1         0   \n",
       "4          0.247191      0.685714  0.014235        1         1   \n",
       "\n",
       "   high_blood_pressure  sex  DEATH_EVENT  smoking  \n",
       "0                    1    1            1        0  \n",
       "1                    0    1            1        0  \n",
       "2                    0    1            1        1  \n",
       "3                    0    1            1        0  \n",
       "4                    0    0            1        0  "
      ]
     },
     "execution_count": 38,
     "metadata": {},
     "output_type": "execute_result"
    }
   ],
   "source": [
    "\n",
    "#df = merged.drop([\"Patient's id\"], axis=1)\n",
    "df.head()"
   ]
  },
  {
   "cell_type": "code",
   "execution_count": 39,
   "id": "fd30b3a4",
   "metadata": {},
   "outputs": [
    {
     "data": {
      "text/html": [
       "<div>\n",
       "<style scoped>\n",
       "    .dataframe tbody tr th:only-of-type {\n",
       "        vertical-align: middle;\n",
       "    }\n",
       "\n",
       "    .dataframe tbody tr th {\n",
       "        vertical-align: top;\n",
       "    }\n",
       "\n",
       "    .dataframe thead th {\n",
       "        text-align: right;\n",
       "    }\n",
       "</style>\n",
       "<table border=\"1\" class=\"dataframe\">\n",
       "  <thead>\n",
       "    <tr style=\"text-align: right;\">\n",
       "      <th></th>\n",
       "      <th>Patient's id</th>\n",
       "      <th>age</th>\n",
       "      <th>creatinine_phosphokinase</th>\n",
       "      <th>ejection_fraction</th>\n",
       "      <th>platelets</th>\n",
       "      <th>serum_creatinine</th>\n",
       "      <th>serum_sodium</th>\n",
       "      <th>time</th>\n",
       "      <th>anaemia</th>\n",
       "      <th>diabetes</th>\n",
       "      <th>high_blood_pressure</th>\n",
       "      <th>sex</th>\n",
       "      <th>DEATH_EVENT</th>\n",
       "      <th>smoking</th>\n",
       "    </tr>\n",
       "  </thead>\n",
       "  <tbody>\n",
       "    <tr>\n",
       "      <th>269</th>\n",
       "      <td>PA270</td>\n",
       "      <td>40.0</td>\n",
       "      <td>0.072796</td>\n",
       "      <td>0.318182</td>\n",
       "      <td>0.238696</td>\n",
       "      <td>0.056180</td>\n",
       "      <td>0.542857</td>\n",
       "      <td>0.854093</td>\n",
       "      <td>0</td>\n",
       "      <td>1</td>\n",
       "      <td>0</td>\n",
       "      <td>1</td>\n",
       "      <td>0</td>\n",
       "      <td>0</td>\n",
       "    </tr>\n",
       "    <tr>\n",
       "      <th>232</th>\n",
       "      <td>PA233</td>\n",
       "      <td>40.0</td>\n",
       "      <td>0.013804</td>\n",
       "      <td>0.318182</td>\n",
       "      <td>0.278700</td>\n",
       "      <td>0.044944</td>\n",
       "      <td>0.685714</td>\n",
       "      <td>0.729537</td>\n",
       "      <td>1</td>\n",
       "      <td>0</td>\n",
       "      <td>0</td>\n",
       "      <td>1</td>\n",
       "      <td>0</td>\n",
       "      <td>0</td>\n",
       "    </tr>\n",
       "    <tr>\n",
       "      <th>180</th>\n",
       "      <td>PA181</td>\n",
       "      <td>40.0</td>\n",
       "      <td>0.059253</td>\n",
       "      <td>0.242424</td>\n",
       "      <td>0.336889</td>\n",
       "      <td>0.044944</td>\n",
       "      <td>0.657143</td>\n",
       "      <td>0.512456</td>\n",
       "      <td>0</td>\n",
       "      <td>1</td>\n",
       "      <td>0</td>\n",
       "      <td>1</td>\n",
       "      <td>0</td>\n",
       "      <td>0</td>\n",
       "    </tr>\n",
       "    <tr>\n",
       "      <th>242</th>\n",
       "      <td>PA243</td>\n",
       "      <td>40.0</td>\n",
       "      <td>0.008725</td>\n",
       "      <td>0.318182</td>\n",
       "      <td>0.278700</td>\n",
       "      <td>0.067416</td>\n",
       "      <td>0.657143</td>\n",
       "      <td>0.740214</td>\n",
       "      <td>0</td>\n",
       "      <td>0</td>\n",
       "      <td>0</td>\n",
       "      <td>1</td>\n",
       "      <td>0</td>\n",
       "      <td>1</td>\n",
       "    </tr>\n",
       "    <tr>\n",
       "      <th>248</th>\n",
       "      <td>PA249</td>\n",
       "      <td>40.0</td>\n",
       "      <td>0.078265</td>\n",
       "      <td>0.318182</td>\n",
       "      <td>0.334465</td>\n",
       "      <td>0.056180</td>\n",
       "      <td>0.828571</td>\n",
       "      <td>0.747331</td>\n",
       "      <td>0</td>\n",
       "      <td>0</td>\n",
       "      <td>0</td>\n",
       "      <td>1</td>\n",
       "      <td>0</td>\n",
       "      <td>1</td>\n",
       "    </tr>\n",
       "  </tbody>\n",
       "</table>\n",
       "</div>"
      ],
      "text/plain": [
       "    Patient's id   age  creatinine_phosphokinase  ejection_fraction  \\\n",
       "269        PA270  40.0                  0.072796           0.318182   \n",
       "232        PA233  40.0                  0.013804           0.318182   \n",
       "180        PA181  40.0                  0.059253           0.242424   \n",
       "242        PA243  40.0                  0.008725           0.318182   \n",
       "248        PA249  40.0                  0.078265           0.318182   \n",
       "\n",
       "     platelets  serum_creatinine  serum_sodium      time  anaemia  diabetes  \\\n",
       "269   0.238696          0.056180      0.542857  0.854093        0         1   \n",
       "232   0.278700          0.044944      0.685714  0.729537        1         0   \n",
       "180   0.336889          0.044944      0.657143  0.512456        0         1   \n",
       "242   0.278700          0.067416      0.657143  0.740214        0         0   \n",
       "248   0.334465          0.056180      0.828571  0.747331        0         0   \n",
       "\n",
       "     high_blood_pressure  sex  DEATH_EVENT  smoking  \n",
       "269                    0    1            0        0  \n",
       "232                    0    1            0        0  \n",
       "180                    0    1            0        0  \n",
       "242                    0    1            0        1  \n",
       "248                    0    1            0        1  "
      ]
     },
     "execution_count": 39,
     "metadata": {},
     "output_type": "execute_result"
    }
   ],
   "source": [
    "df=df.sort_values(by=['age'])\n",
    "df.head()"
   ]
  },
  {
   "cell_type": "code",
   "execution_count": 40,
   "id": "27acf131",
   "metadata": {},
   "outputs": [
    {
     "data": {
      "text/html": [
       "<div>\n",
       "<style scoped>\n",
       "    .dataframe tbody tr th:only-of-type {\n",
       "        vertical-align: middle;\n",
       "    }\n",
       "\n",
       "    .dataframe tbody tr th {\n",
       "        vertical-align: top;\n",
       "    }\n",
       "\n",
       "    .dataframe thead th {\n",
       "        text-align: right;\n",
       "    }\n",
       "</style>\n",
       "<table border=\"1\" class=\"dataframe\">\n",
       "  <thead>\n",
       "    <tr style=\"text-align: right;\">\n",
       "      <th></th>\n",
       "      <th>Patient's id</th>\n",
       "      <th>age</th>\n",
       "      <th>creatinine_phosphokinase</th>\n",
       "      <th>ejection_fraction</th>\n",
       "      <th>platelets</th>\n",
       "      <th>serum_creatinine</th>\n",
       "      <th>serum_sodium</th>\n",
       "      <th>time</th>\n",
       "      <th>anaemia</th>\n",
       "      <th>diabetes</th>\n",
       "      <th>high_blood_pressure</th>\n",
       "      <th>sex</th>\n",
       "      <th>DEATH_EVENT</th>\n",
       "      <th>smoking</th>\n",
       "    </tr>\n",
       "  </thead>\n",
       "  <tbody>\n",
       "    <tr>\n",
       "      <th>36</th>\n",
       "      <td>PA37</td>\n",
       "      <td>90.0</td>\n",
       "      <td>0.004818</td>\n",
       "      <td>0.545455</td>\n",
       "      <td>0.243545</td>\n",
       "      <td>0.056180</td>\n",
       "      <td>0.600000</td>\n",
       "      <td>0.092527</td>\n",
       "      <td>1</td>\n",
       "      <td>1</td>\n",
       "      <td>0</td>\n",
       "      <td>1</td>\n",
       "      <td>1</td>\n",
       "      <td>0</td>\n",
       "    </tr>\n",
       "    <tr>\n",
       "      <th>5</th>\n",
       "      <td>PA6</td>\n",
       "      <td>90.0</td>\n",
       "      <td>0.003125</td>\n",
       "      <td>0.393939</td>\n",
       "      <td>0.216875</td>\n",
       "      <td>0.179775</td>\n",
       "      <td>0.542857</td>\n",
       "      <td>0.014235</td>\n",
       "      <td>1</td>\n",
       "      <td>0</td>\n",
       "      <td>1</td>\n",
       "      <td>1</td>\n",
       "      <td>1</td>\n",
       "      <td>1</td>\n",
       "    </tr>\n",
       "    <tr>\n",
       "      <th>30</th>\n",
       "      <td>PA31</td>\n",
       "      <td>94.0</td>\n",
       "      <td>0.072796</td>\n",
       "      <td>0.363636</td>\n",
       "      <td>0.288833</td>\n",
       "      <td>0.149438</td>\n",
       "      <td>0.600000</td>\n",
       "      <td>0.081851</td>\n",
       "      <td>0</td>\n",
       "      <td>1</td>\n",
       "      <td>1</td>\n",
       "      <td>1</td>\n",
       "      <td>1</td>\n",
       "      <td>0</td>\n",
       "    </tr>\n",
       "    <tr>\n",
       "      <th>55</th>\n",
       "      <td>PA56</td>\n",
       "      <td>95.0</td>\n",
       "      <td>0.045318</td>\n",
       "      <td>0.242424</td>\n",
       "      <td>0.528428</td>\n",
       "      <td>0.168539</td>\n",
       "      <td>0.542857</td>\n",
       "      <td>0.163701</td>\n",
       "      <td>1</td>\n",
       "      <td>0</td>\n",
       "      <td>0</td>\n",
       "      <td>1</td>\n",
       "      <td>1</td>\n",
       "      <td>0</td>\n",
       "    </tr>\n",
       "    <tr>\n",
       "      <th>26</th>\n",
       "      <td>PA27</td>\n",
       "      <td>95.0</td>\n",
       "      <td>0.011590</td>\n",
       "      <td>0.393939</td>\n",
       "      <td>0.207177</td>\n",
       "      <td>0.056180</td>\n",
       "      <td>0.714286</td>\n",
       "      <td>0.071174</td>\n",
       "      <td>1</td>\n",
       "      <td>0</td>\n",
       "      <td>1</td>\n",
       "      <td>0</td>\n",
       "      <td>1</td>\n",
       "      <td>0</td>\n",
       "    </tr>\n",
       "  </tbody>\n",
       "</table>\n",
       "</div>"
      ],
      "text/plain": [
       "   Patient's id   age  creatinine_phosphokinase  ejection_fraction  platelets  \\\n",
       "36         PA37  90.0                  0.004818           0.545455   0.243545   \n",
       "5           PA6  90.0                  0.003125           0.393939   0.216875   \n",
       "30         PA31  94.0                  0.072796           0.363636   0.288833   \n",
       "55         PA56  95.0                  0.045318           0.242424   0.528428   \n",
       "26         PA27  95.0                  0.011590           0.393939   0.207177   \n",
       "\n",
       "    serum_creatinine  serum_sodium      time  anaemia  diabetes  \\\n",
       "36          0.056180      0.600000  0.092527        1         1   \n",
       "5           0.179775      0.542857  0.014235        1         0   \n",
       "30          0.149438      0.600000  0.081851        0         1   \n",
       "55          0.168539      0.542857  0.163701        1         0   \n",
       "26          0.056180      0.714286  0.071174        1         0   \n",
       "\n",
       "    high_blood_pressure  sex  DEATH_EVENT  smoking  \n",
       "36                    0    1            1        0  \n",
       "5                     1    1            1        1  \n",
       "30                    1    1            1        0  \n",
       "55                    0    1            1        0  \n",
       "26                    1    0            1        0  "
      ]
     },
     "execution_count": 40,
     "metadata": {},
     "output_type": "execute_result"
    }
   ],
   "source": [
    "df.tail()"
   ]
  },
  {
   "cell_type": "code",
   "execution_count": 41,
   "id": "82be08ab",
   "metadata": {},
   "outputs": [],
   "source": [
    "\n",
    "df= df.drop([\"Patient's id\"], axis=1)\n"
   ]
  },
  {
   "cell_type": "code",
   "execution_count": 42,
   "id": "f01dca33",
   "metadata": {},
   "outputs": [
    {
     "data": {
      "text/html": [
       "<div>\n",
       "<style scoped>\n",
       "    .dataframe tbody tr th:only-of-type {\n",
       "        vertical-align: middle;\n",
       "    }\n",
       "\n",
       "    .dataframe tbody tr th {\n",
       "        vertical-align: top;\n",
       "    }\n",
       "\n",
       "    .dataframe thead th {\n",
       "        text-align: right;\n",
       "    }\n",
       "</style>\n",
       "<table border=\"1\" class=\"dataframe\">\n",
       "  <thead>\n",
       "    <tr style=\"text-align: right;\">\n",
       "      <th></th>\n",
       "      <th>age</th>\n",
       "      <th>creatinine_phosphokinase</th>\n",
       "      <th>ejection_fraction</th>\n",
       "      <th>platelets</th>\n",
       "      <th>serum_creatinine</th>\n",
       "      <th>serum_sodium</th>\n",
       "      <th>time</th>\n",
       "      <th>anaemia</th>\n",
       "      <th>diabetes</th>\n",
       "      <th>high_blood_pressure</th>\n",
       "      <th>sex</th>\n",
       "      <th>DEATH_EVENT</th>\n",
       "      <th>smoking</th>\n",
       "    </tr>\n",
       "  </thead>\n",
       "  <tbody>\n",
       "    <tr>\n",
       "      <th>269</th>\n",
       "      <td>40.0</td>\n",
       "      <td>0.072796</td>\n",
       "      <td>0.318182</td>\n",
       "      <td>0.238696</td>\n",
       "      <td>0.056180</td>\n",
       "      <td>0.542857</td>\n",
       "      <td>0.854093</td>\n",
       "      <td>0</td>\n",
       "      <td>1</td>\n",
       "      <td>0</td>\n",
       "      <td>1</td>\n",
       "      <td>0</td>\n",
       "      <td>0</td>\n",
       "    </tr>\n",
       "    <tr>\n",
       "      <th>232</th>\n",
       "      <td>40.0</td>\n",
       "      <td>0.013804</td>\n",
       "      <td>0.318182</td>\n",
       "      <td>0.278700</td>\n",
       "      <td>0.044944</td>\n",
       "      <td>0.685714</td>\n",
       "      <td>0.729537</td>\n",
       "      <td>1</td>\n",
       "      <td>0</td>\n",
       "      <td>0</td>\n",
       "      <td>1</td>\n",
       "      <td>0</td>\n",
       "      <td>0</td>\n",
       "    </tr>\n",
       "    <tr>\n",
       "      <th>180</th>\n",
       "      <td>40.0</td>\n",
       "      <td>0.059253</td>\n",
       "      <td>0.242424</td>\n",
       "      <td>0.336889</td>\n",
       "      <td>0.044944</td>\n",
       "      <td>0.657143</td>\n",
       "      <td>0.512456</td>\n",
       "      <td>0</td>\n",
       "      <td>1</td>\n",
       "      <td>0</td>\n",
       "      <td>1</td>\n",
       "      <td>0</td>\n",
       "      <td>0</td>\n",
       "    </tr>\n",
       "    <tr>\n",
       "      <th>242</th>\n",
       "      <td>40.0</td>\n",
       "      <td>0.008725</td>\n",
       "      <td>0.318182</td>\n",
       "      <td>0.278700</td>\n",
       "      <td>0.067416</td>\n",
       "      <td>0.657143</td>\n",
       "      <td>0.740214</td>\n",
       "      <td>0</td>\n",
       "      <td>0</td>\n",
       "      <td>0</td>\n",
       "      <td>1</td>\n",
       "      <td>0</td>\n",
       "      <td>1</td>\n",
       "    </tr>\n",
       "    <tr>\n",
       "      <th>248</th>\n",
       "      <td>40.0</td>\n",
       "      <td>0.078265</td>\n",
       "      <td>0.318182</td>\n",
       "      <td>0.334465</td>\n",
       "      <td>0.056180</td>\n",
       "      <td>0.828571</td>\n",
       "      <td>0.747331</td>\n",
       "      <td>0</td>\n",
       "      <td>0</td>\n",
       "      <td>0</td>\n",
       "      <td>1</td>\n",
       "      <td>0</td>\n",
       "      <td>1</td>\n",
       "    </tr>\n",
       "  </tbody>\n",
       "</table>\n",
       "</div>"
      ],
      "text/plain": [
       "      age  creatinine_phosphokinase  ejection_fraction  platelets  \\\n",
       "269  40.0                  0.072796           0.318182   0.238696   \n",
       "232  40.0                  0.013804           0.318182   0.278700   \n",
       "180  40.0                  0.059253           0.242424   0.336889   \n",
       "242  40.0                  0.008725           0.318182   0.278700   \n",
       "248  40.0                  0.078265           0.318182   0.334465   \n",
       "\n",
       "     serum_creatinine  serum_sodium      time  anaemia  diabetes  \\\n",
       "269          0.056180      0.542857  0.854093        0         1   \n",
       "232          0.044944      0.685714  0.729537        1         0   \n",
       "180          0.044944      0.657143  0.512456        0         1   \n",
       "242          0.067416      0.657143  0.740214        0         0   \n",
       "248          0.056180      0.828571  0.747331        0         0   \n",
       "\n",
       "     high_blood_pressure  sex  DEATH_EVENT  smoking  \n",
       "269                    0    1            0        0  \n",
       "232                    0    1            0        0  \n",
       "180                    0    1            0        0  \n",
       "242                    0    1            0        1  \n",
       "248                    0    1            0        1  "
      ]
     },
     "execution_count": 42,
     "metadata": {},
     "output_type": "execute_result"
    }
   ],
   "source": [
    "df.head()"
   ]
  },
  {
   "cell_type": "code",
   "execution_count": 43,
   "id": "16067fac",
   "metadata": {},
   "outputs": [
    {
     "name": "stdout",
     "output_type": "stream",
     "text": [
      "AxesSubplot(0.125,0.125;0.62x0.755)\n"
     ]
    },
    {
     "data": {
      "image/png": "[encoded data removed]",
      "text/plain": [
       "<Figure size 648x504 with 2 Axes>"
      ]
     },
     "metadata": {
      "needs_background": "light"
     },
     "output_type": "display_data"
    }
   ],
   "source": [
    "plt.figure(figsize=(9,7))\n",
    "print (sns.heatmap(df.corr(), cmap='Reds', annot=True))"
   ]
  },
  {
   "cell_type": "code",
   "execution_count": 44,
   "id": "ba1957e5",
   "metadata": {},
   "outputs": [
    {
     "name": "stdout",
     "output_type": "stream",
     "text": [
      "(299, 12) (299,)\n"
     ]
    }
   ],
   "source": [
    "y1 = df['DEATH_EVENT'] # output class\n",
    "X1 = df.drop(['DEATH_EVENT'], axis=1)# input features\n",
    "print(X1.shape, y1.shape)"
   ]
  },
  {
   "cell_type": "code",
   "execution_count": 45,
   "id": "cf953b72",
   "metadata": {},
   "outputs": [],
   "source": [
    "import seaborn as sns\n",
    "import matplotlib as pl\n",
    "corelation = df.corr\n",
    "#plt.figure(figsize =(10,6))\n",
    "#sns.heatmap(corelation,annot = True)"
   ]
  },
  {
   "cell_type": "code",
   "execution_count": 46,
   "id": "7e9622f9",
   "metadata": {},
   "outputs": [
    {
     "data": {
      "text/plain": [
       "DecisionTreeClassifier(random_state=1)"
      ]
     },
     "execution_count": 46,
     "metadata": {},
     "output_type": "execute_result"
    }
   ],
   "source": [
    "# using decison tree classifier to select the importand features\n",
    "from sklearn.tree import DecisionTreeClassifier\n",
    "model = DecisionTreeClassifier(random_state=RANDOM_STATE)\n",
    "model.fit(X1, y1)"
   ]
  },
  {
   "cell_type": "code",
   "execution_count": 47,
   "id": "1ac7cbdb",
   "metadata": {},
   "outputs": [
    {
     "name": "stdout",
     "output_type": "stream",
     "text": [
      "age Score: 0.01878\n",
      "creatinine_phosphokinase Score: 0.10854\n",
      "ejection_fraction Score: 0.12518\n",
      "platelets Score: 0.04910\n",
      "serum_creatinine Score: 0.07981\n",
      "serum_sodium Score: 0.05085\n",
      "time Score: 0.48033\n",
      "anaemia Score: 0.02192\n",
      "diabetes Score: 0.01973\n",
      "high_blood_pressure Score: 0.00000\n",
      "sex Score: 0.04219\n",
      "smoking Score: 0.00358\n"
     ]
    },
    {
     "data": {
      "text/plain": [
       "<BarContainer object of 12 artists>"
      ]
     },
     "execution_count": 47,
     "metadata": {},
     "output_type": "execute_result"
    },
    {
     "data": {
      "image/png": "[encoded data removed]",
      "text/plain": [
       "<Figure size 432x288 with 1 Axes>"
      ]
     },
     "metadata": {
      "needs_background": "light"
     },
     "output_type": "display_data"
    }
   ],
   "source": [
    "# get importance of each feature \n",
    "importance = model.feature_importances_\n",
    "# summarize feature importance\n",
    "i=0\n",
    "for col in X1.columns:\n",
    "    #print(col,importance[i])\n",
    "    print(col,'Score: %.5f' % (importance[i]))\n",
    "    i=i+1\n",
    "plt.barh(X1.columns,importance)"
   ]
  },
  {
   "cell_type": "code",
   "execution_count": 48,
   "id": "f13b0889",
   "metadata": {},
   "outputs": [],
   "source": [
    "X1=X1.drop(['smoking','high_blood_pressure'], axis=1)"
   ]
  },
  {
   "cell_type": "code",
   "execution_count": 49,
   "id": "ce3cebd5",
   "metadata": {
    "tags": []
   },
   "outputs": [
    {
     "data": {
      "text/html": [
       "<div>\n",
       "<style scoped>\n",
       "    .dataframe tbody tr th:only-of-type {\n",
       "        vertical-align: middle;\n",
       "    }\n",
       "\n",
       "    .dataframe tbody tr th {\n",
       "        vertical-align: top;\n",
       "    }\n",
       "\n",
       "    .dataframe thead th {\n",
       "        text-align: right;\n",
       "    }\n",
       "</style>\n",
       "<table border=\"1\" class=\"dataframe\">\n",
       "  <thead>\n",
       "    <tr style=\"text-align: right;\">\n",
       "      <th></th>\n",
       "      <th>age</th>\n",
       "      <th>creatinine_phosphokinase</th>\n",
       "      <th>ejection_fraction</th>\n",
       "      <th>platelets</th>\n",
       "      <th>serum_creatinine</th>\n",
       "      <th>serum_sodium</th>\n",
       "      <th>time</th>\n",
       "      <th>anaemia</th>\n",
       "      <th>diabetes</th>\n",
       "      <th>sex</th>\n",
       "    </tr>\n",
       "  </thead>\n",
       "  <tbody>\n",
       "    <tr>\n",
       "      <th>269</th>\n",
       "      <td>40.0</td>\n",
       "      <td>0.072796</td>\n",
       "      <td>0.318182</td>\n",
       "      <td>0.238696</td>\n",
       "      <td>0.056180</td>\n",
       "      <td>0.542857</td>\n",
       "      <td>0.854093</td>\n",
       "      <td>0</td>\n",
       "      <td>1</td>\n",
       "      <td>1</td>\n",
       "    </tr>\n",
       "    <tr>\n",
       "      <th>232</th>\n",
       "      <td>40.0</td>\n",
       "      <td>0.013804</td>\n",
       "      <td>0.318182</td>\n",
       "      <td>0.278700</td>\n",
       "      <td>0.044944</td>\n",
       "      <td>0.685714</td>\n",
       "      <td>0.729537</td>\n",
       "      <td>1</td>\n",
       "      <td>0</td>\n",
       "      <td>1</td>\n",
       "    </tr>\n",
       "    <tr>\n",
       "      <th>180</th>\n",
       "      <td>40.0</td>\n",
       "      <td>0.059253</td>\n",
       "      <td>0.242424</td>\n",
       "      <td>0.336889</td>\n",
       "      <td>0.044944</td>\n",
       "      <td>0.657143</td>\n",
       "      <td>0.512456</td>\n",
       "      <td>0</td>\n",
       "      <td>1</td>\n",
       "      <td>1</td>\n",
       "    </tr>\n",
       "    <tr>\n",
       "      <th>242</th>\n",
       "      <td>40.0</td>\n",
       "      <td>0.008725</td>\n",
       "      <td>0.318182</td>\n",
       "      <td>0.278700</td>\n",
       "      <td>0.067416</td>\n",
       "      <td>0.657143</td>\n",
       "      <td>0.740214</td>\n",
       "      <td>0</td>\n",
       "      <td>0</td>\n",
       "      <td>1</td>\n",
       "    </tr>\n",
       "    <tr>\n",
       "      <th>248</th>\n",
       "      <td>40.0</td>\n",
       "      <td>0.078265</td>\n",
       "      <td>0.318182</td>\n",
       "      <td>0.334465</td>\n",
       "      <td>0.056180</td>\n",
       "      <td>0.828571</td>\n",
       "      <td>0.747331</td>\n",
       "      <td>0</td>\n",
       "      <td>0</td>\n",
       "      <td>1</td>\n",
       "    </tr>\n",
       "  </tbody>\n",
       "</table>\n",
       "</div>"
      ],
      "text/plain": [
       "      age  creatinine_phosphokinase  ejection_fraction  platelets  \\\n",
       "269  40.0                  0.072796           0.318182   0.238696   \n",
       "232  40.0                  0.013804           0.318182   0.278700   \n",
       "180  40.0                  0.059253           0.242424   0.336889   \n",
       "242  40.0                  0.008725           0.318182   0.278700   \n",
       "248  40.0                  0.078265           0.318182   0.334465   \n",
       "\n",
       "     serum_creatinine  serum_sodium      time  anaemia  diabetes  sex  \n",
       "269          0.056180      0.542857  0.854093        0         1    1  \n",
       "232          0.044944      0.685714  0.729537        1         0    1  \n",
       "180          0.044944      0.657143  0.512456        0         1    1  \n",
       "242          0.067416      0.657143  0.740214        0         0    1  \n",
       "248          0.056180      0.828571  0.747331        0         0    1  "
      ]
     },
     "execution_count": 49,
     "metadata": {},
     "output_type": "execute_result"
    }
   ],
   "source": [
    "X1.head()"
   ]
  },
  {
   "cell_type": "code",
   "execution_count": 50,
   "id": "1d34e4b3",
   "metadata": {},
   "outputs": [
    {
     "name": "stdout",
     "output_type": "stream",
     "text": [
      "(299, 10) (299,)\n"
     ]
    }
   ],
   "source": [
    "y = y1.to_numpy()\n",
    "X = X1.to_numpy()\n",
    "print(X.shape, y.shape)"
   ]
  },
  {
   "cell_type": "code",
   "execution_count": 51,
   "id": "5ffb3f3c",
   "metadata": {},
   "outputs": [
    {
     "name": "stdout",
     "output_type": "stream",
     "text": [
      "Counter({0: 203, 1: 96})\n"
     ]
    },
    {
     "data": {
      "image/png": "[encoded data removed]",
      "text/plain": [
       "<Figure size 432x288 with 1 Axes>"
      ]
     },
     "metadata": {
      "needs_background": "light"
     },
     "output_type": "display_data"
    }
   ],
   "source": [
    "\n",
    "#imbalanced classification dataset\n",
    "from collections import Counter\n",
    "from sklearn.datasets import make_classification\n",
    "from matplotlib import pyplot\n",
    "from numpy import where\n",
    "# summarize class distribution\n",
    "counter = Counter(y)\n",
    "print(counter)\n",
    "# scatter plot of examples by class death_event\n",
    "for label, _ in counter.items():\n",
    "    row_ix = where(y == label)[0]\n",
    "    pyplot.scatter(X[row_ix, 0], X[row_ix, 1], label=str(label))\n",
    "pyplot.legend()\n",
    "pyplot.show()"
   ]
  },
  {
   "cell_type": "code",
   "execution_count": 52,
   "id": "cf21436a",
   "metadata": {},
   "outputs": [],
   "source": [
    "from imblearn.over_sampling import SMOTE\n",
    "# transform the dataset\n",
    "oversample = SMOTE()\n",
    "X, y = oversample.fit_resample(X, y)"
   ]
  },
  {
   "cell_type": "code",
   "execution_count": 53,
   "id": "76bd973d",
   "metadata": {},
   "outputs": [
    {
     "name": "stdout",
     "output_type": "stream",
     "text": [
      "Counter({0: 203, 1: 203})\n"
     ]
    },
    {
     "data": {
      "image/png": "[encoded data removed]",
      "text/plain": [
       "<Figure size 432x288 with 1 Axes>"
      ]
     },
     "metadata": {
      "needs_background": "light"
     },
     "output_type": "display_data"
    }
   ],
   "source": [
    "# summarize the new class distribution\n",
    "counter = Counter(y)\n",
    "print(counter)\n",
    "# scatter plot of examples by class label\n",
    "for label, _ in counter.items():\n",
    "    row_ix = where(y == label)[0]\n",
    "    pyplot.scatter(X[row_ix, 0], X[row_ix, 1], label=str(label))\n",
    "pyplot.legend()\n",
    "pyplot.show()"
   ]
  },
  {
   "cell_type": "code",
   "execution_count": 54,
   "id": "3d110c46",
   "metadata": {},
   "outputs": [
    {
     "name": "stdout",
     "output_type": "stream",
     "text": [
      "(406, 10) (406,)\n"
     ]
    }
   ],
   "source": [
    "print(X.shape,y.shape)"
   ]
  },
  {
   "cell_type": "markdown",
   "id": "82be72fd",
   "metadata": {},
   "source": [
    "7.1- selecting the split"
   ]
  },
  {
   "cell_type": "code",
   "execution_count": 55,
   "id": "ff5c51b6",
   "metadata": {},
   "outputs": [
    {
     "name": "stdout",
     "output_type": "stream",
     "text": [
      "score on test: 0.819672131147541\n",
      "score on train: 1.0\n"
     ]
    }
   ],
   "source": [
    "from sklearn.model_selection import train_test_split\n",
    "X_train, X_test, y_train, y_test = train_test_split(X, y, test_size=0.3, random_state=RANDOM_STATE)\n",
    "clf = DecisionTreeClassifier(random_state=RANDOM_STATE)\n",
    "clf.fit(X_train, y_train)\n",
    "print(\"score on test: \"  + str(clf.score(X_test, y_test)))\n",
    "print(\"score on train: \" + str(clf.score(X_train, y_train)))"
   ]
  },
  {
   "cell_type": "code",
   "execution_count": 56,
   "id": "27894134",
   "metadata": {},
   "outputs": [
    {
     "name": "stdout",
     "output_type": "stream",
     "text": [
      "score on test: 0.7843137254901961\n",
      "score on train: 1.0\n"
     ]
    }
   ],
   "source": [
    "X_train, X_test, y_train, y_test = train_test_split(X, y, test_size=0.25, random_state=RANDOM_STATE)\n",
    "clf = DecisionTreeClassifier(random_state=RANDOM_STATE)\n",
    "clf.fit(X_train, y_train)\n",
    "print(\"score on test: \"  + str(clf.score(X_test, y_test)))\n",
    "print(\"score on train: \" + str(clf.score(X_train, y_train)))"
   ]
  },
  {
   "cell_type": "code",
   "execution_count": 57,
   "id": "c4d74122",
   "metadata": {},
   "outputs": [
    {
     "name": "stdout",
     "output_type": "stream",
     "text": [
      "score on test: 0.8536585365853658\n",
      "score on train: 1.0\n"
     ]
    }
   ],
   "source": [
    "\n",
    "X_train, X_test, y_train, y_test = train_test_split(X, y, test_size=0.2, random_state=RANDOM_STATE)\n",
    "clf = DecisionTreeClassifier(random_state=RANDOM_STATE)\n",
    "clf.fit(X_train, y_train)\n",
    "print(\"score on test: \"  + str(clf.score(X_test, y_test)))\n",
    "print(\"score on train: \" + str(clf.score(X_train, y_train)))"
   ]
  },
  {
   "cell_type": "code",
   "execution_count": null,
   "id": "d3f49e5a",
   "metadata": {},
   "outputs": [],
   "source": []
  },
  {
   "cell_type": "code",
   "execution_count": null,
   "id": "5ba700a6",
   "metadata": {},
   "outputs": [],
   "source": []
  },
  {
   "cell_type": "code",
   "execution_count": 58,
   "id": "21838fad",
   "metadata": {},
   "outputs": [
    {
     "name": "stdout",
     "output_type": "stream",
     "text": [
      "score on test: 0.7926829268292683\n",
      "score on train: 0.808641975308642\n"
     ]
    }
   ],
   "source": [
    "from sklearn.naive_bayes import MultinomialNB\n",
    "mnb = MultinomialNB().fit(X_train, y_train)\n",
    "print(\"score on test: \" + str(mnb.score(X_test, y_test)))\n",
    "print(\"score on train: \"+ str(mnb.score(X_train, y_train)))"
   ]
  },
  {
   "cell_type": "code",
   "execution_count": 59,
   "id": "e868f15a",
   "metadata": {},
   "outputs": [
    {
     "name": "stdout",
     "output_type": "stream",
     "text": [
      "score on test: 0.8048780487804879\n",
      "score on train: 0.8209876543209876\n"
     ]
    }
   ],
   "source": [
    "from sklearn.linear_model import LogisticRegression\n",
    "lr=LogisticRegression(max_iter=1000)\n",
    "lr.fit(X_train, y_train)\n",
    "print(\"score on test: \" + str(lr.score(X_test, y_test)))\n",
    "print(\"score on train: \"+ str(lr.score(X_train, y_train)))"
   ]
  },
  {
   "cell_type": "code",
   "execution_count": 60,
   "id": "d7ebe81b",
   "metadata": {},
   "outputs": [
    {
     "name": "stdout",
     "output_type": "stream",
     "text": [
      "train shape: (324, 10)\n",
      "score on test: 0.6951219512195121\n",
      "score on train: 0.8148148148148148\n"
     ]
    }
   ],
   "source": [
    "from sklearn.neighbors import KNeighborsClassifier\n",
    "knn = KNeighborsClassifier(algorithm = 'brute', n_jobs=-1)\n",
    "knn.fit(X_train, y_train)\n",
    "print(\"train shape: \" + str(X_train.shape))\n",
    "print(\"score on test: \" + str(knn.score(X_test, y_test)))\n",
    "print(\"score on train: \"+ str(knn.score(X_train, y_train)))"
   ]
  },
  {
   "cell_type": "code",
   "execution_count": 61,
   "id": "00eb86bc",
   "metadata": {},
   "outputs": [
    {
     "name": "stdout",
     "output_type": "stream",
     "text": [
      "score on test: 0.5\n",
      "score on train: 0.5\n"
     ]
    }
   ],
   "source": [
    "from sklearn.svm import LinearSVC\n",
    "svm=LinearSVC(C=0.0001)\n",
    "svm.fit(X_train, y_train)\n",
    "print(\"score on test: \" + str(svm.score(X_test, y_test)))\n",
    "print(\"score on train: \"+ str(svm.score(X_train, y_train)))"
   ]
  },
  {
   "cell_type": "code",
   "execution_count": 62,
   "id": "b47b1046",
   "metadata": {},
   "outputs": [
    {
     "name": "stdout",
     "output_type": "stream",
     "text": [
      "score on test: 0.8536585365853658\n",
      "score on train: 1.0\n"
     ]
    }
   ],
   "source": [
    "from sklearn.tree import DecisionTreeClassifier\n",
    "clf = DecisionTreeClassifier(random_state=RANDOM_STATE)\n",
    "clf.fit(X_train, y_train)\n",
    "print(\"score on test: \"  + str(clf.score(X_test, y_test)))\n",
    "print(\"score on train: \" + str(clf.score(X_train, y_train)))"
   ]
  },
  {
   "cell_type": "code",
   "execution_count": 63,
   "id": "1b9277a5",
   "metadata": {},
   "outputs": [
    {
     "name": "stdout",
     "output_type": "stream",
     "text": [
      "score on test: 0.8780487804878049\n",
      "score on train: 0.941358024691358\n"
     ]
    }
   ],
   "source": [
    "from sklearn.ensemble import BaggingClassifier\n",
    "from sklearn.tree import DecisionTreeClassifier\n",
    "# max_samples: maximum size 0.5=50% of each sample taken from the full dataset\n",
    "# max_features: maximum of features 1=100% taken here all 10K \n",
    "# n_estimators: number of decision trees \n",
    "bg=BaggingClassifier(DecisionTreeClassifier(random_state=RANDOM_STATE),max_samples=0.5,max_features=1.0,n_estimators=10,random_state=RANDOM_STATE)\n",
    "bg.fit(X_train, y_train)\n",
    "print(\"score on test: \" + str(bg.score(X_test, y_test)))\n",
    "print(\"score on train: \"+ str(bg.score(X_train, y_train)))"
   ]
  },
  {
   "cell_type": "code",
   "execution_count": 64,
   "id": "347f33b1",
   "metadata": {},
   "outputs": [
    {
     "name": "stdout",
     "output_type": "stream",
     "text": [
      "score on test: 0.9024390243902439\n",
      "score on train: 1.0\n"
     ]
    }
   ],
   "source": [
    "from sklearn.ensemble import AdaBoostClassifier\n",
    "from sklearn.tree import DecisionTreeClassifier\n",
    "adb = AdaBoostClassifier(DecisionTreeClassifier(min_samples_split=10,max_depth= 4),n_estimators=10,learning_rate=0.6,random_state=RANDOM_STATE)\n",
    "adb.fit(X_train, y_train)\n",
    "print(\"score on test: \" + str(adb.score(X_test, y_test)))\n",
    "print(\"score on train: \"+ str(adb.score(X_train, y_train)))"
   ]
  },
  {
   "cell_type": "code",
   "execution_count": 65,
   "id": "d9c970f8",
   "metadata": {},
   "outputs": [
    {
     "name": "stdout",
     "output_type": "stream",
     "text": [
      "score on test: 0.9146341463414634\n",
      "score on train: 1.0\n"
     ]
    }
   ],
   "source": [
    "from sklearn.ensemble import RandomForestClassifier\n",
    "# n_estimators = number of decision trees\n",
    "rf = RandomForestClassifier()\n",
    "rf.fit(X_train, y_train)\n",
    "print(\"score on test: \" + str(rf.score(X_test, y_test)))\n",
    "print(\"score on train: \"+ str(rf.score(X_train, y_train)))"
   ]
  },
  {
   "cell_type": "code",
   "execution_count": 66,
   "id": "9a719e4d",
   "metadata": {},
   "outputs": [
    {
     "name": "stdout",
     "output_type": "stream",
     "text": [
      "score on test: 0.8048780487804879\n",
      "score on train: 0.8487654320987654\n"
     ]
    }
   ],
   "source": [
    "from sklearn.ensemble import VotingClassifier\n",
    "# 1) naive bias = mnb\n",
    "# 2) logistic regression =lr\n",
    "# 3) random forest =rf\n",
    "# 4) support vector machine = svm\n",
    "evc=VotingClassifier(estimators=[('mnb',mnb),('lr',lr),('rf',rf),('svm',svm)],voting='hard')\n",
    "evc.fit(X_train, y_train)\n",
    "print(\"score on test: \" + str(evc.score(X_test, y_test)))\n",
    "print(\"score on train: \"+ str(evc.score(X_train, y_train)))"
   ]
  },
  {
   "cell_type": "code",
   "execution_count": 67,
   "id": "b8fd05f3",
   "metadata": {},
   "outputs": [
    {
     "name": "stdout",
     "output_type": "stream",
     "text": [
      "depth: 1\n",
      "Accuracy gini: 0.7926829268292683\n",
      "Accuracy etropy: 0.7926829268292683\n",
      "depth: 2\n",
      "Accuracy gini: 0.8780487804878049\n",
      "Accuracy etropy: 0.7926829268292683\n",
      "depth: 3\n",
      "Accuracy gini: 0.9024390243902439\n",
      "Accuracy etropy: 0.9024390243902439\n",
      "depth: 4\n",
      "Accuracy gini: 0.926829268292683\n",
      "Accuracy etropy: 0.8902439024390244\n",
      "depth: 5\n",
      "Accuracy gini: 0.9146341463414634\n",
      "Accuracy etropy: 0.8902439024390244\n",
      "depth: 6\n",
      "Accuracy gini: 0.9024390243902439\n",
      "Accuracy etropy: 0.8658536585365854\n",
      "depth: 7\n",
      "Accuracy gini: 0.8780487804878049\n",
      "Accuracy etropy: 0.8414634146341463\n",
      "depth: 8\n",
      "Accuracy gini: 0.8780487804878049\n",
      "Accuracy etropy: 0.7804878048780488\n",
      "depth: 9\n",
      "Accuracy gini: 0.8658536585365854\n",
      "Accuracy etropy: 0.7682926829268293\n"
     ]
    },
    {
     "data": {
      "text/plain": [
       "<matplotlib.legend.Legend at 0x1f3bc94f2b0>"
      ]
     },
     "execution_count": 67,
     "metadata": {},
     "output_type": "execute_result"
    },
    {
     "data": {
      "image/png": "[encoded data removed]",
      "text/plain": [
       "<Figure size 432x288 with 1 Axes>"
      ]
     },
     "metadata": {
      "needs_background": "light"
     },
     "output_type": "display_data"
    }
   ],
   "source": [
    "from sklearn.metrics import accuracy_score\n",
    "#This piece of code is to check how accuracy varies by increasing tree depth. This will help us pick max_depth hyperparameter. \n",
    "max_depth = []\n",
    "acc_gini = []\n",
    "acc_entropy = []\n",
    "for i in range(1,10):\n",
    " dtree = DecisionTreeClassifier(criterion='gini', max_depth=i, random_state=RANDOM_STATE)\n",
    " dtree.fit(X_train, y_train)\n",
    " pred = dtree.predict(X_test)\n",
    " Accuracy= accuracy_score(y_test, pred)\n",
    " print(\"depth:\",i )\n",
    " print(\"Accuracy gini:\",Accuracy)\n",
    " acc_gini.append(accuracy_score(y_test, pred))\n",
    " ####\n",
    " dtree = DecisionTreeClassifier(criterion='entropy', max_depth=i, random_state=RANDOM_STATE)\n",
    " dtree.fit(X_train, y_train)\n",
    " pred = dtree.predict(X_test)\n",
    " Accuracy= accuracy_score(y_test, pred)\n",
    " #print(\"depth:\",i )\n",
    " print(\"Accuracy etropy:\",Accuracy)\n",
    " acc_entropy.append(accuracy_score(y_test, pred))\n",
    " ####\n",
    " max_depth.append(i)\n",
    " d = pd.DataFrame({'acc_gini':pd.Series(acc_gini), \n",
    " 'acc_entropy':pd.Series(acc_entropy),\n",
    " 'max_depth':pd.Series(max_depth)})\n",
    "# visualizing changes in parameters\n",
    "plt.plot('max_depth','acc_gini', data=d, label='gini')\n",
    "plt.plot('max_depth','acc_entropy', data=d, label='entropy')\n",
    "plt.xlabel('max_depth')\n",
    "plt.ylabel('accuracy')\n",
    "plt.legend()"
   ]
  },
  {
   "cell_type": "code",
   "execution_count": 68,
   "id": "5ba8693f",
   "metadata": {},
   "outputs": [
    {
     "name": "stdout",
     "output_type": "stream",
     "text": [
      "n_estimators: 1\n",
      "Accuracy: 0.8292682926829268\n",
      "n_estimators: 2\n",
      "Accuracy: 0.8658536585365854\n",
      "n_estimators: 3\n",
      "Accuracy: 0.8780487804878049\n",
      "n_estimators: 4\n",
      "Accuracy: 0.8902439024390244\n",
      "n_estimators: 5\n",
      "Accuracy: 0.9146341463414634\n",
      "n_estimators: 6\n",
      "Accuracy: 0.926829268292683\n",
      "n_estimators: 7\n",
      "Accuracy: 0.9146341463414634\n",
      "n_estimators: 8\n",
      "Accuracy: 0.926829268292683\n",
      "n_estimators: 9\n",
      "Accuracy: 0.9390243902439024\n",
      "n_estimators: 10\n",
      "Accuracy: 0.926829268292683\n",
      "n_estimators: 11\n",
      "Accuracy: 0.9512195121951219\n",
      "n_estimators: 12\n",
      "Accuracy: 0.9512195121951219\n",
      "n_estimators: 13\n",
      "Accuracy: 0.9512195121951219\n",
      "n_estimators: 14\n",
      "Accuracy: 0.9512195121951219\n",
      "n_estimators: 15\n",
      "Accuracy: 0.9634146341463414\n",
      "n_estimators: 16\n",
      "Accuracy: 0.9390243902439024\n",
      "n_estimators: 17\n",
      "Accuracy: 0.9512195121951219\n",
      "n_estimators: 18\n",
      "Accuracy: 0.9390243902439024\n",
      "n_estimators: 19\n",
      "Accuracy: 0.9390243902439024\n"
     ]
    },
    {
     "data": {
      "text/plain": [
       "<matplotlib.legend.Legend at 0x1f3bc23b160>"
      ]
     },
     "execution_count": 68,
     "metadata": {},
     "output_type": "execute_result"
    },
    {
     "data": {
      "image/png": "[encoded data removed]",
      "text/plain": [
       "<Figure size 432x288 with 1 Axes>"
      ]
     },
     "metadata": {
      "needs_background": "light"
     },
     "output_type": "display_data"
    }
   ],
   "source": [
    "from sklearn.metrics import accuracy_score\n",
    "acc_entropy = []\n",
    "n_estimators=[]\n",
    "for i in range(1,20):\n",
    " #model = DecisionTreeClassifier(criterion='entropy', max_depth=i)\n",
    " model= RandomForestClassifier(n_estimators=i,criterion='gini',random_state=RANDOM_STATE)\n",
    " model.fit(X_train, y_train)\n",
    " pred = model.predict(X_test)\n",
    " Accuracy= accuracy_score(y_test, pred)\n",
    " acc_entropy.append(accuracy_score(y_test, pred))\n",
    " print(\"n_estimators:\",i )\n",
    " print(\"Accuracy:\",Accuracy)\n",
    " ####\n",
    " n_estimators.append(i)\n",
    "d = pd.DataFrame({'acc_entropy':pd.Series(acc_entropy),\n",
    " 'n_estimators':pd.Series(n_estimators)})\n",
    "# visualizing changes in parameters\n",
    "#plt.plot('max_depth','acc_gini', data=d, label='gini')\n",
    "plt.plot('n_estimators','acc_entropy', data=d, label='gini')\n",
    "plt.xlabel('n_estimators')\n",
    "plt.ylabel('accuracy')\n",
    "plt.legend()"
   ]
  },
  {
   "cell_type": "code",
   "execution_count": 69,
   "id": "5c7011d5",
   "metadata": {},
   "outputs": [
    {
     "name": "stdout",
     "output_type": "stream",
     "text": [
      "max_depth: 1\n",
      "Accuracy: 0.8536585365853658\n",
      "max_depth: 2\n",
      "Accuracy: 0.8536585365853658\n",
      "max_depth: 3\n",
      "Accuracy: 0.8902439024390244\n",
      "max_depth: 4\n",
      "Accuracy: 0.8902439024390244\n",
      "max_depth: 5\n",
      "Accuracy: 0.9024390243902439\n",
      "max_depth: 6\n",
      "Accuracy: 0.8902439024390244\n",
      "max_depth: 7\n",
      "Accuracy: 0.9512195121951219\n",
      "max_depth: 8\n",
      "Accuracy: 0.9146341463414634\n",
      "max_depth: 9\n",
      "Accuracy: 0.9512195121951219\n",
      "max_depth: 10\n",
      "Accuracy: 0.9512195121951219\n",
      "max_depth: 11\n",
      "Accuracy: 0.9634146341463414\n",
      "max_depth: 12\n",
      "Accuracy: 0.9512195121951219\n",
      "max_depth: 13\n",
      "Accuracy: 0.9634146341463414\n",
      "max_depth: 14\n",
      "Accuracy: 0.9634146341463414\n",
      "max_depth: 15\n",
      "Accuracy: 0.9634146341463414\n",
      "max_depth: 16\n",
      "Accuracy: 0.9634146341463414\n",
      "max_depth: 17\n",
      "Accuracy: 0.9634146341463414\n",
      "max_depth: 18\n",
      "Accuracy: 0.9634146341463414\n",
      "max_depth: 19\n",
      "Accuracy: 0.9634146341463414\n"
     ]
    },
    {
     "data": {
      "text/plain": [
       "<matplotlib.legend.Legend at 0x1f3bc9cf0d0>"
      ]
     },
     "execution_count": 69,
     "metadata": {},
     "output_type": "execute_result"
    },
    {
     "data": {
      "image/png": "[encoded data removed]",
      "text/plain": [
       "<Figure size 432x288 with 1 Axes>"
      ]
     },
     "metadata": {
      "needs_background": "light"
     },
     "output_type": "display_data"
    }
   ],
   "source": [
    "from sklearn.metrics import accuracy_score\n",
    "acc_entropy = []\n",
    "max_depth=[]\n",
    "for i in range(1,20):\n",
    " #model = DecisionTreeClassifier(criterion='entropy', max_depth=i)\n",
    " model= RandomForestClassifier(n_estimators=15,criterion='gini',random_state=RANDOM_STATE,max_depth= i)\n",
    " model.fit(X_train, y_train)\n",
    " pred = model.predict(X_test)\n",
    " Accuracy= accuracy_score(y_test, pred)\n",
    " acc_entropy.append(accuracy_score(y_test, pred))\n",
    " print(\"max_depth:\",i )\n",
    " print(\"Accuracy:\",Accuracy)\n",
    " ####\n",
    " max_depth.append(i)\n",
    "d = pd.DataFrame({'acc_entropy':pd.Series(acc_entropy),\n",
    " 'max_depth':pd.Series(max_depth)})\n",
    "# visualizing changes in parameters\n",
    "#plt.plot('max_depth','acc_gini', data=d, label='gini')\n",
    "plt.plot('max_depth','acc_entropy', data=d, label='gini')\n",
    "plt.xlabel('max_depth')\n",
    "plt.ylabel('accuracy')\n",
    "plt.legend()"
   ]
  },
  {
   "cell_type": "code",
   "execution_count": 70,
   "id": "24eb5f20",
   "metadata": {},
   "outputs": [
    {
     "name": "stdout",
     "output_type": "stream",
     "text": [
      "n_estimators: 1\n",
      "Accuracy: 0.926829268292683\n",
      "n_estimators: 2\n",
      "Accuracy: 0.926829268292683\n",
      "n_estimators: 3\n",
      "Accuracy: 0.926829268292683\n",
      "n_estimators: 4\n",
      "Accuracy: 0.9390243902439024\n",
      "n_estimators: 5\n",
      "Accuracy: 0.8902439024390244\n",
      "n_estimators: 6\n",
      "Accuracy: 0.8902439024390244\n",
      "n_estimators: 7\n",
      "Accuracy: 0.9024390243902439\n",
      "n_estimators: 8\n",
      "Accuracy: 0.8780487804878049\n",
      "n_estimators: 9\n",
      "Accuracy: 0.9024390243902439\n",
      "n_estimators: 10\n",
      "Accuracy: 0.9024390243902439\n",
      "n_estimators: 11\n",
      "Accuracy: 0.8780487804878049\n",
      "n_estimators: 12\n",
      "Accuracy: 0.8780487804878049\n",
      "n_estimators: 13\n",
      "Accuracy: 0.8780487804878049\n",
      "n_estimators: 14\n",
      "Accuracy: 0.8780487804878049\n",
      "n_estimators: 15\n",
      "Accuracy: 0.8780487804878049\n",
      "n_estimators: 16\n",
      "Accuracy: 0.8780487804878049\n",
      "n_estimators: 17\n",
      "Accuracy: 0.8780487804878049\n",
      "n_estimators: 18\n",
      "Accuracy: 0.8902439024390244\n",
      "n_estimators: 19\n",
      "Accuracy: 0.8658536585365854\n"
     ]
    },
    {
     "data": {
      "text/plain": [
       "<matplotlib.legend.Legend at 0x1f3b9631f70>"
      ]
     },
     "execution_count": 70,
     "metadata": {},
     "output_type": "execute_result"
    },
    {
     "data": {
      "image/png": "[encoded data removed]",
      "text/plain": [
       "<Figure size 432x288 with 1 Axes>"
      ]
     },
     "metadata": {
      "needs_background": "light"
     },
     "output_type": "display_data"
    }
   ],
   "source": [
    "acc_entropy = []\n",
    "n_estimators=[]\n",
    "for i in range(1,20):\n",
    " model= AdaBoostClassifier(DecisionTreeClassifier(max_depth= 4),n_estimators=i,random_state=RANDOM_STATE)\n",
    " model.fit(X_train, y_train)\n",
    " pred = model.predict(X_test)\n",
    " Accuracy= accuracy_score(y_test, pred)\n",
    " acc_entropy.append(accuracy_score(y_test, pred))\n",
    " print(\"n_estimators:\",i )\n",
    " print(\"Accuracy:\",Accuracy)\n",
    " ####\n",
    " n_estimators.append(i)\n",
    "d = pd.DataFrame({'acc_entropy':pd.Series(acc_entropy),\n",
    " 'n_estimators':pd.Series(n_estimators)})\n",
    "# visualizing changes in parameters\n",
    "#plt.plot('max_depth','acc_gini', data=d, label='gini')\n",
    "plt.plot('n_estimators','acc_entropy', data=d, label='gini')\n",
    "plt.xlabel('n_estimators')\n",
    "plt.ylabel('accuracy')\n",
    "plt.legend()"
   ]
  },
  {
   "cell_type": "markdown",
   "id": "c4340c67",
   "metadata": {},
   "source": [
    "7.2 Data mining and 7.3 Output and patterns"
   ]
  },
  {
   "cell_type": "code",
   "execution_count": 71,
   "id": "69e810e9",
   "metadata": {},
   "outputs": [
    {
     "name": "stdout",
     "output_type": "stream",
     "text": [
      "AdaBoostClassifier(base_estimator=DecisionTreeClassifier(max_depth=4),\n",
      "                   n_estimators=4, random_state=1)\n",
      "The accuracy of model AdaBoostClassifier is 0.94\n",
      "Accuracy on train set: 0.99\n",
      "Accuracy on test set: 0.94\n",
      "              precision    recall  f1-score   support\n",
      "\n",
      "           0       0.95      0.93      0.94        41\n",
      "           1       0.93      0.95      0.94        41\n",
      "\n",
      "    accuracy                           0.94        82\n",
      "   macro avg       0.94      0.94      0.94        82\n",
      "weighted avg       0.94      0.94      0.94        82\n",
      "\n"
     ]
    },
    {
     "data": {
      "image/png": "[encoded data removed]",
      "text/plain": [
       "<Figure size 324x324 with 1 Axes>"
      ]
     },
     "metadata": {
      "needs_background": "light"
     },
     "output_type": "display_data"
    },
    {
     "name": "stdout",
     "output_type": "stream",
     "text": [
      "\n",
      "\n",
      "RandomForestClassifier(max_depth=13, n_estimators=15, random_state=1)\n",
      "The accuracy of model RandomForestClassifier is 0.96\n",
      "Accuracy on train set: 1.00\n",
      "Accuracy on test set: 0.96\n",
      "              precision    recall  f1-score   support\n",
      "\n",
      "           0       0.95      0.98      0.96        41\n",
      "           1       0.97      0.95      0.96        41\n",
      "\n",
      "    accuracy                           0.96        82\n",
      "   macro avg       0.96      0.96      0.96        82\n",
      "weighted avg       0.96      0.96      0.96        82\n",
      "\n"
     ]
    },
    {
     "data": {
      "image/png": "[encoded data removed]",
      "text/plain": [
       "<Figure size 324x324 with 1 Axes>"
      ]
     },
     "metadata": {
      "needs_background": "light"
     },
     "output_type": "display_data"
    },
    {
     "name": "stdout",
     "output_type": "stream",
     "text": [
      "\n",
      "\n",
      "DecisionTreeClassifier(max_depth=4, random_state=1)\n",
      "The accuracy of model DecisionTreeClassifier is 0.93\n",
      "Accuracy on train set: 0.90\n",
      "Accuracy on test set: 0.93\n",
      "              precision    recall  f1-score   support\n",
      "\n",
      "           0       0.95      0.90      0.92        41\n",
      "           1       0.91      0.95      0.93        41\n",
      "\n",
      "    accuracy                           0.93        82\n",
      "   macro avg       0.93      0.93      0.93        82\n",
      "weighted avg       0.93      0.93      0.93        82\n",
      "\n"
     ]
    },
    {
     "data": {
      "image/png": "[encoded data removed]",
      "text/plain": [
       "<Figure size 324x324 with 1 Axes>"
      ]
     },
     "metadata": {
      "needs_background": "light"
     },
     "output_type": "display_data"
    },
    {
     "name": "stdout",
     "output_type": "stream",
     "text": [
      "\n",
      "\n"
     ]
    }
   ],
   "source": [
    "from sklearn.metrics import classification_report\n",
    "from sklearn.metrics import roc_curve, roc_auc_score\n",
    "\n",
    "DT= DecisionTreeClassifier(random_state=RANDOM_STATE, criterion=\"gini\",max_depth= 4) # using the random state for reproducibility\n",
    "AB= AdaBoostClassifier(DecisionTreeClassifier(max_depth= 4),n_estimators= 4,random_state=RANDOM_STATE)\n",
    "RF= RandomForestClassifier(n_estimators=15, random_state=RANDOM_STATE,criterion='gini',max_depth=13)\n",
    "\n",
    "\n",
    "# now, create a list with the models \n",
    "models= [AB,RF,DT]\n",
    "\n",
    "for model in models:\n",
    "    print(model)\n",
    "    X_train, X_test, y_train, y_test = train_test_split(X, y, test_size=0.2, random_state=RANDOM_STATE)# selected split 80:20\n",
    "    model.fit(X_train, y_train)\n",
    "    y_pred= model.predict(X_test) # then predict on the test set\n",
    "    accuracy= accuracy_score(y_test, y_pred) # this gives us how often the algorithm predicted correctly\n",
    "    clf_report= classification_report(y_test, y_pred) # with the report, we have a bigger picture, with precision and recall for each class\n",
    "    print(f\"The accuracy of model {type(model).__name__} is {accuracy:.2f}\")\n",
    "    score = model.score(X_train, y_train)\n",
    "    print('Accuracy on train set: {:.2f}'.format(score))\n",
    "    score = model.score(X_test, y_test)\n",
    "    print('Accuracy on test set: {:.2f}'.format(score))\n",
    "    print(clf_report)\n",
    "    proba = model.predict_proba(X_test)\n",
    "    fpr, tpr, threshold = roc_curve(y_test, proba[:, 1])\n",
    "    auc_score = roc_auc_score(y_test, proba[:, 1])\n",
    "    plt.figure(figsize=(4.5, 4.5))\n",
    "    plt.xlim(0., 1.1)\n",
    "    plt.ylim(0., 1.1)\n",
    "    plt.plot(fpr, tpr, label='ROC (AUC = %0.4f)' % auc_score)\n",
    "    plt.legend(loc='lower right')\n",
    "    plt.title(\"ROC Curve\")\n",
    "    plt.xlabel(\"FPR\")\n",
    "    plt.ylabel(\"TPR\")\n",
    "    plt.show()\n",
    "    print(\"\\n\")\n",
    "#tree.plot_tree(model)\n",
    "#plt.show()\n"
   ]
  },
  {
   "cell_type": "markdown",
   "id": "57c102e1",
   "metadata": {},
   "source": [
    "Predict the mortality using only clinical parameters such as ejection fraction and serum creatine."
   ]
  },
  {
   "cell_type": "code",
   "execution_count": 72,
   "id": "9a8a4f88",
   "metadata": {},
   "outputs": [],
   "source": [
    "X=df[[\"ejection_fraction\",\"serum_creatinine\"]].to_numpy()\n",
    "y = df['DEATH_EVENT'].to_numpy()# output class"
   ]
  },
  {
   "cell_type": "code",
   "execution_count": 73,
   "id": "6ece35c1",
   "metadata": {},
   "outputs": [
    {
     "name": "stdout",
     "output_type": "stream",
     "text": [
      "(299, 2) (299,)\n"
     ]
    }
   ],
   "source": [
    "print(X.shape, y.shape)"
   ]
  },
  {
   "cell_type": "code",
   "execution_count": 74,
   "id": "1137670a",
   "metadata": {},
   "outputs": [
    {
     "name": "stdout",
     "output_type": "stream",
     "text": [
      "AdaBoostClassifier(base_estimator=DecisionTreeClassifier(max_depth=4),\n",
      "                   n_estimators=4, random_state=1)\n",
      "The accuracy of model AdaBoostClassifier is 0.72\n",
      "Accuracy on train set: 0.87\n",
      "Accuracy on test set: 0.72\n",
      "              precision    recall  f1-score   support\n",
      "\n",
      "           0       0.77      0.82      0.80        40\n",
      "           1       0.59      0.50      0.54        20\n",
      "\n",
      "    accuracy                           0.72        60\n",
      "   macro avg       0.68      0.66      0.67        60\n",
      "weighted avg       0.71      0.72      0.71        60\n",
      "\n"
     ]
    },
    {
     "data": {
      "image/png": "[encoded data removed]",
      "text/plain": [
       "<Figure size 324x324 with 1 Axes>"
      ]
     },
     "metadata": {
      "needs_background": "light"
     },
     "output_type": "display_data"
    },
    {
     "name": "stdout",
     "output_type": "stream",
     "text": [
      "\n",
      "\n",
      "RandomForestClassifier(max_depth=13, n_estimators=15, random_state=1)\n",
      "The accuracy of model RandomForestClassifier is 0.73\n",
      "Accuracy on train set: 0.91\n",
      "Accuracy on test set: 0.73\n",
      "              precision    recall  f1-score   support\n",
      "\n",
      "           0       0.80      0.80      0.80        40\n",
      "           1       0.60      0.60      0.60        20\n",
      "\n",
      "    accuracy                           0.73        60\n",
      "   macro avg       0.70      0.70      0.70        60\n",
      "weighted avg       0.73      0.73      0.73        60\n",
      "\n"
     ]
    },
    {
     "data": {
      "image/png": "[encoded data removed]",
      "text/plain": [
       "<Figure size 324x324 with 1 Axes>"
      ]
     },
     "metadata": {
      "needs_background": "light"
     },
     "output_type": "display_data"
    },
    {
     "name": "stdout",
     "output_type": "stream",
     "text": [
      "\n",
      "\n",
      "DecisionTreeClassifier(max_depth=4, random_state=1)\n",
      "The accuracy of model DecisionTreeClassifier is 0.72\n",
      "Accuracy on train set: 0.77\n",
      "Accuracy on test set: 0.72\n",
      "              precision    recall  f1-score   support\n",
      "\n",
      "           0       0.76      0.85      0.80        40\n",
      "           1       0.60      0.45      0.51        20\n",
      "\n",
      "    accuracy                           0.72        60\n",
      "   macro avg       0.68      0.65      0.66        60\n",
      "weighted avg       0.70      0.72      0.70        60\n",
      "\n"
     ]
    },
    {
     "data": {
      "image/png": "[encoded data removed]",
      "text/plain": [
       "<Figure size 324x324 with 1 Axes>"
      ]
     },
     "metadata": {
      "needs_background": "light"
     },
     "output_type": "display_data"
    },
    {
     "name": "stdout",
     "output_type": "stream",
     "text": [
      "\n",
      "\n"
     ]
    },
    {
     "data": {
      "image/png": "[encoded data removed]",
      "text/plain": [
       "<Figure size 432x288 with 1 Axes>"
      ]
     },
     "metadata": {
      "needs_background": "light"
     },
     "output_type": "display_data"
    }
   ],
   "source": [
    "DT= DecisionTreeClassifier(random_state=RANDOM_STATE, criterion=\"gini\",max_depth= 4) # using the random state for reproducibility\n",
    "AB= AdaBoostClassifier(DecisionTreeClassifier(max_depth= 4),n_estimators= 4,random_state=RANDOM_STATE)\n",
    "RF= RandomForestClassifier(n_estimators=15, random_state=RANDOM_STATE,criterion='gini',max_depth=13)\n",
    "\n",
    "\n",
    "# now, create a list with the models \n",
    "models= [AB,RF,DT]\n",
    "\n",
    "for model in models:\n",
    "    print(model)\n",
    "    X_train, X_test, y_train, y_test = train_test_split(X, y, test_size=0.2, random_state=RANDOM_STATE)# selected split 80:20\n",
    "    model.fit(X_train, y_train)\n",
    "    y_pred= model.predict(X_test) # then predict on the test set\n",
    "    accuracy= accuracy_score(y_test, y_pred) # this gives us how often the algorithm predicted correctly\n",
    "    clf_report= classification_report(y_test, y_pred) # with the report, we have a bigger picture, with precision and recall for each class\n",
    "    print(f\"The accuracy of model {type(model).__name__} is {accuracy:.2f}\")\n",
    "    score = model.score(X_train, y_train)\n",
    "    print('Accuracy on train set: {:.2f}'.format(score))\n",
    "    score = model.score(X_test, y_test)\n",
    "    print('Accuracy on test set: {:.2f}'.format(score))\n",
    "    print(clf_report)\n",
    "    proba = model.predict_proba(X_test)\n",
    "    fpr, tpr, threshold = roc_curve(y_test, proba[:, 1])\n",
    "    auc_score = roc_auc_score(y_test, proba[:, 1])\n",
    "    plt.figure(figsize=(4.5, 4.5))\n",
    "    plt.xlim(0., 1.1)\n",
    "    plt.ylim(0., 1.1)\n",
    "    plt.plot(fpr, tpr, label='ROC (AUC = %0.4f)' % auc_score)\n",
    "    plt.legend(loc='lower right')\n",
    "    plt.title(\"ROC Curve\")\n",
    "    plt.xlabel(\"FPR\")\n",
    "    plt.ylabel(\"TPR\")\n",
    "    plt.show()\n",
    "    print(\"\\n\")\n",
    "tree.plot_tree(model)\n",
    "plt.show()\n"
   ]
  },
  {
   "cell_type": "code",
   "execution_count": 75,
   "id": "66796752",
   "metadata": {},
   "outputs": [],
   "source": [
    "oversample = SMOTE()\n",
    "X, y = oversample.fit_resample(X, y)"
   ]
  },
  {
   "cell_type": "code",
   "execution_count": 76,
   "id": "cd0f437e",
   "metadata": {
    "tags": []
   },
   "outputs": [
    {
     "name": "stdout",
     "output_type": "stream",
     "text": [
      "AdaBoostClassifier(base_estimator=DecisionTreeClassifier(max_depth=4),\n",
      "                   n_estimators=4, random_state=1)\n",
      "The accuracy of model AdaBoostClassifier is 0.79\n",
      "Accuracy on train set: 0.84\n",
      "Accuracy on test set: 0.79\n",
      "              precision    recall  f1-score   support\n",
      "\n",
      "           0       0.79      0.80      0.80        41\n",
      "           1       0.80      0.78      0.79        41\n",
      "\n",
      "    accuracy                           0.79        82\n",
      "   macro avg       0.79      0.79      0.79        82\n",
      "weighted avg       0.79      0.79      0.79        82\n",
      "\n"
     ]
    },
    {
     "data": {
      "image/png": "[encoded data removed]",
      "text/plain": [
       "<Figure size 324x324 with 1 Axes>"
      ]
     },
     "metadata": {
      "needs_background": "light"
     },
     "output_type": "display_data"
    },
    {
     "name": "stdout",
     "output_type": "stream",
     "text": [
      "\n",
      "\n",
      "RandomForestClassifier(max_depth=13, n_estimators=15, random_state=1)\n",
      "The accuracy of model RandomForestClassifier is 0.85\n",
      "Accuracy on train set: 0.90\n",
      "Accuracy on test set: 0.85\n",
      "              precision    recall  f1-score   support\n",
      "\n",
      "           0       0.81      0.93      0.86        41\n",
      "           1       0.91      0.78      0.84        41\n",
      "\n",
      "    accuracy                           0.85        82\n",
      "   macro avg       0.86      0.85      0.85        82\n",
      "weighted avg       0.86      0.85      0.85        82\n",
      "\n"
     ]
    },
    {
     "data": {
      "image/png": "[encoded data removed]",
      "text/plain": [
       "<Figure size 324x324 with 1 Axes>"
      ]
     },
     "metadata": {
      "needs_background": "light"
     },
     "output_type": "display_data"
    },
    {
     "name": "stdout",
     "output_type": "stream",
     "text": [
      "\n",
      "\n",
      "DecisionTreeClassifier(max_depth=4, random_state=1)\n",
      "The accuracy of model DecisionTreeClassifier is 0.82\n",
      "Accuracy on train set: 0.77\n",
      "Accuracy on test set: 0.82\n",
      "              precision    recall  f1-score   support\n",
      "\n",
      "           0       0.74      0.98      0.84        41\n",
      "           1       0.96      0.66      0.78        41\n",
      "\n",
      "    accuracy                           0.82        82\n",
      "   macro avg       0.85      0.82      0.81        82\n",
      "weighted avg       0.85      0.82      0.81        82\n",
      "\n"
     ]
    },
    {
     "data": {
      "image/png": "[encoded data removed]",
      "text/plain": [
       "<Figure size 324x324 with 1 Axes>"
      ]
     },
     "metadata": {
      "needs_background": "light"
     },
     "output_type": "display_data"
    },
    {
     "name": "stdout",
     "output_type": "stream",
     "text": [
      "\n",
      "\n"
     ]
    },
    {
     "data": {
      "image/png": "[encoded data removed]",
      "text/plain": [
       "<Figure size 432x288 with 1 Axes>"
      ]
     },
     "metadata": {
      "needs_background": "light"
     },
     "output_type": "display_data"
    }
   ],
   "source": [
    "DT= DecisionTreeClassifier(random_state=RANDOM_STATE, criterion=\"gini\",max_depth= 4) # using the random state for reproducibility\n",
    "AB= AdaBoostClassifier(DecisionTreeClassifier(max_depth= 4),n_estimators= 4,random_state=RANDOM_STATE)\n",
    "RF= RandomForestClassifier(n_estimators=15, random_state=RANDOM_STATE,criterion='gini',max_depth=13)\n",
    "\n",
    "\n",
    "# now, create a list with the models \n",
    "models= [AB,RF,DT]\n",
    "\n",
    "for model in models:\n",
    "    print(model)\n",
    "    X_train, X_test, y_train, y_test = train_test_split(X, y, test_size=0.2, random_state=RANDOM_STATE)# selected split 80:20\n",
    "    model.fit(X_train, y_train)\n",
    "    y_pred= model.predict(X_test) # then predict on the test set\n",
    "    accuracy= accuracy_score(y_test, y_pred) # this gives us how often the algorithm predicted correctly\n",
    "    clf_report= classification_report(y_test, y_pred) # with the report, we have a bigger picture, with precision and recall for each class\n",
    "    print(f\"The accuracy of model {type(model).__name__} is {accuracy:.2f}\")\n",
    "    score = model.score(X_train, y_train)\n",
    "    print('Accuracy on train set: {:.2f}'.format(score))\n",
    "    score = model.score(X_test, y_test)\n",
    "    print('Accuracy on test set: {:.2f}'.format(score))\n",
    "    print(clf_report)\n",
    "    proba = model.predict_proba(X_test)\n",
    "    fpr, tpr, threshold = roc_curve(y_test, proba[:, 1])\n",
    "    auc_score = roc_auc_score(y_test, proba[:, 1])\n",
    "    plt.figure(figsize=(4.5, 4.5))\n",
    "    plt.xlim(0., 1.1)\n",
    "    plt.ylim(0., 1.1)\n",
    "    plt.plot(fpr, tpr, label='ROC (AUC = %0.4f)' % auc_score)\n",
    "    plt.legend(loc='lower right')\n",
    "    plt.title(\"ROC Curve\")\n",
    "    plt.xlabel(\"FPR\")\n",
    "    plt.ylabel(\"TPR\")\n",
    "    plt.show()\n",
    "    print(\"\\n\")\n",
    "tree.plot_tree(model)\n",
    "plt.show()\n"
   ]
  },
  {
   "cell_type": "code",
   "execution_count": 77,
   "id": "384f57d4",
   "metadata": {},
   "outputs": [
    {
     "data": {
      "text/plain": [
       "RandomForestClassifier(max_depth=13, n_estimators=15, random_state=1)"
      ]
     },
     "execution_count": 77,
     "metadata": {},
     "output_type": "execute_result"
    }
   ],
   "source": [
    "DT= DecisionTreeClassifier(random_state=RANDOM_STATE, criterion=\"gini\",max_depth= 4) # using the random state for reproducibility\n",
    "DT.fit(X1,y1)\n",
    "AB= AdaBoostClassifier(DecisionTreeClassifier(max_depth= 4),n_estimators= 4,random_state=RANDOM_STATE)\n",
    "AB.fit(X1,y1)\n",
    "RF= RandomForestClassifier(n_estimators=15, random_state=RANDOM_STATE,criterion='gini',max_depth=13)\n",
    "RF.fit(X1,y1)"
   ]
  },
  {
   "cell_type": "code",
   "execution_count": 78,
   "id": "35371b1b",
   "metadata": {},
   "outputs": [
    {
     "name": "stdout",
     "output_type": "stream",
     "text": [
      "age Score: 0.03608\n",
      "creatinine_phosphokinase Score: 0.03456\n",
      "ejection_fraction Score: 0.11816\n",
      "platelets Score: 0.00000\n",
      "serum_creatinine Score: 0.09905\n",
      "serum_sodium Score: 0.02374\n",
      "time Score: 0.65657\n",
      "anaemia Score: 0.03183\n",
      "diabetes Score: 0.00000\n",
      "sex Score: 0.00000\n"
     ]
    },
    {
     "data": {
      "text/plain": [
       "<BarContainer object of 10 artists>"
      ]
     },
     "execution_count": 78,
     "metadata": {},
     "output_type": "execute_result"
    },
    {
     "data": {
      "image/png": "[encoded data removed]",
      "text/plain": [
       "<Figure size 432x288 with 1 Axes>"
      ]
     },
     "metadata": {
      "needs_background": "light"
     },
     "output_type": "display_data"
    }
   ],
   "source": [
    "# get importance of each feature \n",
    "importance = DT.feature_importances_\n",
    "# summarize feature importance\n",
    "i=0\n",
    "for col in X1.columns:\n",
    "    #print(col,importance[i])\n",
    "    print(col,'Score: %.5f' % (importance[i]))\n",
    "    i=i+1\n",
    "plt.barh(X1.columns,importance)"
   ]
  },
  {
   "cell_type": "code",
   "execution_count": 79,
   "id": "23af7776",
   "metadata": {},
   "outputs": [
    {
     "name": "stdout",
     "output_type": "stream",
     "text": [
      "age Score: 0.07791\n",
      "creatinine_phosphokinase Score: 0.09489\n",
      "ejection_fraction Score: 0.11062\n",
      "platelets Score: 0.08781\n",
      "serum_creatinine Score: 0.13873\n",
      "serum_sodium Score: 0.05275\n",
      "time Score: 0.40953\n",
      "anaemia Score: 0.01280\n",
      "diabetes Score: 0.00496\n",
      "sex Score: 0.01000\n"
     ]
    },
    {
     "data": {
      "text/plain": [
       "<BarContainer object of 10 artists>"
      ]
     },
     "execution_count": 79,
     "metadata": {},
     "output_type": "execute_result"
    },
    {
     "data": {
      "image/png": "[encoded data removed]",
      "text/plain": [
       "<Figure size 432x288 with 1 Axes>"
      ]
     },
     "metadata": {
      "needs_background": "light"
     },
     "output_type": "display_data"
    }
   ],
   "source": [
    "# get importance of each feature \n",
    "importance = RF.feature_importances_\n",
    "# summarize feature importance\n",
    "i=0\n",
    "for col in X1.columns:\n",
    "    #print(col,importance[i])\n",
    "    print(col,'Score: %.5f' % (importance[i]))\n",
    "    i=i+1\n",
    "plt.barh(X1.columns,importance)"
   ]
  },
  {
   "cell_type": "code",
   "execution_count": 80,
   "id": "25d4fc3e",
   "metadata": {
    "tags": []
   },
   "outputs": [
    {
     "name": "stdout",
     "output_type": "stream",
     "text": [
      "age Score: 0.03632\n",
      "creatinine_phosphokinase Score: 0.08583\n",
      "ejection_fraction Score: 0.09110\n",
      "platelets Score: 0.24067\n",
      "serum_creatinine Score: 0.05942\n",
      "serum_sodium Score: 0.11963\n",
      "time Score: 0.33857\n",
      "anaemia Score: 0.00796\n",
      "diabetes Score: 0.00000\n",
      "sex Score: 0.02051\n"
     ]
    },
    {
     "data": {
      "text/plain": [
       "<BarContainer object of 10 artists>"
      ]
     },
     "execution_count": 80,
     "metadata": {},
     "output_type": "execute_result"
    },
    {
     "data": {
      "image/png": "[encoded data removed]",
      "text/plain": [
       "<Figure size 432x288 with 1 Axes>"
      ]
     },
     "metadata": {
      "needs_background": "light"
     },
     "output_type": "display_data"
    }
   ],
   "source": [
    "# get importance of each feature \n",
    "importance = AB.feature_importances_\n",
    "# summarize feature importance\n",
    "i=0\n",
    "for col in X1.columns:\n",
    "    #print(col,importance[i])\n",
    "    print(col,'Score: %.5f' % (importance[i]))\n",
    "    i=i+1\n",
    "plt.barh(X1.columns,importance)"
   ]
  },
  {
   "cell_type": "code",
   "execution_count": 81,
   "id": "c8a0c765",
   "metadata": {},
   "outputs": [
    {
     "name": "stdout",
     "output_type": "stream",
     "text": [
      "(299, 12) (299,)\n"
     ]
    }
   ],
   "source": [
    "# Split data before boosting\n",
    "y = df['DEATH_EVENT'].to_numpy()\n",
    "X = df.drop(['DEATH_EVENT'], axis=1).to_numpy()\n",
    "\n",
    "print(X.shape, y.shape)"
   ]
  },
  {
   "cell_type": "code",
   "execution_count": 82,
   "id": "5f5b87df",
   "metadata": {},
   "outputs": [
    {
     "name": "stdout",
     "output_type": "stream",
     "text": [
      "AdaBoostClassifier(base_estimator=DecisionTreeClassifier(max_depth=4),\n",
      "                   n_estimators=4, random_state=1)\n",
      "The accuracy of model AdaBoostClassifier is 0.92\n",
      "Accuracy on train set: 1.00\n",
      "Accuracy on test set: 0.92\n",
      "              precision    recall  f1-score   support\n",
      "\n",
      "           0       0.97      0.90      0.94        40\n",
      "           1       0.83      0.95      0.88        20\n",
      "\n",
      "    accuracy                           0.92        60\n",
      "   macro avg       0.90      0.93      0.91        60\n",
      "weighted avg       0.92      0.92      0.92        60\n",
      "\n"
     ]
    },
    {
     "data": {
      "image/png": "[encoded data removed]",
      "text/plain": [
       "<Figure size 324x324 with 1 Axes>"
      ]
     },
     "metadata": {
      "needs_background": "light"
     },
     "output_type": "display_data"
    },
    {
     "name": "stdout",
     "output_type": "stream",
     "text": [
      "\n",
      "\n",
      "RandomForestClassifier(max_depth=13, n_estimators=15, random_state=1)\n",
      "The accuracy of model RandomForestClassifier is 0.83\n",
      "Accuracy on train set: 1.00\n",
      "Accuracy on test set: 0.83\n",
      "              precision    recall  f1-score   support\n",
      "\n",
      "           0       0.89      0.85      0.87        40\n",
      "           1       0.73      0.80      0.76        20\n",
      "\n",
      "    accuracy                           0.83        60\n",
      "   macro avg       0.81      0.82      0.82        60\n",
      "weighted avg       0.84      0.83      0.84        60\n",
      "\n"
     ]
    },
    {
     "data": {
      "image/png": "[encoded data removed]",
      "text/plain": [
       "<Figure size 324x324 with 1 Axes>"
      ]
     },
     "metadata": {
      "needs_background": "light"
     },
     "output_type": "display_data"
    },
    {
     "name": "stdout",
     "output_type": "stream",
     "text": [
      "\n",
      "\n",
      "DecisionTreeClassifier(max_depth=4, random_state=1)\n",
      "The accuracy of model DecisionTreeClassifier is 0.83\n",
      "Accuracy on train set: 0.91\n",
      "Accuracy on test set: 0.83\n",
      "              precision    recall  f1-score   support\n",
      "\n",
      "           0       0.86      0.90      0.88        40\n",
      "           1       0.78      0.70      0.74        20\n",
      "\n",
      "    accuracy                           0.83        60\n",
      "   macro avg       0.82      0.80      0.81        60\n",
      "weighted avg       0.83      0.83      0.83        60\n",
      "\n"
     ]
    },
    {
     "data": {
      "image/png": "[encoded data removed]",
      "text/plain": [
       "<Figure size 324x324 with 1 Axes>"
      ]
     },
     "metadata": {
      "needs_background": "light"
     },
     "output_type": "display_data"
    },
    {
     "name": "stdout",
     "output_type": "stream",
     "text": [
      "\n",
      "\n"
     ]
    },
    {
     "data": {
      "image/png": "[encoded data removed]",
      "text/plain": [
       "<Figure size 432x288 with 1 Axes>"
      ]
     },
     "metadata": {
      "needs_background": "light"
     },
     "output_type": "display_data"
    }
   ],
   "source": [
    "DT= DecisionTreeClassifier(random_state=RANDOM_STATE, criterion=\"gini\",max_depth= 4) # using the random state for reproducibility\n",
    "AB= AdaBoostClassifier(DecisionTreeClassifier(max_depth= 4),n_estimators= 4,random_state=RANDOM_STATE)\n",
    "RF= RandomForestClassifier(n_estimators=15, random_state=RANDOM_STATE,criterion='gini',max_depth=13)\n",
    "\n",
    "\n",
    "# now, create a list with the models \n",
    "models= [AB,RF,DT]\n",
    "\n",
    "for model in models:\n",
    "    print(model)\n",
    "    X_train, X_test, y_train, y_test = train_test_split(X, y, test_size=0.2, random_state=RANDOM_STATE)# selected split 80:20\n",
    "    model.fit(X_train, y_train)\n",
    "    y_pred= model.predict(X_test) # then predict on the test set\n",
    "    accuracy= accuracy_score(y_test, y_pred) # this gives us how often the algorithm predicted correctly\n",
    "    clf_report= classification_report(y_test, y_pred) # with the report, we have a bigger picture, with precision and recall for each class\n",
    "    print(f\"The accuracy of model {type(model).__name__} is {accuracy:.2f}\")\n",
    "    score = model.score(X_train, y_train)\n",
    "    print('Accuracy on train set: {:.2f}'.format(score))\n",
    "    score = model.score(X_test, y_test)\n",
    "    print('Accuracy on test set: {:.2f}'.format(score))\n",
    "    print(clf_report)\n",
    "    proba = model.predict_proba(X_test)\n",
    "    fpr, tpr, threshold = roc_curve(y_test, proba[:, 1])\n",
    "    auc_score = roc_auc_score(y_test, proba[:, 1])\n",
    "    plt.figure(figsize=(4.5, 4.5))\n",
    "    plt.xlim(0., 1.1)\n",
    "    plt.ylim(0., 1.1)\n",
    "    plt.plot(fpr, tpr, label='ROC (AUC = %0.4f)' % auc_score)\n",
    "    plt.legend(loc='lower right')\n",
    "    plt.title(\"ROC Curve\")\n",
    "    plt.xlabel(\"FPR\")\n",
    "    plt.ylabel(\"TPR\")\n",
    "    plt.show()\n",
    "    print(\"\\n\")\n",
    "tree.plot_tree(model)\n",
    "plt.show()\n"
   ]
  },
  {
   "cell_type": "code",
   "execution_count": null,
   "id": "a8b6dce7",
   "metadata": {},
   "outputs": [],
   "source": []
  }
 ],
 "metadata": {
  "kernelspec": {
   "display_name": "Python 3",
   "language": "python",
   "name": "python3"
  },
  "language_info": {
   "codemirror_mode": {
    "name": "ipython",
    "version": 3
   },
   "file_extension": ".py",
   "mimetype": "text/x-python",
   "name": "python",
   "nbconvert_exporter": "python",
   "pygments_lexer": "ipython3",
   "version": "3.9.4"
  }
 },
 "nbformat": 4,
 "nbformat_minor": 5
}
